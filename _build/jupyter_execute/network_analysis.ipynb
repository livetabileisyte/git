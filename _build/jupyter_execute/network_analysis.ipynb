{
 "cells": [
  {
   "cell_type": "markdown",
   "metadata": {
    "id": "dswy8iP55Kra"
   },
   "source": [
    "# Network analysis with NetworkX\n",
    "\n",
    "This lab provides an introduction to the study of social networks. Network data and network analysis focus on the _relationships_ between entities, including individuals, organisations, countries, and other entities. In the course so far, the data we have studied were from different sources, including digital, administrative, and survey sources, but with one common feature — these were tabular data. Tabular data is structured into rows, each representing a distinct observation (e.g., individuals, counties) and columns representing observations' attributes. By contrast, in network data we are not primarily interested in the attributes of distinct observations but in the relationships between those observations.\n",
    "\n",
    "A network is a set of nodes (also called vertices) and a set of edges (also called links) between them. In networks, nodes represent individuals (or other entities, including countries, organisations, and Web pages) and links represent various social ties, including friendship, kinship, acquaintanceship, or hyperlinks.\n",
    "\n",
    "Network analysis studies the patterns of relationships that emerge from the interaction of individuals or other entities. Such patterns are often described as _network structure_. Network structure can be characterised at different scales: \n",
    "* local scale (e.g., nodes, dyads, and triads)\n",
    "* meso-scale (e.g., network communities)\n",
    "* macro-scale (e.g., network diameter)\n",
    "\n",
    "Different metrics and methods have been developed to measure properties of network structure at the local, meso, and macro scales. For example, community detection methods have been developed to study meso-scale network structure. \n",
    "\n",
    "The rationale of network analysis is that the position of a node in a network affects relevant social outcomes, for example node importance and performance in a social system. An overview of network analysis can be found in [Wasserman and Faust (1994)](https://books.google.co.uk/books?id=CAm2DpIqRUIC&printsec=frontcover&redir_esc=y#v=onepage&q&f=false) and [Newman (2018)](https://global.oup.com/academic/product/networks-9780198805090?cc=us&lang=en&).\n",
    "\n",
    "In this lab, we will first create and study a small toy network in order to build an intuition about basic network concepts and diagnostics. We will then study a social network of characters in the movie Star Wars Episode IV: A New Hope.\n",
    "\n",
    "## Learning resources\n",
    "\n",
    "<i class=\"fas fa-scroll\"></i> Stephen Borgatti, Ajay Mehra, Daniel Brass, Giuseppe Labianca. 2009. [Network Analysis in the Social Sciences.](https://science.sciencemag.org/content/323/5916/892/tab-pdf) Science.\n",
    "\n",
    "<i class=\"fas fa-scroll\"></i> Petter Holme, Mason A. Porter, Hiroki Sayama. [Who Is the Most Important Character in Frozen? What Networks Can Tell Us About the World](https://kids.frontiersin.org/articles/10.3389/frym.2019.00099). Frontiers for Young Minds.\n",
    "\n",
    "<i class=\"fas fa-play-circle\"></i> Mark Newman. [1. The Connected World](https://www.youtube.com/watch?v=yAtsm5xkb5c) and [2. What Networks Can Tell Us About the World](https://www.youtube.com/watch?v=lETt7IcDWLI). Santa Fe Institute.\n",
    "\n",
    "<i class=\"fas fa-code\"></i> Rob Chew’s and Peter Baumgartner [Connected: A Social Network Analysis Tutorial with NetworkX.](https://www.youtube.com/watch?v=7fsreJMy_pI) PyData 2016. Authors’ Jupyter notebooks are available on [GitHub](https://github.com/rtidatascience/connected-nx-tutorial/tree/master/notebooks).\n",
    "\n",
    "<i class=\"fas fa-book\"></i> <i class=\"fas fa-code\"></i> Menczer, F., Fortunato, S., Davis, C. 2020. A First Course in Network Science. Cambridge University Press. Authors’ Jupyter notebooks are available on [GitHub](https://github.com/CambridgeUniversityPress/FirstCourseNetworkScience). \n",
    "\n",
    "<i class=\"fas fa-book\"></i> <i class=\"fas fa-code\"></i> Edward L. Platt. 2020. Network Science with Python and NetworkX Quick Start Guide: Explore and visualize network data effectively. Packt Publishing. Author’s Jupyter notebooks are available on [GitHub](https://github.com/PacktPublishing/Network-Science-with-Python-and-NetworkX-Quick-Start-Guide).\n",
    "\n",
    "<i class=\"fas fa-scroll\"></i> Santo Fortunato and Darko Hric. 2016. [Community detection in networks: A user guide.](https://arxiv.org/pdf/1608.00163.pdf). Physics Reports. An open access version of the article is available on the [arXiv](https://arxiv.org/pdf/1608.00163.pdf).\n",
    "\n",
    "<i class=\"fas fa-scroll\"></i> Mason A. Porter, Jukka-Pekka Onnela, Peter J. Mucha. 2009. [Communities in Networks.](https://www.ams.org/notices/200909/rtx090901082p.pdf) Notices of the AMS.\n",
    "\n",
    "<i class=\"fas fa-scroll\"></i> Valentin Danchev and Mason A. Porter. 2018. [Neither global nor local: Heterogeneous connectivity in spatial network structures of world migration](https://www.math.ucla.edu/~mason/papers/danchev2018-final-with_supp.pdf). Social Networks.\n",
    "\n",
    "<i class=\"fas fa-code\"></i> [NetworkX tutorial.](https://networkx.org/documentation/networkx-2.0/tutorial.html)\n",
    "  \n",
    "## Networks and COVID-19\n",
    "\n",
    "<i class=\"fas fa-scroll\"></i> [Mapping the Social Network of Coronavirus](https://www.nytimes.com/2020/03/13/science/coronavirus-social-networks-data.html). New York Times.\n",
    "\n",
    "<i class=\"fas fa-scroll\"></i> David Holtz et al. [Interdependence and the cost of uncoordinated responses to COVID-19.](https://www.pnas.org/content/117/33/19837) PNAS.\n",
    "\n",
    "<i class=\"fas fa-scroll\"></i> S. Chang, E. Pierson, P. W. Koh, J. Gerardin, B. Redbird, D. Grusky, J. Leskovec. [Mobility network models of COVID-19 explain inequities and inform reopening.](https://cs.stanford.edu/people/jure/pubs/covid-nature20.pdf) Nature."
   ]
  },
  {
   "cell_type": "markdown",
   "metadata": {},
   "source": [
    "# Open network data repositories\n",
    "* [Network Repository. An Interactive Scientific Network Data Repository.](http://networkrepository.com/index.php)\n",
    "* [Mark Newman's website](http://www-personal.umich.edu/~mejn/netdata/)\n",
    "* [Pajek datasets](http://vlado.fmf.uni-lj.si/pub/networks/data/default.htm)\n",
    "* [Stanford Large Network Dataset Collection](http://snap.stanford.edu/data/index.html)\n",
    "* [Moviegalaxies—Social networks in movies](https://moviegalaxies.com)"
   ]
  },
  {
   "cell_type": "markdown",
   "metadata": {
    "id": "4SJZVt_M5Krj"
   },
   "source": [
    "## NetworkX\n",
    "\n",
    "We will perform network analysis using [NetworkX](https://networkx.org). NetworkX is a Python library for creating, analysing, and visualising networks: \n",
    "* written in pure Python\n",
    "* flexible and easy to install\n",
    "* relatively scalable\n",
    "\n",
    "\n",
    "![](https://networkx.org/_static/networkx_logo.svg)"
   ]
  },
  {
   "cell_type": "markdown",
   "metadata": {
    "id": "2WHo7XPA5Krk"
   },
   "source": [
    "## Other Python libraries for network analysis\n",
    "* [python-igraph](https://igraph.org/python/)  \n",
    "    * written in C/C++ with interfaces to Python and R \n",
    "    * pros: performance and speed; cons: installation can be a hurdle\n",
    "* [graph-tool](https://graph-tool.skewed.de)\n",
    "    * written in C++\n",
    "    * fast algorithms and powerful visualisations\n",
    "* [Pymnet](http://www.mkivela.com/pymnet/): Multilayer Networks Library for Python\n",
    "    * written in Python, based on Matplotlib and integrated with NetworkX \n",
    "    * handle multilayer networks: analysis and visualisation"
   ]
  },
  {
   "cell_type": "markdown",
   "metadata": {},
   "source": [
    "# Network representations\n",
    "\n",
    "Below are four different representations of a network. Those four different network representations refer to the same set of nodes and the same set of edges connecting those nodes. \n",
    "\n",
    "In the network, each person is a _node_. For example, Nancy is a node (ID 3) connected to three other nodes: Emma (ID 2), John (ID 4), and Emily (ID 5). Those three people are _neighbors_ of Nancy. In network terms, Nancy has a _degree_ of three. Similarly, Sophie has two neighbors (i.e., nodes to which Sophie is connected) so we say she has a degree of two.\n",
    "\n",
    "This is an example of a simple network. Simple networks are characterised as:\n",
    "* Undirected — edges between each pair of nodes have no direction such that if an edge from node A to node B is present, the edge from B to A is also present. By contrast, in directed networks, edges point to only one direction.\n",
    "* Unweighted — edges between each pair of nodes are either present or absent. By contrast, in weighted networks, edges have weights assigned to them.\n",
    "\n",
    "\n",
    "\n",
    "![title](network_representation_undirected.png)"
   ]
  },
  {
   "cell_type": "code",
   "execution_count": 1,
   "metadata": {},
   "outputs": [],
   "source": [
    "# Import Networkx and other packages we will use\n",
    "\n",
    "import networkx as nx\n",
    "import matplotlib.pyplot as plt\n",
    "import pandas as pd\n",
    "from scipy.stats.stats import pearsonr\n",
    "%matplotlib inline"
   ]
  },
  {
   "cell_type": "markdown",
   "metadata": {
    "id": "wVUAOvxA5Krm"
   },
   "source": [
    "# Creating an undirected network\n",
    "\n",
    "We begin by creating an empty undirected network using the `networkX` function `Graph()`. The created empty network has no nodes and no edges."
   ]
  },
  {
   "cell_type": "code",
   "execution_count": 2,
   "metadata": {
    "id": "ezIlZJ495Krm"
   },
   "outputs": [],
   "source": [
    "# Create an empty network\n",
    "G = nx.Graph()\n",
    "# G = nx.DiGraph() # Would create a directed network"
   ]
  },
  {
   "cell_type": "markdown",
   "metadata": {},
   "source": [
    "Let's add a colection nodes. "
   ]
  },
  {
   "cell_type": "code",
   "execution_count": 3,
   "metadata": {},
   "outputs": [],
   "source": [
    "# Add nodes\n",
    "G.add_node(1)\n",
    "\n",
    "# Alternatively, you can add a set of nodes from a list\n",
    "G.add_nodes_from([2,3,4,5,6])"
   ]
  },
  {
   "cell_type": "markdown",
   "metadata": {},
   "source": [
    "Let's now add a collection of edges connecting the nodes. "
   ]
  },
  {
   "cell_type": "code",
   "execution_count": 4,
   "metadata": {
    "id": "AxMHjfEYZso5"
   },
   "outputs": [],
   "source": [
    "# Add edges\n",
    "G.add_edge(1,2)\n",
    "G.add_edge(1,4)\n",
    "\n",
    "# Alternatively, you can add a set of edges from a list\n",
    "G.add_edges_from([(1,5),(2,4),(2,6),(3,4),(5,6)])"
   ]
  },
  {
   "cell_type": "code",
   "execution_count": 5,
   "metadata": {
    "colab": {
     "base_uri": "https://localhost:8080/"
    },
    "executionInfo": {
     "elapsed": 1892,
     "status": "ok",
     "timestamp": 1616452991266,
     "user": {
      "displayName": "Valentin Danchev",
      "photoUrl": "https://lh3.googleusercontent.com/a-/AOh14Gh90YzToc2qd-IrJXNzgu3LRVLxkU3sMg1swbMwzg=s64",
      "userId": "02219535538470165535"
     },
     "user_tz": 0
    },
    "id": "xTur65FlaMWX",
    "outputId": "2150688c-691a-41f9-c62d-445543dc6137"
   },
   "outputs": [
    {
     "data": {
      "text/plain": [
       "EdgeView([(1, 2), (1, 4), (1, 5), (2, 4), (2, 6), (3, 4), (5, 6)])"
      ]
     },
     "execution_count": 5,
     "metadata": {},
     "output_type": "execute_result"
    }
   ],
   "source": [
    "# Check the created edges\n",
    "G.edges()"
   ]
  },
  {
   "cell_type": "markdown",
   "metadata": {},
   "source": [
    "Examine basic properties of the graph using the `info()` function."
   ]
  },
  {
   "cell_type": "code",
   "execution_count": 6,
   "metadata": {
    "colab": {
     "base_uri": "https://localhost:8080/"
    },
    "executionInfo": {
     "elapsed": 1878,
     "status": "ok",
     "timestamp": 1616452991267,
     "user": {
      "displayName": "Valentin Danchev",
      "photoUrl": "https://lh3.googleusercontent.com/a-/AOh14Gh90YzToc2qd-IrJXNzgu3LRVLxkU3sMg1swbMwzg=s64",
      "userId": "02219535538470165535"
     },
     "user_tz": 0
    },
    "id": "Bb2Rnpi-5Kro",
    "outputId": "71cc3949-6ea2-42cd-f00c-ee5adfcebfa0"
   },
   "outputs": [
    {
     "name": "stdout",
     "output_type": "stream",
     "text": [
      "Name: \n",
      "Type: Graph\n",
      "Number of nodes: 6\n",
      "Number of edges: 7\n",
      "Average degree:   2.3333\n"
     ]
    }
   ],
   "source": [
    "# Check basic properties of the graph\n",
    "print(nx.info(G))"
   ]
  },
  {
   "cell_type": "code",
   "execution_count": 7,
   "metadata": {
    "colab": {
     "base_uri": "https://localhost:8080/",
     "height": 319
    },
    "executionInfo": {
     "elapsed": 3427,
     "status": "ok",
     "timestamp": 1616452992833,
     "user": {
      "displayName": "Valentin Danchev",
      "photoUrl": "https://lh3.googleusercontent.com/a-/AOh14Gh90YzToc2qd-IrJXNzgu3LRVLxkU3sMg1swbMwzg=s64",
      "userId": "02219535538470165535"
     },
     "user_tz": 0
    },
    "id": "g3FjSTXY5Kro",
    "outputId": "509bc8b9-e580-4601-8703-eb42c436d026",
    "scrolled": true
   },
   "outputs": [
    {
     "data": {
      "image/png": "[encoded data removed]",
      "text/plain": [
       "<Figure size 432x288 with 1 Axes>"
      ]
     },
     "metadata": {
      "filenames": {
       "image/png": "/Users/valentindanchev/Documents/MyJupyterBook/reproducible_data_science_python/reproducible-data-science-python/_build/jupyter_execute/network_analysis_15_0.png"
      }
     },
     "output_type": "display_data"
    }
   ],
   "source": [
    "# Draw a network\n",
    "nx.draw(G,with_labels=True, node_color='#F4ABAA', node_size=600)\n",
    "plt.savefig(\"GraphUndirected.png\", dpi=600)"
   ]
  },
  {
   "cell_type": "markdown",
   "metadata": {
    "id": "6OzClkMAgnN9"
   },
   "source": [
    "# Computing network diagnostics\n",
    "\n",
    "We compute various network diagnostics, ranging from local (node-level) diagnostics (degree centrality) to global (network-level) diagnostics (e.g., network diameter).\n",
    "\n",
    "## Node-level diagnostics\n",
    "\n",
    "**Node degree**\n",
    "\n",
    "Node degree is simply the number of connections a node has.\n"
   ]
  },
  {
   "cell_type": "code",
   "execution_count": 8,
   "metadata": {
    "colab": {
     "base_uri": "https://localhost:8080/"
    },
    "executionInfo": {
     "elapsed": 3413,
     "status": "ok",
     "timestamp": 1616452992834,
     "user": {
      "displayName": "Valentin Danchev",
      "photoUrl": "https://lh3.googleusercontent.com/a-/AOh14Gh90YzToc2qd-IrJXNzgu3LRVLxkU3sMg1swbMwzg=s64",
      "userId": "02219535538470165535"
     },
     "user_tz": 0
    },
    "id": "bdDzTgGQmBfO",
    "outputId": "bc285ad6-3169-4a22-903b-679eba356f97"
   },
   "outputs": [
    {
     "data": {
      "text/plain": [
       "DegreeView({1: 3, 2: 3, 3: 1, 4: 3, 5: 2, 6: 2})"
      ]
     },
     "execution_count": 8,
     "metadata": {},
     "output_type": "execute_result"
    }
   ],
   "source": [
    "# Compute node degree\n",
    "nx.degree(G)"
   ]
  },
  {
   "cell_type": "code",
   "execution_count": 9,
   "metadata": {
    "colab": {
     "base_uri": "https://localhost:8080/"
    },
    "executionInfo": {
     "elapsed": 3397,
     "status": "ok",
     "timestamp": 1616452992834,
     "user": {
      "displayName": "Valentin Danchev",
      "photoUrl": "https://lh3.googleusercontent.com/a-/AOh14Gh90YzToc2qd-IrJXNzgu3LRVLxkU3sMg1swbMwzg=s64",
      "userId": "02219535538470165535"
     },
     "user_tz": 0
    },
    "id": "Z0A2ujIAhF1D",
    "outputId": "65a28a97-cd0d-4f66-f5c9-6e8664df04ec"
   },
   "outputs": [
    {
     "name": "stdout",
     "output_type": "stream",
     "text": [
      "1 3\n",
      "2 3\n",
      "3 1\n",
      "4 3\n",
      "5 2\n",
      "6 2\n"
     ]
    }
   ],
   "source": [
    "# Print node degree in a more readable format\n",
    "for node in G.nodes:\n",
    "  print(node, nx.degree(G,node))"
   ]
  },
  {
   "cell_type": "markdown",
   "metadata": {
    "id": "9zm2JCCEoOA3"
   },
   "source": [
    "**Number of triangles**\n",
    "\n",
    "Number of triangles refers to any three connected nodes that include a node."
   ]
  },
  {
   "cell_type": "code",
   "execution_count": 10,
   "metadata": {
    "colab": {
     "base_uri": "https://localhost:8080/"
    },
    "executionInfo": {
     "elapsed": 3382,
     "status": "ok",
     "timestamp": 1616452992835,
     "user": {
      "displayName": "Valentin Danchev",
      "photoUrl": "https://lh3.googleusercontent.com/a-/AOh14Gh90YzToc2qd-IrJXNzgu3LRVLxkU3sMg1swbMwzg=s64",
      "userId": "02219535538470165535"
     },
     "user_tz": 0
    },
    "id": "WcScYBFtjfCn",
    "outputId": "7c07a3bd-6888-4e9e-8fe1-5924d98d2ab1"
   },
   "outputs": [
    {
     "name": "stdout",
     "output_type": "stream",
     "text": [
      "1 1\n",
      "2 1\n",
      "3 0\n",
      "4 1\n",
      "5 0\n",
      "6 0\n"
     ]
    }
   ],
   "source": [
    "# Compute the number of triangles per node\n",
    "for node in G.nodes:\n",
    "  print(node, nx.triangles(G,node))"
   ]
  },
  {
   "cell_type": "markdown",
   "metadata": {
    "id": "b98uGJyUppsQ"
   },
   "source": [
    "**Clustering** \n",
    "\n",
    "Clustering of a node is the fraction of possible triangles (i.e., the number of actual triangles divided by the number of possible triangles)."
   ]
  },
  {
   "cell_type": "code",
   "execution_count": 11,
   "metadata": {
    "colab": {
     "base_uri": "https://localhost:8080/"
    },
    "executionInfo": {
     "elapsed": 3366,
     "status": "ok",
     "timestamp": 1616452992835,
     "user": {
      "displayName": "Valentin Danchev",
      "photoUrl": "https://lh3.googleusercontent.com/a-/AOh14Gh90YzToc2qd-IrJXNzgu3LRVLxkU3sMg1swbMwzg=s64",
      "userId": "02219535538470165535"
     },
     "user_tz": 0
    },
    "id": "aqDhjyW7moKo",
    "outputId": "12527c26-bd37-4558-f720-50ce99fdd730"
   },
   "outputs": [
    {
     "name": "stdout",
     "output_type": "stream",
     "text": [
      "1 0.3333333333333333\n",
      "2 0.3333333333333333\n",
      "3 0\n",
      "4 0.3333333333333333\n",
      "5 0\n",
      "6 0\n"
     ]
    }
   ],
   "source": [
    "# Compute the clustering coefficient for nodes\n",
    "for node in G.nodes:\n",
    "  print(node, nx.clustering(G,node))"
   ]
  },
  {
   "cell_type": "markdown",
   "metadata": {},
   "source": [
    "Let's consolidate our code and print the above local network diagnostics in one place"
   ]
  },
  {
   "cell_type": "code",
   "execution_count": 12,
   "metadata": {
    "colab": {
     "base_uri": "https://localhost:8080/"
    },
    "executionInfo": {
     "elapsed": 3350,
     "status": "ok",
     "timestamp": 1616452992835,
     "user": {
      "displayName": "Valentin Danchev",
      "photoUrl": "https://lh3.googleusercontent.com/a-/AOh14Gh90YzToc2qd-IrJXNzgu3LRVLxkU3sMg1swbMwzg=s64",
      "userId": "02219535538470165535"
     },
     "user_tz": 0
    },
    "id": "TupLIX7x5Krp",
    "outputId": "ed931cde-8a13-4f89-8e13-29e93dcd6a57"
   },
   "outputs": [
    {
     "name": "stdout",
     "output_type": "stream",
     "text": [
      "node degree triangles clustering\n",
      "1 3 1 0.3333333333333333\n",
      "2 3 1 0.3333333333333333\n",
      "3 1 0 0\n",
      "4 3 1 0.3333333333333333\n",
      "5 2 0 0\n",
      "6 2 0 0\n"
     ]
    }
   ],
   "source": [
    "# Multiple network diagnostics\n",
    "print(\"node degree triangles clustering\")\n",
    "for node in nx.nodes(G):\n",
    "    print(node, nx.degree(G,node), nx.triangles(G,node), nx.clustering(G,node))"
   ]
  },
  {
   "cell_type": "markdown",
   "metadata": {
    "id": "Tck4WwVOrupn"
   },
   "source": [
    "The above node-level diagnostics consider only direct connections to a node without taking into account the global structure of a network. Let's compute diagnostics that take into account the global structure of our network. \n",
    "\n",
    "**Betweenness centrality and shortest paths**\n",
    "\n",
    "One such diagnostic is _betweenness centrality_. Nodes with high betweenness centrality are thought to connect otherwise disconnected nodes and in this sense to harness coordination and communication flow in social networks.   \n",
    "\n",
    "How do we compute betweenness centrality? Consider that between any pair of nodes there is a shortest path connected that pair, the betweenness centrality of a node is the sum of the fraction of shortest paths between all pairs that pass through a node.\n",
    "\n",
    "To make things concrete, let's first compute the shortest paths between a pair of nodes that go through a node. For example, the shortest paths that go through node 1: 2 &rightarrow; 5, 3 &rightarrow; 5, 4 &rightarrow; 5."
   ]
  },
  {
   "cell_type": "code",
   "execution_count": 13,
   "metadata": {
    "colab": {
     "base_uri": "https://localhost:8080/"
    },
    "executionInfo": {
     "elapsed": 3334,
     "status": "ok",
     "timestamp": 1616452992836,
     "user": {
      "displayName": "Valentin Danchev",
      "photoUrl": "https://lh3.googleusercontent.com/a-/AOh14Gh90YzToc2qd-IrJXNzgu3LRVLxkU3sMg1swbMwzg=s64",
      "userId": "02219535538470165535"
     },
     "user_tz": 0
    },
    "id": "qfyFfZekw_En",
    "outputId": "8fbdebf6-50b8-49fc-8a8b-60b5dde019fd"
   },
   "outputs": [
    {
     "name": "stdout",
     "output_type": "stream",
     "text": [
      "[[2, 1, 5], [2, 6, 5]]\n",
      "[[3, 4, 1, 5]]\n",
      "[[4, 1, 5]]\n"
     ]
    }
   ],
   "source": [
    "# Compute the shortest paths that go through a node\n",
    "\n",
    "for i in range(2,5):\n",
    "  print(list(nx.all_shortest_paths(G,source=i, target=5)))"
   ]
  },
  {
   "cell_type": "markdown",
   "metadata": {
    "id": "NTBrHB9R631l"
   },
   "source": [
    "Let's compute now the betweenness centrality for node 1. \n",
    "\n",
    "The shortest paths, which pass through node 1, are between the pairs: \n",
    "\n",
    "2 &rightarrow; 5\n",
    "\n",
    "3 &rightarrow; 5\n",
    "\n",
    "4 &rightarrow; 5\n",
    "\n",
    "| Pairs of nodes | Number of shortest paths through node 1 | Number of all shortest paths |\n",
    "|---| --- | --- |\n",
    "| 2 &rightarrow; 5 | 1 | 2 |\n",
    "| 3 &rightarrow; 5 | 1 | 1 |\n",
    "| 4 &rightarrow; 5 | 1 | 1 |\n",
    "\n",
    "Betweenness centrality for node 1 is then computed as:\n",
    "\n",
    "$1/2 + 1/1 + 1/1 = 2.5$"
   ]
  },
  {
   "cell_type": "code",
   "execution_count": 14,
   "metadata": {
    "colab": {
     "base_uri": "https://localhost:8080/"
    },
    "executionInfo": {
     "elapsed": 398,
     "status": "ok",
     "timestamp": 1616508828093,
     "user": {
      "displayName": "Valentin Danchev",
      "photoUrl": "https://lh3.googleusercontent.com/a-/AOh14Gh90YzToc2qd-IrJXNzgu3LRVLxkU3sMg1swbMwzg=s64",
      "userId": "02219535538470165535"
     },
     "user_tz": 0
    },
    "id": "EYz10Mi05Krp",
    "outputId": "e51b0bbb-24dd-479b-b249-56589d4d4ae8"
   },
   "outputs": [
    {
     "data": {
      "text/plain": [
       "{1: 2.5, 2: 2.5, 3: 0.0, 4: 4.0, 5: 0.5, 6: 0.5}"
      ]
     },
     "execution_count": 14,
     "metadata": {},
     "output_type": "execute_result"
    }
   ],
   "source": [
    "# Compute betweenness centrality\n",
    "nx.betweenness_centrality(G, normalized=False)"
   ]
  },
  {
   "cell_type": "markdown",
   "metadata": {
    "id": "x3kgVel34OZ1"
   },
   "source": [
    "If `normalized = True`, then betweenness centrality of a node is normalised by $2/((n - 1)(n - 2))$. In our example graph: \n",
    "\n",
    "$2/((6 - 1)(6 - 2) = 2/(5 * 4) = 2 / 20 = 0.1.$ \n",
    "\n",
    "Hence the betweenness centrality, for example, of node 1 is $2.5/0.1 = 0.25$."
   ]
  },
  {
   "cell_type": "markdown",
   "metadata": {
    "id": "u1OnHSVQKZKO"
   },
   "source": [
    "**Eigenvector centrality**\n",
    "\n",
    "Eigenvector centrality is another diagnostic that considers non-direct connections. If node degree measures the number of connections of a node, eigenvector centrality measures the extent to which those connected to a node are themselves highly connected nodes. Eigenvector centrality is an indicator of the influence of a node in a network. People with high eigenvector centrality in social and information networks are influential because they are connected to others who are themselves highly connected and, thus, can easily reach many other people in the networks.   "
   ]
  },
  {
   "cell_type": "code",
   "execution_count": 15,
   "metadata": {
    "colab": {
     "base_uri": "https://localhost:8080/"
    },
    "executionInfo": {
     "elapsed": 3301,
     "status": "ok",
     "timestamp": 1616452992837,
     "user": {
      "displayName": "Valentin Danchev",
      "photoUrl": "https://lh3.googleusercontent.com/a-/AOh14Gh90YzToc2qd-IrJXNzgu3LRVLxkU3sMg1swbMwzg=s64",
      "userId": "02219535538470165535"
     },
     "user_tz": 0
    },
    "id": "1FBxvEqD5Krq",
    "outputId": "c8026e1d-ab1e-4258-c052-8ac07336fb4e",
    "scrolled": true
   },
   "outputs": [
    {
     "data": {
      "text/plain": [
       "{1: 0.5131199170225811,\n",
       " 2: 0.5131199170225811,\n",
       " 3: 0.18452474299639904,\n",
       " 4: 0.4726682070377605,\n",
       " 5: 0.3285964750170798,\n",
       " 6: 0.3285964750170798}"
      ]
     },
     "execution_count": 15,
     "metadata": {},
     "output_type": "execute_result"
    }
   ],
   "source": [
    "# Compute eigenvector centrality\n",
    "nx.eigenvector_centrality(G)"
   ]
  },
  {
   "cell_type": "markdown",
   "metadata": {},
   "source": [
    "In our small undirected network, node 1 and node 2 have the highest eigenvector centrality due to their connections to each other and to node 4, each of which has degree of 3 and is therefore highly connected in this network of six nodes.   "
   ]
  },
  {
   "cell_type": "markdown",
   "metadata": {
    "id": "LOhnICgktT4-"
   },
   "source": [
    "## Network-level diagnostics\n",
    "\n",
    "We now consider network-level diagnostics. \n",
    "\n",
    "**Average shortest path**\n",
    "\n",
    "One diagnostic that characterises the global structure of a network is the average shortest path for the network."
   ]
  },
  {
   "cell_type": "code",
   "execution_count": 16,
   "metadata": {
    "colab": {
     "base_uri": "https://localhost:8080/"
    },
    "executionInfo": {
     "elapsed": 14639,
     "status": "ok",
     "timestamp": 1616453004484,
     "user": {
      "displayName": "Valentin Danchev",
      "photoUrl": "https://lh3.googleusercontent.com/a-/AOh14Gh90YzToc2qd-IrJXNzgu3LRVLxkU3sMg1swbMwzg=s64",
      "userId": "02219535538470165535"
     },
     "user_tz": 0
    },
    "id": "XuUCC29PtSb5",
    "outputId": "2cdc41e5-561f-4b96-f970-efc9148767be"
   },
   "outputs": [
    {
     "data": {
      "text/plain": [
       "1.6666666666666667"
      ]
     },
     "execution_count": 16,
     "metadata": {},
     "output_type": "execute_result"
    }
   ],
   "source": [
    "# Compute the average shortest path for the network\n",
    "\n",
    "nx.average_shortest_path_length(G)"
   ]
  },
  {
   "cell_type": "markdown",
   "metadata": {
    "id": "Cf7Q3u5H5ZSD"
   },
   "source": [
    "**Network diameter**\n",
    "\n",
    "Network diameter is another network-level diagnostic. Diameter of a network is the longest of all the path lengths or the maximum distance between nodes in a network. "
   ]
  },
  {
   "cell_type": "code",
   "execution_count": 17,
   "metadata": {
    "colab": {
     "base_uri": "https://localhost:8080/"
    },
    "executionInfo": {
     "elapsed": 14624,
     "status": "ok",
     "timestamp": 1616453004485,
     "user": {
      "displayName": "Valentin Danchev",
      "photoUrl": "https://lh3.googleusercontent.com/a-/AOh14Gh90YzToc2qd-IrJXNzgu3LRVLxkU3sMg1swbMwzg=s64",
      "userId": "02219535538470165535"
     },
     "user_tz": 0
    },
    "id": "D7jQ-07u48Lm",
    "outputId": "67a300fa-047f-4070-ad20-a632e49f8eab"
   },
   "outputs": [
    {
     "data": {
      "text/plain": [
       "3"
      ]
     },
     "execution_count": 17,
     "metadata": {},
     "output_type": "execute_result"
    }
   ],
   "source": [
    "nx.algorithms.distance_measures.diameter(G)"
   ]
  },
  {
   "cell_type": "markdown",
   "metadata": {
    "id": "coo3uHet5Krr"
   },
   "source": [
    "# Assortative mixing\n",
    "\n",
    "Assortativity or assortative mixing (also called homophily) is the preference of nodes with similar attributes to interact between each other. In other words, \"similarity breeds connection\" [McPherson et al. Am. Soc. Rew.](https://doi.org/10.1146/annurev.soc.27.1.415). To illustrate the tendency for assortative mixing, we first add node attributes. \n",
    "\n",
    "## Adding node attributes"
   ]
  },
  {
   "cell_type": "code",
   "execution_count": 18,
   "metadata": {
    "id": "oz3ol1TS5Krr"
   },
   "outputs": [],
   "source": [
    "# Add gender attribute to existing nodes\n",
    "G.nodes[1]['gender'] = 'female'\n",
    "G.nodes[2]['gender'] = 'female'\n",
    "G.nodes[3]['gender'] = 'male'\n",
    "G.nodes[4]['gender'] = 'male'\n",
    "G.nodes[5]['gender'] = 'female'\n",
    "G.nodes[6]['gender'] = 'female'"
   ]
  },
  {
   "cell_type": "code",
   "execution_count": 19,
   "metadata": {
    "id": "rUkLAdWU-0f1"
   },
   "outputs": [],
   "source": [
    "# Assign different colour to nodes with different attribute classes\n",
    "nodes_colors = []\n",
    "for node in G.nodes:\n",
    "  if G.nodes[node][\"gender\"] == \"female\":\n",
    "    nodes_colors.append('#40E0D0')\n",
    "  else:\n",
    "    nodes_colors.append('#E6E6FA')"
   ]
  },
  {
   "cell_type": "code",
   "execution_count": 20,
   "metadata": {
    "colab": {
     "base_uri": "https://localhost:8080/"
    },
    "executionInfo": {
     "elapsed": 3279,
     "status": "ok",
     "timestamp": 1616452992838,
     "user": {
      "displayName": "Valentin Danchev",
      "photoUrl": "https://lh3.googleusercontent.com/a-/AOh14Gh90YzToc2qd-IrJXNzgu3LRVLxkU3sMg1swbMwzg=s64",
      "userId": "02219535538470165535"
     },
     "user_tz": 0
    },
    "id": "3I5rRglBAZZA",
    "outputId": "702cebd1-b7ca-4768-fab6-ebce32391eaf"
   },
   "outputs": [
    {
     "data": {
      "text/plain": [
       "['#40E0D0', '#40E0D0', '#E6E6FA', '#E6E6FA', '#40E0D0', '#40E0D0']"
      ]
     },
     "execution_count": 20,
     "metadata": {},
     "output_type": "execute_result"
    }
   ],
   "source": [
    "# The resulting list of colors for female ('#a5b41f') and male ('#1fb4a5')  \n",
    "nodes_colors"
   ]
  },
  {
   "cell_type": "markdown",
   "metadata": {},
   "source": [
    "Plot the network with node colours representing gender categories "
   ]
  },
  {
   "cell_type": "code",
   "execution_count": 21,
   "metadata": {
    "colab": {
     "base_uri": "https://localhost:8080/",
     "height": 319
    },
    "executionInfo": {
     "elapsed": 4683,
     "status": "ok",
     "timestamp": 1616452994259,
     "user": {
      "displayName": "Valentin Danchev",
      "photoUrl": "https://lh3.googleusercontent.com/a-/AOh14Gh90YzToc2qd-IrJXNzgu3LRVLxkU3sMg1swbMwzg=s64",
      "userId": "02219535538470165535"
     },
     "user_tz": 0
    },
    "id": "1RXAI9M05Krs",
    "outputId": "878bf90c-712a-4ff5-f6cd-5be10b2340b8"
   },
   "outputs": [
    {
     "data": {
      "image/png": "[encoded data removed]",
      "text/plain": [
       "<Figure size 432x288 with 1 Axes>"
      ]
     },
     "metadata": {
      "filenames": {
       "image/png": "/Users/valentindanchev/Documents/MyJupyterBook/reproducible_data_science_python/reproducible-data-science-python/_build/jupyter_execute/network_analysis_42_0.png"
      }
     },
     "output_type": "display_data"
    }
   ],
   "source": [
    "nx.draw(G, with_labels=True, node_color=nodes_colors, node_size=600)\n",
    "\n",
    "# Save the graph\n",
    "plt.savefig(\"GraphUndirectedGender.png\", dpi=600)"
   ]
  },
  {
   "cell_type": "markdown",
   "metadata": {
    "id": "zRc8Pmj_MT8o"
   },
   "source": [
    "## Measuring assortativity\n",
    "\n",
    "Let's see if indeed similarity with respect to gender attributes breeds connections in our toy network. Networks in which similar nodes are more likely to connect than dissimilar nodes are called assortative."
   ]
  },
  {
   "cell_type": "code",
   "execution_count": 22,
   "metadata": {
    "colab": {
     "base_uri": "https://localhost:8080/"
    },
    "executionInfo": {
     "elapsed": 428,
     "status": "ok",
     "timestamp": 1616520376101,
     "user": {
      "displayName": "Valentin Danchev",
      "photoUrl": "https://lh3.googleusercontent.com/a-/AOh14Gh90YzToc2qd-IrJXNzgu3LRVLxkU3sMg1swbMwzg=s64",
      "userId": "02219535538470165535"
     },
     "user_tz": 0
    },
    "id": "uaUFbtUd5Krt",
    "outputId": "84bb7c01-3243-47d9-e163-52c8bbfa696e"
   },
   "outputs": [
    {
     "data": {
      "text/plain": [
       "0.29999999999999977"
      ]
     },
     "execution_count": 22,
     "metadata": {},
     "output_type": "execute_result"
    }
   ],
   "source": [
    "# Compute assortativity coefficient\n",
    "\n",
    "nx.attribute_assortativity_coefficient(G, attribute='gender')"
   ]
  },
  {
   "cell_type": "markdown",
   "metadata": {
    "id": "KhAgGh7INq4T"
   },
   "source": [
    "Nodes may be linked because they have similar social attributes but also because they have similar number of links or a similar role in a network. Let's see if nodes with similar node degree are more likely (i.e., degree assortativity) or less likely (i.e., degree disassortativity) to be linked in our example network."
   ]
  },
  {
   "cell_type": "code",
   "execution_count": 23,
   "metadata": {
    "colab": {
     "base_uri": "https://localhost:8080/"
    },
    "executionInfo": {
     "elapsed": 4653,
     "status": "ok",
     "timestamp": 1616452994261,
     "user": {
      "displayName": "Valentin Danchev",
      "photoUrl": "https://lh3.googleusercontent.com/a-/AOh14Gh90YzToc2qd-IrJXNzgu3LRVLxkU3sMg1swbMwzg=s64",
      "userId": "02219535538470165535"
     },
     "user_tz": 0
    },
    "id": "K7UMBwjl5Krt",
    "outputId": "2738397d-984a-411e-fddd-f4e3168f8efa"
   },
   "outputs": [
    {
     "data": {
      "text/plain": [
       "-0.10526315789473836"
      ]
     },
     "execution_count": 23,
     "metadata": {},
     "output_type": "execute_result"
    }
   ],
   "source": [
    "# Assortativity for node degree\n",
    "\n",
    "nx.degree_assortativity_coefficient(G)"
   ]
  },
  {
   "cell_type": "markdown",
   "metadata": {
    "id": "NOA8ayGx5Kru"
   },
   "source": [
    "# Creating a directed network"
   ]
  },
  {
   "cell_type": "code",
   "execution_count": 24,
   "metadata": {
    "id": "8MhA0j9L5Kru"
   },
   "outputs": [],
   "source": [
    "# Create an empty directed network\n",
    "DG = nx.DiGraph()\n",
    "\n",
    "# Add nodes\n",
    "DG.add_nodes_from([1, 2, 3, 4, 5, 6])\n",
    "\n",
    "# Add edges\n",
    "DG.add_edges_from([(1, 2),(1, 4), (1, 5), (2, 4), (2, 6), (3, 4), (5,6)])"
   ]
  },
  {
   "cell_type": "code",
   "execution_count": 25,
   "metadata": {
    "colab": {
     "base_uri": "https://localhost:8080/",
     "height": 319
    },
    "executionInfo": {
     "elapsed": 6259,
     "status": "ok",
     "timestamp": 1616452995887,
     "user": {
      "displayName": "Valentin Danchev",
      "photoUrl": "https://lh3.googleusercontent.com/a-/AOh14Gh90YzToc2qd-IrJXNzgu3LRVLxkU3sMg1swbMwzg=s64",
      "userId": "02219535538470165535"
     },
     "user_tz": 0
    },
    "id": "XDFu1ZQy5Kru",
    "outputId": "e058d79f-43a5-4487-8f5b-d8009e27aaa1"
   },
   "outputs": [
    {
     "data": {
      "image/png": "[encoded data removed]",
      "text/plain": [
       "<Figure size 432x288 with 1 Axes>"
      ]
     },
     "metadata": {
      "filenames": {
       "image/png": "/Users/valentindanchev/Documents/MyJupyterBook/reproducible_data_science_python/reproducible-data-science-python/_build/jupyter_execute/network_analysis_49_0.png"
      }
     },
     "output_type": "display_data"
    }
   ],
   "source": [
    "# Draw the directed network\n",
    "\n",
    "nx.draw(DG, with_labels=True, node_color='#FFC0CB', node_size=400)\n",
    "\n",
    "# Save the graph\n",
    "plt.savefig(\"GraphDirected.png\", dpi=600)"
   ]
  },
  {
   "cell_type": "code",
   "execution_count": 26,
   "metadata": {
    "colab": {
     "base_uri": "https://localhost:8080/"
    },
    "executionInfo": {
     "elapsed": 6243,
     "status": "ok",
     "timestamp": 1616452995888,
     "user": {
      "displayName": "Valentin Danchev",
      "photoUrl": "https://lh3.googleusercontent.com/a-/AOh14Gh90YzToc2qd-IrJXNzgu3LRVLxkU3sMg1swbMwzg=s64",
      "userId": "02219535538470165535"
     },
     "user_tz": 0
    },
    "id": "NHop9lyz5Krv",
    "outputId": "a24e5028-8375-4cc1-ba74-33752f7f30ae"
   },
   "outputs": [
    {
     "name": "stdout",
     "output_type": "stream",
     "text": [
      "node out_degree out_degree\n",
      "1 3 0\n",
      "2 2 1\n",
      "3 1 0\n",
      "4 0 3\n",
      "5 1 1\n",
      "6 0 2\n"
     ]
    }
   ],
   "source": [
    "# Basic network properties: in-degree and out-degree\n",
    "\n",
    "DG.in_degree()\n",
    "# basic network roperties\n",
    "print(\"node out_degree out_degree\")\n",
    "for node in nx.nodes(DG):\n",
    "    print(node, DG.out_degree(node), DG.in_degree(node))"
   ]
  },
  {
   "cell_type": "code",
   "execution_count": 27,
   "metadata": {
    "colab": {
     "base_uri": "https://localhost:8080/"
    },
    "executionInfo": {
     "elapsed": 6227,
     "status": "ok",
     "timestamp": 1616452995888,
     "user": {
      "displayName": "Valentin Danchev",
      "photoUrl": "https://lh3.googleusercontent.com/a-/AOh14Gh90YzToc2qd-IrJXNzgu3LRVLxkU3sMg1swbMwzg=s64",
      "userId": "02219535538470165535"
     },
     "user_tz": 0
    },
    "id": "U-RliK_j5Krv",
    "outputId": "715e8c08-89c3-4da9-897f-71a7b706fc70"
   },
   "outputs": [
    {
     "data": {
      "text/plain": [
       "{1: 0.0, 2: 0.025, 3: 0.0, 4: 0.0, 5: 0.025, 6: 0.0}"
      ]
     },
     "execution_count": 27,
     "metadata": {},
     "output_type": "execute_result"
    }
   ],
   "source": [
    "# Compute betweenness_centrality\n",
    "\n",
    "nx.betweenness_centrality(DG, normalized=True)"
   ]
  },
  {
   "cell_type": "markdown",
   "metadata": {
    "id": "KmfoNuDb5Krv"
   },
   "source": [
    "> #### Discussion: How network diagnostics differ across directed and undirected networks?"
   ]
  },
  {
   "cell_type": "markdown",
   "metadata": {
    "id": "DcVMcs4V5Krw"
   },
   "source": [
    "# A fun example—Star Wars network\n",
    "\n",
    "In this section we use a [small weighted network reconstructed from the movie Star Wars Episode IV: A New Hope by Evelina Gabasova](http://evelinag.com/blog/2015/12-15-star-wars-social-network/). The network is also used in the [network analysis' tutorial in R by Alex Hanna, Pablo Barbera, and Dan Cervone](https://cdn.rawgit.com/pablobarbera/data-science-workshop/master/sna/01_networks_intro.html). For interactive social networks of characters in films and series, see the website [Moviegalaxies.com](https://moviegalaxies.com).  \n",
    "\n",
    "Each node in the Star Wars Episode IV: A New Hope network represents a character and each edge represents the number of times a pair of characters appeared together in a scene of the movie. Edges are undirected and weighted."
   ]
  },
  {
   "cell_type": "code",
   "execution_count": 28,
   "metadata": {
    "colab": {
     "base_uri": "https://localhost:8080/"
    },
    "executionInfo": {
     "elapsed": 6211,
     "status": "ok",
     "timestamp": 1616452995888,
     "user": {
      "displayName": "Valentin Danchev",
      "photoUrl": "https://lh3.googleusercontent.com/a-/AOh14Gh90YzToc2qd-IrJXNzgu3LRVLxkU3sMg1swbMwzg=s64",
      "userId": "02219535538470165535"
     },
     "user_tz": 0
    },
    "id": "5XugSVA65Krw",
    "outputId": "be9b7b44-554b-403a-e18c-7074f8e1f639"
   },
   "outputs": [
    {
     "name": "stdout",
     "output_type": "stream",
     "text": [
      "source,target,weight\r",
      "\r\n",
      "C-3PO,R2-D2,17\r",
      "\r\n",
      "LUKE,R2-D2,13\r",
      "\r\n",
      "OBI-WAN,R2-D2,6\r",
      "\r\n",
      "LEIA,R2-D2,5\r",
      "\r\n",
      "HAN,R2-D2,5\r",
      "\r\n",
      "CHEWBACCA,R2-D2,3\r",
      "\r\n",
      "DODONNA,R2-D2,1\r",
      "\r\n",
      "CHEWBACCA,OBI-WAN,7\r",
      "\r\n",
      "C-3PO,CHEWBACCA,5\r",
      "\r\n"
     ]
    }
   ],
   "source": [
    "# A quick view of the network using the command line\n",
    "\n",
    "!head star-wars-network.csv"
   ]
  },
  {
   "cell_type": "markdown",
   "metadata": {},
   "source": [
    "Read the edge list file using the Pandas function `read_csv()`. We use a version of the file `star-wars-network.csv` that can be found also on [Pablo Barberá's GitHub repository](https://raw.githubusercontent.com/pablobarbera/data-science-workshop/master/sna/data/star-wars-network-edges.csv)."
   ]
  },
  {
   "cell_type": "code",
   "execution_count": 29,
   "metadata": {
    "colab": {
     "base_uri": "https://localhost:8080/",
     "height": 204
    },
    "executionInfo": {
     "elapsed": 460,
     "status": "ok",
     "timestamp": 1616453383139,
     "user": {
      "displayName": "Valentin Danchev",
      "photoUrl": "https://lh3.googleusercontent.com/a-/AOh14Gh90YzToc2qd-IrJXNzgu3LRVLxkU3sMg1swbMwzg=s64",
      "userId": "02219535538470165535"
     },
     "user_tz": 0
    },
    "id": "2s98PYUa5Krx",
    "outputId": "00a4bedb-27d6-42fb-9991-04f764824f45"
   },
   "outputs": [
    {
     "data": {
      "text/html": [
       "<div>\n",
       "<style scoped>\n",
       "    .dataframe tbody tr th:only-of-type {\n",
       "        vertical-align: middle;\n",
       "    }\n",
       "\n",
       "    .dataframe tbody tr th {\n",
       "        vertical-align: top;\n",
       "    }\n",
       "\n",
       "    .dataframe thead th {\n",
       "        text-align: right;\n",
       "    }\n",
       "</style>\n",
       "<table border=\"1\" class=\"dataframe\">\n",
       "  <thead>\n",
       "    <tr style=\"text-align: right;\">\n",
       "      <th></th>\n",
       "      <th>source</th>\n",
       "      <th>target</th>\n",
       "      <th>weight</th>\n",
       "    </tr>\n",
       "  </thead>\n",
       "  <tbody>\n",
       "    <tr>\n",
       "      <th>0</th>\n",
       "      <td>C-3PO</td>\n",
       "      <td>R2-D2</td>\n",
       "      <td>17</td>\n",
       "    </tr>\n",
       "    <tr>\n",
       "      <th>1</th>\n",
       "      <td>LUKE</td>\n",
       "      <td>R2-D2</td>\n",
       "      <td>13</td>\n",
       "    </tr>\n",
       "    <tr>\n",
       "      <th>2</th>\n",
       "      <td>OBI-WAN</td>\n",
       "      <td>R2-D2</td>\n",
       "      <td>6</td>\n",
       "    </tr>\n",
       "    <tr>\n",
       "      <th>3</th>\n",
       "      <td>LEIA</td>\n",
       "      <td>R2-D2</td>\n",
       "      <td>5</td>\n",
       "    </tr>\n",
       "    <tr>\n",
       "      <th>4</th>\n",
       "      <td>HAN</td>\n",
       "      <td>R2-D2</td>\n",
       "      <td>5</td>\n",
       "    </tr>\n",
       "  </tbody>\n",
       "</table>\n",
       "</div>"
      ],
      "text/plain": [
       "    source target  weight\n",
       "0    C-3PO  R2-D2      17\n",
       "1     LUKE  R2-D2      13\n",
       "2  OBI-WAN  R2-D2       6\n",
       "3     LEIA  R2-D2       5\n",
       "4      HAN  R2-D2       5"
      ]
     },
     "execution_count": 29,
     "metadata": {},
     "output_type": "execute_result"
    }
   ],
   "source": [
    "StarWars_df=pd.read_csv('https://raw.githubusercontent.com/valdanchev/SC207/main/star-wars-network.csv')\n",
    "StarWars_df.head()"
   ]
  },
  {
   "cell_type": "markdown",
   "metadata": {},
   "source": [
    "We now create a graph object using the NetworkX function `from_pandas_edgelist()`"
   ]
  },
  {
   "cell_type": "code",
   "execution_count": 30,
   "metadata": {
    "id": "2aJmtaYo5Krz"
   },
   "outputs": [],
   "source": [
    "GraphStarWars = nx.from_pandas_edgelist(StarWars_df, source='source', target='target',edge_attr=True)"
   ]
  },
  {
   "cell_type": "code",
   "execution_count": 31,
   "metadata": {
    "colab": {
     "base_uri": "https://localhost:8080/"
    },
    "executionInfo": {
     "elapsed": 6496,
     "status": "ok",
     "timestamp": 1616452996218,
     "user": {
      "displayName": "Valentin Danchev",
      "photoUrl": "https://lh3.googleusercontent.com/a-/AOh14Gh90YzToc2qd-IrJXNzgu3LRVLxkU3sMg1swbMwzg=s64",
      "userId": "02219535538470165535"
     },
     "user_tz": 0
    },
    "id": "Ol1qQqu35Kr0",
    "outputId": "ff30c47b-c62c-492f-d0b2-7dcfd80ce2c1"
   },
   "outputs": [
    {
     "name": "stdout",
     "output_type": "stream",
     "text": [
      "Name: \n",
      "Type: Graph\n",
      "Number of nodes: 21\n",
      "Number of edges: 60\n",
      "Average degree:   5.7143\n"
     ]
    }
   ],
   "source": [
    "# Check the graph\n",
    "print(nx.info(GraphStarWars))"
   ]
  },
  {
   "cell_type": "code",
   "execution_count": 32,
   "metadata": {
    "colab": {
     "base_uri": "https://localhost:8080/"
    },
    "executionInfo": {
     "elapsed": 6470,
     "status": "ok",
     "timestamp": 1616452996219,
     "user": {
      "displayName": "Valentin Danchev",
      "photoUrl": "https://lh3.googleusercontent.com/a-/AOh14Gh90YzToc2qd-IrJXNzgu3LRVLxkU3sMg1swbMwzg=s64",
      "userId": "02219535538470165535"
     },
     "user_tz": 0
    },
    "id": "940mJUNt5Kr1",
    "outputId": "cd0bddbf-07b1-4345-9f53-b4b75c5855eb"
   },
   "outputs": [
    {
     "data": {
      "text/plain": [
       "60"
      ]
     },
     "execution_count": 32,
     "metadata": {},
     "output_type": "execute_result"
    }
   ],
   "source": [
    "# Returns the number of edges in a network\n",
    "GraphStarWars.size()"
   ]
  },
  {
   "cell_type": "code",
   "execution_count": 33,
   "metadata": {
    "colab": {
     "base_uri": "https://localhost:8080/"
    },
    "executionInfo": {
     "elapsed": 6444,
     "status": "ok",
     "timestamp": 1616452996219,
     "user": {
      "displayName": "Valentin Danchev",
      "photoUrl": "https://lh3.googleusercontent.com/a-/AOh14Gh90YzToc2qd-IrJXNzgu3LRVLxkU3sMg1swbMwzg=s64",
      "userId": "02219535538470165535"
     },
     "user_tz": 0
    },
    "id": "Qa0W87_v5Kr1",
    "outputId": "678eeaee-11f2-4cc7-d51a-b97cb784f6d5"
   },
   "outputs": [
    {
     "data": {
      "text/plain": [
       "295.0"
      ]
     },
     "execution_count": 33,
     "metadata": {},
     "output_type": "execute_result"
    }
   ],
   "source": [
    "# Returns total weight sum\n",
    "GraphStarWars.size(weight='weight')"
   ]
  },
  {
   "cell_type": "code",
   "execution_count": 34,
   "metadata": {
    "colab": {
     "base_uri": "https://localhost:8080/"
    },
    "executionInfo": {
     "elapsed": 6419,
     "status": "ok",
     "timestamp": 1616452996220,
     "user": {
      "displayName": "Valentin Danchev",
      "photoUrl": "https://lh3.googleusercontent.com/a-/AOh14Gh90YzToc2qd-IrJXNzgu3LRVLxkU3sMg1swbMwzg=s64",
      "userId": "02219535538470165535"
     },
     "user_tz": 0
    },
    "id": "9w1abRjQ5Kr1",
    "outputId": "9efaec8e-ab69-477d-80e4-16f521d15be8"
   },
   "outputs": [
    {
     "data": {
      "text/plain": [
       "17"
      ]
     },
     "execution_count": 34,
     "metadata": {},
     "output_type": "execute_result"
    }
   ],
   "source": [
    "# Check the weight of the edge between a pair of nodes\n",
    "GraphStarWars['C-3PO']['R2-D2'][\"weight\"]"
   ]
  },
  {
   "cell_type": "code",
   "execution_count": 35,
   "metadata": {
    "colab": {
     "base_uri": "https://localhost:8080/",
     "height": 895
    },
    "executionInfo": {
     "elapsed": 14655,
     "status": "ok",
     "timestamp": 1616453004484,
     "user": {
      "displayName": "Valentin Danchev",
      "photoUrl": "https://lh3.googleusercontent.com/a-/AOh14Gh90YzToc2qd-IrJXNzgu3LRVLxkU3sMg1swbMwzg=s64",
      "userId": "02219535538470165535"
     },
     "user_tz": 0
    },
    "id": "NbqgvcPk5Kr1",
    "outputId": "ca440510-fefa-44ac-955d-f72789a73ce1"
   },
   "outputs": [
    {
     "data": {
      "image/png": "[encoded data removed]",
      "text/plain": [
       "<Figure size 864x864 with 1 Axes>"
      ]
     },
     "metadata": {
      "filenames": {
       "image/png": "/Users/valentindanchev/Documents/MyJupyterBook/reproducible_data_science_python/reproducible-data-science-python/_build/jupyter_execute/network_analysis_63_0.png"
      }
     },
     "output_type": "display_data"
    }
   ],
   "source": [
    "# Specify figure size\n",
    "plt.figure(figsize=(12,12))\n",
    "\n",
    "# Compute node position using the default spring_layout  \n",
    "node_position = nx.spring_layout(GraphStarWars)\n",
    "\n",
    "# Draw the Star Wars Episode IV network \n",
    "nx.draw(GraphStarWars, node_position, node_color='#F4ABAA', with_labels=True)\n",
    "\n",
    "# Add edge weights\n",
    "edge_labels = nx.get_edge_attributes(GraphStarWars,'weight')\n",
    "nx.draw_networkx_edge_labels(GraphStarWars, node_position, edge_labels=edge_labels);\n",
    "\n",
    "# Save the graph\n",
    "plt.savefig(\"GraphStarWars.png\", dpi=600)"
   ]
  },
  {
   "cell_type": "markdown",
   "metadata": {
    "id": "LOhnICgktT4-"
   },
   "source": [
    "# Global network diagnostics\n",
    "\n",
    "Let's compute the average shortest path to characterise the global structure of the network. Recall that the average shortest path determines the extent to which characters in the Star Wars network are distant from one another."
   ]
  },
  {
   "cell_type": "code",
   "execution_count": 36,
   "metadata": {
    "colab": {
     "base_uri": "https://localhost:8080/"
    },
    "executionInfo": {
     "elapsed": 14639,
     "status": "ok",
     "timestamp": 1616453004484,
     "user": {
      "displayName": "Valentin Danchev",
      "photoUrl": "https://lh3.googleusercontent.com/a-/AOh14Gh90YzToc2qd-IrJXNzgu3LRVLxkU3sMg1swbMwzg=s64",
      "userId": "02219535538470165535"
     },
     "user_tz": 0
    },
    "id": "XuUCC29PtSb5",
    "outputId": "2cdc41e5-561f-4b96-f970-efc9148767be"
   },
   "outputs": [
    {
     "data": {
      "text/plain": [
       "1.9095238095238096"
      ]
     },
     "execution_count": 36,
     "metadata": {},
     "output_type": "execute_result"
    }
   ],
   "source": [
    "# Compute the average shortest path for the network\n",
    "\n",
    "nx.average_shortest_path_length(GraphStarWars)"
   ]
  },
  {
   "cell_type": "markdown",
   "metadata": {
    "id": "Cf7Q3u5H5ZSD"
   },
   "source": [
    "The other global diagnostic we consider is network diameter. Recall that the diameter of a network is the longest of all the path lengths or the maximum distance between nodes in a network. "
   ]
  },
  {
   "cell_type": "code",
   "execution_count": 37,
   "metadata": {
    "colab": {
     "base_uri": "https://localhost:8080/"
    },
    "executionInfo": {
     "elapsed": 14624,
     "status": "ok",
     "timestamp": 1616453004485,
     "user": {
      "displayName": "Valentin Danchev",
      "photoUrl": "https://lh3.googleusercontent.com/a-/AOh14Gh90YzToc2qd-IrJXNzgu3LRVLxkU3sMg1swbMwzg=s64",
      "userId": "02219535538470165535"
     },
     "user_tz": 0
    },
    "id": "D7jQ-07u48Lm",
    "outputId": "67a300fa-047f-4070-ad20-a632e49f8eab"
   },
   "outputs": [
    {
     "data": {
      "text/plain": [
       "3"
      ]
     },
     "execution_count": 37,
     "metadata": {},
     "output_type": "execute_result"
    }
   ],
   "source": [
    "nx.algorithms.distance_measures.diameter(GraphStarWars)"
   ]
  },
  {
   "cell_type": "markdown",
   "metadata": {
    "id": "vZr1wMiLuhzh"
   },
   "source": [
    "# Meso-scale network diagnostics\n",
    "\n",
    "To study the meso-scale properties of a network, we identify network communities. Network communities are collection of nodes that are more connected to each other than to other communities compared to a null model. Many community detection methods have been developed to identify community structure in networks. To identify network communities in the Star Wars network, we will use a technique called modularity maximisation. We will maximise modularity using the Louvain community detection heuristics."
   ]
  },
  {
   "cell_type": "code",
   "execution_count": 38,
   "metadata": {
    "colab": {
     "base_uri": "https://localhost:8080/"
    },
    "executionInfo": {
     "elapsed": 16764,
     "status": "ok",
     "timestamp": 1616453006641,
     "user": {
      "displayName": "Valentin Danchev",
      "photoUrl": "https://lh3.googleusercontent.com/a-/AOh14Gh90YzToc2qd-IrJXNzgu3LRVLxkU3sMg1swbMwzg=s64",
      "userId": "02219535538470165535"
     },
     "user_tz": 0
    },
    "id": "AW0RqgqD1VjN",
    "outputId": "a2c03330-2e6b-4359-9a3f-db78f442baba"
   },
   "outputs": [
    {
     "name": "stdout",
     "output_type": "stream",
     "text": [
      "Requirement already satisfied: python-louvain in /Users/valentindanchev/opt/anaconda3/lib/python3.8/site-packages (0.14)\r\n",
      "Requirement already satisfied: networkx in /Users/valentindanchev/opt/anaconda3/lib/python3.8/site-packages (from python-louvain) (2.5)\r\n",
      "Requirement already satisfied: numpy in /Users/valentindanchev/opt/anaconda3/lib/python3.8/site-packages (from python-louvain) (1.19.2)\r\n"
     ]
    },
    {
     "name": "stdout",
     "output_type": "stream",
     "text": [
      "Requirement already satisfied: decorator>=4.3.0 in /Users/valentindanchev/opt/anaconda3/lib/python3.8/site-packages (from networkx->python-louvain) (5.0.9)\r\n"
     ]
    }
   ],
   "source": [
    "# Install and import the Louvain community detection algorithm\n",
    "!pip install python-louvain\n",
    "import community as community_louvain\n",
    "\n",
    "# Detect the community structure of the graph which maximises the modularity using the Louvain heuristices\n",
    "partition = community_louvain.best_partition(GraphStarWars,resolution=1)"
   ]
  },
  {
   "cell_type": "code",
   "execution_count": 39,
   "metadata": {
    "colab": {
     "base_uri": "https://localhost:8080/",
     "height": 751
    },
    "executionInfo": {
     "elapsed": 5561,
     "status": "ok",
     "timestamp": 1616453038772,
     "user": {
      "displayName": "Valentin Danchev",
      "photoUrl": "https://lh3.googleusercontent.com/a-/AOh14Gh90YzToc2qd-IrJXNzgu3LRVLxkU3sMg1swbMwzg=s64",
      "userId": "02219535538470165535"
     },
     "user_tz": 0
    },
    "id": "FH8o1JEijhTU",
    "outputId": "24b8c18f-001f-41c5-ec46-58cfbc3569a5"
   },
   "outputs": [
    {
     "data": {
      "image/png": "[encoded data removed]",
      "text/plain": [
       "<Figure size 720x720 with 1 Axes>"
      ]
     },
     "metadata": {
      "filenames": {
       "image/png": "/Users/valentindanchev/Documents/MyJupyterBook/reproducible_data_science_python/reproducible-data-science-python/_build/jupyter_execute/network_analysis_70_0.png"
      }
     },
     "output_type": "display_data"
    }
   ],
   "source": [
    "# Set figure size that is larger than the default\n",
    "plt.figure(figsize=(10,10))\n",
    "\n",
    "nx.draw(GraphStarWars, \n",
    "        with_labels=True,\n",
    "        pos=nx.spring_layout(GraphStarWars), # spring_layout is the default layout\n",
    "        node_color=list(partition.values()),\n",
    "        cmap=plt.cm.coolwarm,\n",
    "        node_size=1000)\n",
    "\n",
    "# Save the graph\n",
    "plt.savefig(\"GraphStarWars.png\", dpi=600)"
   ]
  },
  {
   "cell_type": "markdown",
   "metadata": {
    "id": "WpF41nIHUmpg"
   },
   "source": [
    "# Local network diagnostics"
   ]
  },
  {
   "cell_type": "code",
   "execution_count": 40,
   "metadata": {
    "colab": {
     "base_uri": "https://localhost:8080/"
    },
    "executionInfo": {
     "elapsed": 22116,
     "status": "ok",
     "timestamp": 1616453012010,
     "user": {
      "displayName": "Valentin Danchev",
      "photoUrl": "https://lh3.googleusercontent.com/a-/AOh14Gh90YzToc2qd-IrJXNzgu3LRVLxkU3sMg1swbMwzg=s64",
      "userId": "02219535538470165535"
     },
     "user_tz": 0
    },
    "id": "vzRpRI21PRa7",
    "outputId": "13d27c9f-99a0-4f3a-e734-caf2fbf870dc"
   },
   "outputs": [
    {
     "name": "stdout",
     "output_type": "stream",
     "text": [
      "C-3PO 10\n",
      "R2-D2 7\n",
      "LUKE 15\n",
      "OBI-WAN 7\n",
      "LEIA 12\n",
      "HAN 8\n",
      "CHEWBACCA 8\n",
      "DODONNA 5\n",
      "DARTH VADER 5\n",
      "CAMIE 2\n",
      "BIGGS 7\n",
      "BERU 4\n",
      "OWEN 3\n",
      "MOTTI 3\n",
      "TARKIN 3\n",
      "GREEDO 1\n",
      "JABBA 1\n",
      "GOLD LEADER 5\n",
      "WEDGE 5\n",
      "RED LEADER 7\n",
      "RED TEN 2\n"
     ]
    }
   ],
   "source": [
    "# Node degree - number of edges adjacent to that node\n",
    "\n",
    "for node in GraphStarWars.nodes:\n",
    "  print(node, nx.degree(GraphStarWars,node))"
   ]
  },
  {
   "cell_type": "code",
   "execution_count": 41,
   "metadata": {
    "colab": {
     "base_uri": "https://localhost:8080/"
    },
    "executionInfo": {
     "elapsed": 22114,
     "status": "ok",
     "timestamp": 1616453012011,
     "user": {
      "displayName": "Valentin Danchev",
      "photoUrl": "https://lh3.googleusercontent.com/a-/AOh14Gh90YzToc2qd-IrJXNzgu3LRVLxkU3sMg1swbMwzg=s64",
      "userId": "02219535538470165535"
     },
     "user_tz": 0
    },
    "id": "jNSgSxYFPRJM",
    "outputId": "be0bbde2-30a3-42bd-8120-99e1dece81d1"
   },
   "outputs": [
    {
     "data": {
      "text/plain": [
       "[('LUKE', 15),\n",
       " ('LEIA', 12),\n",
       " ('C-3PO', 10),\n",
       " ('HAN', 8),\n",
       " ('CHEWBACCA', 8),\n",
       " ('R2-D2', 7),\n",
       " ('OBI-WAN', 7),\n",
       " ('BIGGS', 7),\n",
       " ('RED LEADER', 7),\n",
       " ('DODONNA', 5),\n",
       " ('DARTH VADER', 5),\n",
       " ('GOLD LEADER', 5),\n",
       " ('WEDGE', 5),\n",
       " ('BERU', 4),\n",
       " ('OWEN', 3),\n",
       " ('MOTTI', 3),\n",
       " ('TARKIN', 3),\n",
       " ('CAMIE', 2),\n",
       " ('RED TEN', 2),\n",
       " ('GREEDO', 1),\n",
       " ('JABBA', 1)]"
      ]
     },
     "execution_count": 41,
     "metadata": {},
     "output_type": "execute_result"
    }
   ],
   "source": [
    "# Sort the node degrees in descending order\n",
    "\n",
    "GraphStarWars_degrees = nx.degree(GraphStarWars)\n",
    "sorted(GraphStarWars_degrees, key=lambda x: x[1], reverse=True)"
   ]
  },
  {
   "cell_type": "code",
   "execution_count": 42,
   "metadata": {
    "colab": {
     "base_uri": "https://localhost:8080/",
     "height": 312
    },
    "executionInfo": {
     "elapsed": 22112,
     "status": "ok",
     "timestamp": 1616453012011,
     "user": {
      "displayName": "Valentin Danchev",
      "photoUrl": "https://lh3.googleusercontent.com/a-/AOh14Gh90YzToc2qd-IrJXNzgu3LRVLxkU3sMg1swbMwzg=s64",
      "userId": "02219535538470165535"
     },
     "user_tz": 0
    },
    "id": "d3ZOsZffPQ7L",
    "outputId": "64d59c30-8de8-4e64-a58d-49c6eb9f008d"
   },
   "outputs": [
    {
     "data": {
      "text/plain": [
       "Text(0.5, 1.0, 'Star Wars Episode IV network')"
      ]
     },
     "execution_count": 42,
     "metadata": {},
     "output_type": "execute_result"
    },
    {
     "data": {
      "image/png": "[encoded data removed]",
      "text/plain": [
       "<Figure size 432x288 with 1 Axes>"
      ]
     },
     "metadata": {
      "filenames": {
       "image/png": "/Users/valentindanchev/Documents/MyJupyterBook/reproducible_data_science_python/reproducible-data-science-python/_build/jupyter_execute/network_analysis_74_1.png"
      },
      "needs_background": "light"
     },
     "output_type": "display_data"
    }
   ],
   "source": [
    "# Plot a histogram for node degrees\n",
    "degree_values = dict(GraphStarWars_degrees).values()\n",
    "\n",
    "plt.hist(degree_values,6)\n",
    "\n",
    "plt.xlabel('Degree')\n",
    "plt.ylabel('Number of nodes') \n",
    "plt.title('Star Wars Episode IV network')"
   ]
  },
  {
   "cell_type": "code",
   "execution_count": 43,
   "metadata": {
    "colab": {
     "base_uri": "https://localhost:8080/"
    },
    "executionInfo": {
     "elapsed": 22110,
     "status": "ok",
     "timestamp": 1616453012011,
     "user": {
      "displayName": "Valentin Danchev",
      "photoUrl": "https://lh3.googleusercontent.com/a-/AOh14Gh90YzToc2qd-IrJXNzgu3LRVLxkU3sMg1swbMwzg=s64",
      "userId": "02219535538470165535"
     },
     "user_tz": 0
    },
    "id": "Vb0FBMa1PQtk",
    "outputId": "47811156-bdf5-4cf2-97f2-c8a4ede3370f"
   },
   "outputs": [
    {
     "data": {
      "text/plain": [
       "[('LUKE', 129),\n",
       " ('HAN', 80),\n",
       " ('C-3PO', 64),\n",
       " ('CHEWBACCA', 63),\n",
       " ('LEIA', 59),\n",
       " ('R2-D2', 50),\n",
       " ('OBI-WAN', 49),\n",
       " ('BIGGS', 14),\n",
       " ('RED LEADER', 13),\n",
       " ('DARTH VADER', 11),\n",
       " ('TARKIN', 10),\n",
       " ('BERU', 9),\n",
       " ('WEDGE', 9),\n",
       " ('OWEN', 8),\n",
       " ('DODONNA', 5),\n",
       " ('GOLD LEADER', 5),\n",
       " ('CAMIE', 4),\n",
       " ('MOTTI', 4),\n",
       " ('RED TEN', 2),\n",
       " ('GREEDO', 1),\n",
       " ('JABBA', 1)]"
      ]
     },
     "execution_count": 43,
     "metadata": {},
     "output_type": "execute_result"
    }
   ],
   "source": [
    "# Node strenght - sum of the edge weights adjacent to the node\n",
    "\n",
    "gsw_weights=nx.degree(GraphStarWars, weight='weight')\n",
    "sorted(gsw_weights, key=lambda x: x[1], reverse=True)"
   ]
  },
  {
   "cell_type": "code",
   "execution_count": 44,
   "metadata": {
    "colab": {
     "base_uri": "https://localhost:8080/"
    },
    "executionInfo": {
     "elapsed": 22109,
     "status": "ok",
     "timestamp": 1616453012012,
     "user": {
      "displayName": "Valentin Danchev",
      "photoUrl": "https://lh3.googleusercontent.com/a-/AOh14Gh90YzToc2qd-IrJXNzgu3LRVLxkU3sMg1swbMwzg=s64",
      "userId": "02219535538470165535"
     },
     "user_tz": 0
    },
    "id": "hQEIL1l9fM1t",
    "outputId": "c4f12e3c-551d-4fe7-dd0a-aa2fc15d5368"
   },
   "outputs": [
    {
     "data": {
      "text/plain": [
       "[('LUKE', 35),\n",
       " ('LEIA', 27),\n",
       " ('C-3PO', 24),\n",
       " ('CHEWBACCA', 19),\n",
       " ('R2-D2', 17),\n",
       " ('OBI-WAN', 17),\n",
       " ('HAN', 15),\n",
       " ('BIGGS', 12),\n",
       " ('RED LEADER', 12),\n",
       " ('GOLD LEADER', 8)]"
      ]
     },
     "execution_count": 44,
     "metadata": {},
     "output_type": "execute_result"
    }
   ],
   "source": [
    "# Compute the number of triangles\n",
    "\n",
    "triangles = nx.triangles(GraphStarWars)\n",
    "sorted(triangles.items(), key=lambda x:x[1], reverse=True)[0:10]"
   ]
  },
  {
   "cell_type": "code",
   "execution_count": 45,
   "metadata": {
    "colab": {
     "base_uri": "https://localhost:8080/"
    },
    "executionInfo": {
     "elapsed": 22106,
     "status": "ok",
     "timestamp": 1616453012012,
     "user": {
      "displayName": "Valentin Danchev",
      "photoUrl": "https://lh3.googleusercontent.com/a-/AOh14Gh90YzToc2qd-IrJXNzgu3LRVLxkU3sMg1swbMwzg=s64",
      "userId": "02219535538470165535"
     },
     "user_tz": 0
    },
    "id": "RbnFQMuVfVyi",
    "outputId": "9c2442a6-25e5-4962-fb23-edb545b552bb"
   },
   "outputs": [
    {
     "data": {
      "text/plain": [
       "[('CAMIE', 1.0),\n",
       " ('OWEN', 1.0),\n",
       " ('MOTTI', 1.0),\n",
       " ('TARKIN', 1.0),\n",
       " ('RED TEN', 1.0),\n",
       " ('BERU', 0.8333333333333334),\n",
       " ('R2-D2', 0.8095238095238095),\n",
       " ('OBI-WAN', 0.8095238095238095),\n",
       " ('GOLD LEADER', 0.8),\n",
       " ('WEDGE', 0.8)]"
      ]
     },
     "execution_count": 45,
     "metadata": {},
     "output_type": "execute_result"
    }
   ],
   "source": [
    "# Compute clustering\n",
    "\n",
    "clustering = nx.clustering(GraphStarWars)\n",
    "sorted(clustering.items(), key=lambda x:x[1], reverse=True)[0:10]"
   ]
  },
  {
   "cell_type": "code",
   "execution_count": 46,
   "metadata": {
    "colab": {
     "base_uri": "https://localhost:8080/"
    },
    "executionInfo": {
     "elapsed": 22104,
     "status": "ok",
     "timestamp": 1616453012012,
     "user": {
      "displayName": "Valentin Danchev",
      "photoUrl": "https://lh3.googleusercontent.com/a-/AOh14Gh90YzToc2qd-IrJXNzgu3LRVLxkU3sMg1swbMwzg=s64",
      "userId": "02219535538470165535"
     },
     "user_tz": 0
    },
    "id": "ozzAngiSfhvt",
    "outputId": "3b25f8f6-f928-457b-f8c2-af94001d1348"
   },
   "outputs": [
    {
     "data": {
      "text/plain": [
       "1.9095238095238096"
      ]
     },
     "execution_count": 46,
     "metadata": {},
     "output_type": "execute_result"
    }
   ],
   "source": [
    "# Compute the average shortest path for the network\n",
    "\n",
    "nx.average_shortest_path_length(GraphStarWars)"
   ]
  },
  {
   "cell_type": "code",
   "execution_count": 47,
   "metadata": {
    "colab": {
     "base_uri": "https://localhost:8080/"
    },
    "executionInfo": {
     "elapsed": 22103,
     "status": "ok",
     "timestamp": 1616453012013,
     "user": {
      "displayName": "Valentin Danchev",
      "photoUrl": "https://lh3.googleusercontent.com/a-/AOh14Gh90YzToc2qd-IrJXNzgu3LRVLxkU3sMg1swbMwzg=s64",
      "userId": "02219535538470165535"
     },
     "user_tz": 0
    },
    "id": "gxbBxgpEfpkz",
    "outputId": "6836067c-f57a-41e8-a26c-108ce36b8c00"
   },
   "outputs": [
    {
     "data": {
      "text/plain": [
       "{'LUKE': 0,\n",
       " 'GOLD LEADER': 1,\n",
       " 'DODONNA': 1,\n",
       " 'R2-D2': 1,\n",
       " 'LEIA': 1,\n",
       " 'CHEWBACCA': 1,\n",
       " 'CAMIE': 1,\n",
       " 'C-3PO': 1,\n",
       " 'OWEN': 1,\n",
       " 'RED LEADER': 1,\n",
       " 'RED TEN': 1,\n",
       " 'BIGGS': 1,\n",
       " 'BERU': 1,\n",
       " 'OBI-WAN': 1,\n",
       " 'HAN': 1,\n",
       " 'WEDGE': 1,\n",
       " 'MOTTI': 2,\n",
       " 'JABBA': 2,\n",
       " 'GREEDO': 2,\n",
       " 'DARTH VADER': 2,\n",
       " 'TARKIN': 2}"
      ]
     },
     "execution_count": 47,
     "metadata": {},
     "output_type": "execute_result"
    }
   ],
   "source": [
    "# Get the distance from one character (e.g., Luke) to any other character\n",
    "\n",
    "nx.shortest_path_length(GraphStarWars, 'LUKE')"
   ]
  },
  {
   "cell_type": "code",
   "execution_count": 48,
   "metadata": {
    "colab": {
     "base_uri": "https://localhost:8080/"
    },
    "executionInfo": {
     "elapsed": 22101,
     "status": "ok",
     "timestamp": 1616453012013,
     "user": {
      "displayName": "Valentin Danchev",
      "photoUrl": "https://lh3.googleusercontent.com/a-/AOh14Gh90YzToc2qd-IrJXNzgu3LRVLxkU3sMg1swbMwzg=s64",
      "userId": "02219535538470165535"
     },
     "user_tz": 0
    },
    "id": "8LeV3MKSfspf",
    "outputId": "548b83a7-b3be-42c2-ce1b-3356e6fb46ce"
   },
   "outputs": [
    {
     "data": {
      "text/plain": [
       "['LUKE', 'CHEWBACCA', 'DARTH VADER']"
      ]
     },
     "execution_count": 48,
     "metadata": {},
     "output_type": "execute_result"
    }
   ],
   "source": [
    "# Get the shortes path between any two characters\n",
    "nx.shortest_path(GraphStarWars, 'LUKE','DARTH VADER')"
   ]
  },
  {
   "cell_type": "code",
   "execution_count": 49,
   "metadata": {
    "colab": {
     "base_uri": "https://localhost:8080/"
    },
    "executionInfo": {
     "elapsed": 22100,
     "status": "ok",
     "timestamp": 1616453012014,
     "user": {
      "displayName": "Valentin Danchev",
      "photoUrl": "https://lh3.googleusercontent.com/a-/AOh14Gh90YzToc2qd-IrJXNzgu3LRVLxkU3sMg1swbMwzg=s64",
      "userId": "02219535538470165535"
     },
     "user_tz": 0
    },
    "id": "DsiCdo37Zls-",
    "outputId": "ed4726b5-5c4a-4618-af01-385122f85f46"
   },
   "outputs": [
    {
     "data": {
      "text/plain": [
       "[('LUKE', 62.428571428571416),\n",
       " ('LEIA', 45.59523809523809),\n",
       " ('HAN', 37.0),\n",
       " ('C-3PO', 12.095238095238093),\n",
       " ('CHEWBACCA', 7.452380952380952),\n",
       " ('BIGGS', 6.749999999999999),\n",
       " ('RED LEADER', 6.749999999999999),\n",
       " ('OBI-WAN', 3.119047619047619),\n",
       " ('R2-D2', 2.5),\n",
       " ('DARTH VADER', 2.5)]"
      ]
     },
     "execution_count": 49,
     "metadata": {},
     "output_type": "execute_result"
    }
   ],
   "source": [
    "# Compute betweenness centrality — unweighted\n",
    "\n",
    "betweenness = nx.betweenness_centrality(GraphStarWars, normalized=False)\n",
    "sorted(betweenness.items(), key=lambda x:x[1], reverse=True)[0:10]"
   ]
  },
  {
   "cell_type": "code",
   "execution_count": 50,
   "metadata": {
    "colab": {
     "base_uri": "https://localhost:8080/"
    },
    "executionInfo": {
     "elapsed": 22098,
     "status": "ok",
     "timestamp": 1616453012014,
     "user": {
      "displayName": "Valentin Danchev",
      "photoUrl": "https://lh3.googleusercontent.com/a-/AOh14Gh90YzToc2qd-IrJXNzgu3LRVLxkU3sMg1swbMwzg=s64",
      "userId": "02219535538470165535"
     },
     "user_tz": 0
    },
    "id": "OvRb7km1Zleo",
    "outputId": "17a018d0-6529-4341-e9df-b45c9a784d18"
   },
   "outputs": [
    {
     "data": {
      "text/plain": [
       "[('LEIA', 59.95000000000001),\n",
       " ('DODONNA', 47.53333333333333),\n",
       " ('HAN', 37.0),\n",
       " ('C-3PO', 32.78333333333333),\n",
       " ('BIGGS', 31.91666666666667),\n",
       " ('RED LEADER', 31.416666666666668),\n",
       " ('GOLD LEADER', 23.799999999999997),\n",
       " ('R2-D2', 22.75),\n",
       " ('LUKE', 18.333333333333332),\n",
       " ('CHEWBACCA', 15.916666666666664)]"
      ]
     },
     "execution_count": 50,
     "metadata": {},
     "output_type": "execute_result"
    }
   ],
   "source": [
    "# Compute betweenness centrality — weighted\n",
    "\n",
    "betweenness = nx.betweenness_centrality(GraphStarWars, weight='weight', normalized=False)\n",
    "sorted(betweenness.items(), key=lambda x:x[1], reverse=True)[0:10]"
   ]
  },
  {
   "cell_type": "code",
   "execution_count": 51,
   "metadata": {
    "colab": {
     "base_uri": "https://localhost:8080/"
    },
    "executionInfo": {
     "elapsed": 22095,
     "status": "ok",
     "timestamp": 1616453012014,
     "user": {
      "displayName": "Valentin Danchev",
      "photoUrl": "https://lh3.googleusercontent.com/a-/AOh14Gh90YzToc2qd-IrJXNzgu3LRVLxkU3sMg1swbMwzg=s64",
      "userId": "02219535538470165535"
     },
     "user_tz": 0
    },
    "id": "dMfXIjoDe7bG",
    "outputId": "b95b5fb6-79f1-48cb-f994-60b2151f7974"
   },
   "outputs": [
    {
     "data": {
      "text/plain": [
       "[('LUKE', 0.4173849989544929),\n",
       " ('LEIA', 0.3621476171212341),\n",
       " ('C-3PO', 0.34237759659841116),\n",
       " ('CHEWBACCA', 0.29309285556955944),\n",
       " ('R2-D2', 0.2768558557532187),\n",
       " ('OBI-WAN', 0.27354238616778775),\n",
       " ('HAN', 0.2652851070021197),\n",
       " ('RED LEADER', 0.22769355656700285),\n",
       " ('BIGGS', 0.22769355656700282),\n",
       " ('DODONNA', 0.16949029608351718)]"
      ]
     },
     "execution_count": 51,
     "metadata": {},
     "output_type": "execute_result"
    }
   ],
   "source": [
    "# Compute eigenvector centrality\n",
    "\n",
    "eigenvector = nx.eigenvector_centrality(GraphStarWars)\n",
    "sorted(eigenvector.items(), key=lambda x:x[1], reverse=True)[0:10]"
   ]
  },
  {
   "cell_type": "markdown",
   "metadata": {
    "id": "nlebqA4TgDUx"
   },
   "source": [
    "# References\n",
    "* Menczer, F., Fortunato, S., Davis, C. 2020. [A first course in network science.](https://www.cambridge.org/highereducation/books/first-course-in-network-science/EE22722F27519D8BB1443C7225C57BAF#overview) Cambridge University Press.\n",
    "* Rob Chew’s and Peter Baumgartner’s tutorial [Connected: A Social Network Analysis Tutorial with NetworkX](https://www.youtube.com/watch?v=7fsreJMy_pI). PyData 2016. \n",
    "* Edward L. Platt. 2020. [Network Science with Python and NetworkX Quick Start Guide: Explore and visualize network data effectively](https://github.com/PacktPublishing/Network-Science-with-Python-and-NetworkX-Quick-Start-Guide). Packt Publishing.\n",
    "* Evelina Gabasova. 2015. [The Star Wars social network](http://evelinag.com/blog/2015/12-15-star-wars-social-network/). "
   ]
  }
 ],
 "metadata": {
  "colab": {
   "collapsed_sections": [
    "4SJZVt_M5Krj",
    "KmfoNuDb5Krv"
   ],
   "name": "NetworkAnalysis.ipynb",
   "provenance": [
    {
     "file_id": "1KRI-mdlynZ0wvp6OEFzK69dG03h3PBh-",
     "timestamp": 1616452341206
    }
   ],
   "toc_visible": true
  },
  "kernelspec": {
   "display_name": "Python 3",
   "language": "python",
   "name": "python3"
  },
  "language_info": {
   "codemirror_mode": {
    "name": "ipython",
    "version": 3
   },
   "file_extension": ".py",
   "mimetype": "text/x-python",
   "name": "python",
   "nbconvert_exporter": "python",
   "pygments_lexer": "ipython3",
   "version": "3.8.5"
  }
 },
 "nbformat": 4,
 "nbformat_minor": 4
}