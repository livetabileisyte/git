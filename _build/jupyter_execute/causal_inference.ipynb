{
 "cells": [
  {
   "cell_type": "markdown",
   "metadata": {
    "id": "S5AgZXCoOYF5"
   },
   "source": [
    "# Introduction to Causal Inference"
   ]
  },
  {
   "cell_type": "markdown",
   "metadata": {
    "id": "oiX6fj0KPSwq"
   },
   "source": [
    "# What causes what? \n",
    "\n",
    "Observational data (i.e., data recorded from human activity) and big data sources in particular are rife with spurious correlations between variables that appear to be associated in a model but are not causally linked. As a result, many models would pick some interesting associations in the data, which may appear statistically significant but likely lack practical significance. If the goal is to implement a new policy or interventions that may introduce change in the social world, we need knowledge about the underlying causal structure of the problem — what causes what. Specifically, we would like to know the effect of a particular _treatment_ (any policy or intervention, for example, Work from Home) on an _Outcome_ (for example, Number of coronavirus cases) and compare the observed effect to a counterfactual question, for example, 'What would have been the Number of coronavirus cases if a Work from home policy was not introduced?'.\n",
    "\n",
    "Causal graphs or DAGs (Directed Acyclical Graphs) are a useful tool for drawing intuitive pictures that:\n",
    "* Reflect our assumptions about our treatment, outcome, and associated factors. \n",
    "* Highlight possible sources of bias (e.g., confounding) which may otherwise be unnoticed.\n",
    "* Improve our data analysis for causal inference.\n",
    "\n",
    "In a causal graph (see Figure 1 below), each variable has a corresponding node, and the arrows reflect the direction of causation we assume of the basis of domain knowledge.\n",
    "\n",
    "## Learning resources\n",
    "\n",
    "<i class=\"fas fa-book\"></i> <i class=\"fas fa-code\"></i> Scott Cunningham. [Chapter 3: Directed Acyclical Graphs](https://mixtape.scunning.com/dag.html) in [Causal Inference: The Mixtape.](https://mixtape.scunning.com/index.html) Yale University Press.  \n",
    "\n",
    "<i class=\"fas fa-book\"></i> <i class=\"fas fa-code\"></i> <i class=\"fas fa-play-circle\"></i> [Chapter 6. The Haunted DAG & The Causal Terror](https://xcelab.net/rm/statistical-rethinking/) in Richard McElreath's Statistical Rethinking book and associated [video lecture](https://www.youtube.com/watch?v=l_7yIUqWBmE).\n",
    "\n",
    "<i class=\"fas fa-play-circle\"></i> Miguel Hernán. [Causal Diagrams: Draw Your Assumptions Before Your Conclusions](https://www.edx.org/course/causal-diagrams-draw-your-assumptions-before-your). edX.\n",
    "\n",
    "<i class=\"fas fa-book\"></i> Kosuke Imai. [Chapter 2: Causality](http://assets.press.princeton.edu/chapters/s2-11025.pdf) in Quantitative Social Science. Princeton University Press.\n",
    " \n",
    "<i class=\"fas fa-book\"></i> Stephen L. Morgan and Christopher Winship. Counterfactuals and Causal Inference. Cambridge University Press.\n",
    "\n",
    "<i class=\"fas fa-book\"></i> Hernán MA, Robins JM (2020). [Causal Inference: What If.](https://cdn1.sph.harvard.edu/wp-content/uploads/sites/1268/2021/03/ciwhatif_hernanrobins_30mar21.pdf) Boca Raton: Chapman & Hall/CRC.\n",
    "\n",
    "<i class=\"fas fa-scroll\"></i> Miguel Hernán, John Hsu, and Brian Healy. [A Second Chance to Get Causal Inference Right: A Classification of Data Science Tasks.](https://amstat.tandfonline.com/doi/pdf/10.1080/09332480.2019.1579578?needAccess=true) CHANCE.\n",
    "\n",
    "\n",
    "# Confounding—basic definitions\n",
    "\n",
    "To keep things concrete, in this lab, we will use DAGs to shed some light on the problem of confounding with a focus on two common confounds: (2) the fork and (3) the collider. In particular, we will discuss the collider confound as the 'fork' confound is typically well understood in the social sciences. \n",
    "\n",
    "\n",
    "## Definitions\n",
    "* **Confounding**: any interference such that the effect of predictors X on an outcome of interest Y is not the same as it would have been had we experimentally determined the predictors X. In experimental settings, we have treatment and control groups that are comparable with respect to every characteristic related to the outcome with the only difference being that the treatment group received the treatment and the control group did not.\n",
    "\n",
    "    * **Fork**: A variable Y is a common cause of X and Z, inducing a spurious correlation between them. This is the most common example of confounding (see [Kosuke Imai's Quantitative Social Science, page 57](https://assets.press.princeton.edu/chapters/s2-11025.pdf)).\n",
    "\n",
    "    * **Collider**: Relationship between X and Z does not exist unless we condition on Y, which is a collider variable (because the paths from X and Z collide in Y).\n",
    "\n",
    "<img src=\"https://miro.medium.com/max/4800/1*bmORaFV5mKqUTaML7ib_Rw.png\" width=\"600\" height=\"300\"/>\n",
    "\n",
    "Figure 1. [DAG representation](https://medium.com/@akelleh/a-technical-primer-on-causality-181db2575e41) of fork (left) and collider (right). Source: [A Technical Primer On Causality](https://medium.com/@akelleh/a-technical-primer-on-causality-181db2575e41) by Adam Kelleher.\n",
    "\n",
    "# Our example of collider bias\n",
    "\n",
    "Many canonical examples of collider bias exist in the literature, but we will develop our own example using a data set we know well — the Understanding Society Covid-19 survey data.  \n",
    "\n",
    "Consider a situation in which both variables Working from home and Age have an effect on the Risk of getting Covid-19 but are not correlated between each other in the entire data set. Then we condition on the respondents who considered the risk for getting Covid-19 'Very likely' as an example of problematic conditioning on a collider variable. After this problematic conditioning, we observe a strong negative relationship between Age and Work from home. In short, Work from home and Age are not correlated in the population but get correlated once conditioning on perceived very high risk of getting Covid-19, introducing collider bias. Of course, in this example we use survey data, and not many would condition on 'Very likely' risk of getting Covid-19, but in many observational data sets, we may have data only about a pre-selected subset of the population so our data may contain such problematic selection, introducing collider bias, by design."
   ]
  },
  {
   "cell_type": "markdown",
   "metadata": {},
   "source": [
    "# Drawing causal graphs\n",
    "\n",
    "To visualise our example as a causal graph, we will use the R package [`ggdag`](https://cran.r-project.org/web/packages/ggdag/ggdag.pdf). This [tutorial](https://cran.r-project.org/web/packages/ggdag/vignettes/bias-structures.html) by Malcolm Barrett gives a good overview of `ggdag` and its capabilities.\n",
    "\n",
    "In order to run R in a Python Jupyter, we need to install the `rpy2` package which provides Python interface to the R language."
   ]
  },
  {
   "cell_type": "code",
   "execution_count": 1,
   "metadata": {},
   "outputs": [
    {
     "name": "stdout",
     "output_type": "stream",
     "text": [
      "Requirement already satisfied: rpy2 in /Users/valentindanchev/opt/anaconda3/lib/python3.8/site-packages (3.3.6)\r\n",
      "Requirement already satisfied: pytest in /Users/valentindanchev/opt/anaconda3/lib/python3.8/site-packages (from rpy2) (0.0.0)\r\n",
      "Requirement already satisfied: pytz in /Users/valentindanchev/opt/anaconda3/lib/python3.8/site-packages (from rpy2) (2020.4)\r\n",
      "Requirement already satisfied: tzlocal in /Users/valentindanchev/opt/anaconda3/lib/python3.8/site-packages (from rpy2) (2.1)\r\n",
      "Requirement already satisfied: cffi>=1.10.0 in /Users/valentindanchev/opt/anaconda3/lib/python3.8/site-packages (from rpy2) (1.14.4)\r\n",
      "Requirement already satisfied: jinja2 in /Users/valentindanchev/opt/anaconda3/lib/python3.8/site-packages (from rpy2) (2.11.2)\r\n",
      "Requirement already satisfied: pycparser in /Users/valentindanchev/opt/anaconda3/lib/python3.8/site-packages (from cffi>=1.10.0->rpy2) (2.20)\r\n"
     ]
    },
    {
     "name": "stdout",
     "output_type": "stream",
     "text": [
      "Requirement already satisfied: MarkupSafe>=0.23 in /Users/valentindanchev/opt/anaconda3/lib/python3.8/site-packages (from jinja2->rpy2) (1.1.1)\r\n",
      "Requirement already satisfied: attrs>=17.4.0 in /Users/valentindanchev/opt/anaconda3/lib/python3.8/site-packages (from pytest->rpy2) (20.3.0)\r\n",
      "Requirement already satisfied: iniconfig in /Users/valentindanchev/opt/anaconda3/lib/python3.8/site-packages (from pytest->rpy2) (1.1.1)\r\n",
      "Requirement already satisfied: packaging in /Users/valentindanchev/opt/anaconda3/lib/python3.8/site-packages (from pytest->rpy2) (20.7)\r\n",
      "Requirement already satisfied: pluggy<1.0,>=0.12 in /Users/valentindanchev/opt/anaconda3/lib/python3.8/site-packages (from pytest->rpy2) (0.13.1)\r\n",
      "Requirement already satisfied: py>=1.8.2 in /Users/valentindanchev/opt/anaconda3/lib/python3.8/site-packages (from pytest->rpy2) (1.9.0)\r\n",
      "Requirement already satisfied: toml in /Users/valentindanchev/opt/anaconda3/lib/python3.8/site-packages (from pytest->rpy2) (0.10.1)\r\n",
      "Requirement already satisfied: pyparsing>=2.0.2 in /Users/valentindanchev/opt/anaconda3/lib/python3.8/site-packages (from packaging->pytest->rpy2) (2.4.7)\r\n"
     ]
    },
    {
     "name": "stdout",
     "output_type": "stream",
     "text": [
      "Requirement already satisfied: pytz in /Users/valentindanchev/opt/anaconda3/lib/python3.8/site-packages (from rpy2) (2020.4)\r\n"
     ]
    }
   ],
   "source": [
    "!pip install rpy2\n",
    "\n",
    "# To enable the %%R cell magic command, which turns a cell to be interpreted as an R code, we execute %load_ext rpy2.ipython\n",
    "%load_ext rpy2.ipython"
   ]
  },
  {
   "cell_type": "code",
   "execution_count": null,
   "metadata": {},
   "outputs": [],
   "source": []
  },
  {
   "cell_type": "markdown",
   "metadata": {},
   "source": [
    "Now we can run R code in a cell by adding the R cell magic command `%%R`."
   ]
  },
  {
   "cell_type": "code",
   "execution_count": 2,
   "metadata": {},
   "outputs": [
    {
     "name": "stderr",
     "output_type": "stream",
     "text": [
      "R[write to console]: Loading required package: ggplot2\n",
      "\n"
     ]
    },
    {
     "name": "stderr",
     "output_type": "stream",
     "text": [
      "R[write to console]: \n",
      "Attaching package: ‘ggdag’\n",
      "\n",
      "\n"
     ]
    },
    {
     "name": "stderr",
     "output_type": "stream",
     "text": [
      "R[write to console]: The following object is masked from ‘package:stats’:\n",
      "\n",
      "    filter\n",
      "\n",
      "\n"
     ]
    }
   ],
   "source": [
    "%%R\n",
    "#install.packages('ggdag') # you will need to select a CRAN mirror from where to install the package; for example, typing in '70' will select UK London  \n",
    "library(ggdag)\n",
    "theme_set(theme_dag())"
   ]
  },
  {
   "cell_type": "markdown",
   "metadata": {},
   "source": [
    "Import the `ggdag` package.  "
   ]
  },
  {
   "cell_type": "code",
   "execution_count": 3,
   "metadata": {},
   "outputs": [],
   "source": [
    "%%R\n",
    "library(ggdag)\n",
    "theme_set(theme_dag())"
   ]
  },
  {
   "cell_type": "markdown",
   "metadata": {},
   "source": [
    "In our model, we assume that both variables _Work from home_ and _Age_ affect the outcome variable, _Risk of getting Covid-19_. We also assume that _Working at home_ and _Age_ are not causally connected. Below we represent our simple model using a causal graph. The node where _Work from home_ and _Age_ arrowheads meet is called a collider, meaning that both variables collide there. Let's now plot a causal graph with our three variables."
   ]
  },
  {
   "cell_type": "code",
   "execution_count": 4,
   "metadata": {},
   "outputs": [
    {
     "data": {
      "image/png": "[encoded data removed]"
     },
     "metadata": {
      "filenames": {
       "image/png": "/Users/valentindanchev/Documents/MyJupyterBook/reproducible_data_science/_build/jupyter_execute/causal_inference_10_0.png"
      }
     },
     "output_type": "display_data"
    }
   ],
   "source": [
    "%%R\n",
    "RiskCovid_dag <- collider_triangle(x = \"Not Work from Home\", \n",
    "                  y = \"Age\", \n",
    "                  m = \"Perceived risk from getting Covid-19\") \n",
    "\n",
    "ggdag(RiskCovid_dag, text = FALSE, use_labels = \"label\", node_size = 20, text_size = 6)"
   ]
  },
  {
   "cell_type": "code",
   "execution_count": 5,
   "metadata": {},
   "outputs": [
    {
     "data": {
      "image/png": "[encoded data removed]"
     },
     "metadata": {
      "filenames": {
       "image/png": "/Users/valentindanchev/Documents/MyJupyterBook/reproducible_data_science/_build/jupyter_execute/causal_inference_11_0.png"
      }
     },
     "output_type": "display_data"
    }
   ],
   "source": [
    "%%R\n",
    "ggdag_dseparated(RiskCovid_dag, text = FALSE, use_labels = \"label\", text_size = 6)"
   ]
  },
  {
   "cell_type": "markdown",
   "metadata": {},
   "source": [
    "Although Work from home and Age are not correlated in the population, they may get correlated once we condition on Very high risk of getting Covid-19. The square shape of the variable _Risk of getting Covid-19_ indicates that we condition on that variable being a certain value, in our case on people with Very high perceived risk of getting Covid-19."
   ]
  },
  {
   "cell_type": "code",
   "execution_count": 6,
   "metadata": {},
   "outputs": [
    {
     "data": {
      "image/png": "[encoded data removed]"
     },
     "metadata": {
      "filenames": {
       "image/png": "/Users/valentindanchev/Documents/MyJupyterBook/reproducible_data_science/_build/jupyter_execute/causal_inference_13_0.png"
      }
     },
     "output_type": "display_data"
    }
   ],
   "source": [
    "%%R\n",
    "ggdag_dseparated(RiskCovid_dag, controlling_for = \"m\",\n",
    "                 text = FALSE, use_labels = \"label\", text_size = 6)"
   ]
  },
  {
   "cell_type": "markdown",
   "metadata": {
    "id": "0Ysiz5yj63H_"
   },
   "source": [
    "# Statistical Models in Python\n",
    "\n",
    "We will now perform our analysis to see how conditioning in a model can introduce a collider bias. \n",
    "\n",
    "In this lab, we will use the Python library [`statsmodels`](https://www.statsmodels.org/devel/examples/index.html). `statsmodels` is a Python module that provides functions for the estimation of many different statistical models.\n",
    "\n",
    "<img src=\"https://www.statsmodels.org/devel/_images/statsmodels-logo-v2-horizontal.svg\" width=\"400\" height=\"200\"/>\n"
   ]
  },
  {
   "cell_type": "markdown",
   "metadata": {
    "id": "rJj1lImS7gSc"
   },
   "source": [
    "# Collider confounder\n",
    "\n",
    "We will use real data from Understanding Society Covid-19 (Wave 6, November 2021) to demonstrate the causal structure of collider confounder. Let's first load the survey data."
   ]
  },
  {
   "cell_type": "code",
   "execution_count": 7,
   "metadata": {
    "colab": {
     "base_uri": "https://localhost:8080/"
    },
    "executionInfo": {
     "elapsed": 8,
     "status": "ok",
     "timestamp": 1615886759123,
     "user": {
      "displayName": "Valentin Danchev",
      "photoUrl": "https://lh3.googleusercontent.com/a-/AOh14Gh90YzToc2qd-IrJXNzgu3LRVLxkU3sMg1swbMwzg=s64",
      "userId": "02219535538470165535"
     },
     "user_tz": 0
    },
    "id": "SqfIuUuBmd8j",
    "outputId": "7593a699-2751-427b-bcd5-6fd37c0b85a1"
   },
   "outputs": [
    {
     "ename": "ModuleNotFoundError",
     "evalue": "No module named 'google'",
     "output_type": "error",
     "traceback": [
      "\u001b[0;31m---------------------------------------------------------------------------\u001b[0m",
      "\u001b[0;31mModuleNotFoundError\u001b[0m                       Traceback (most recent call last)",
      "\u001b[0;32m<ipython-input-7-9b2f03ff29d8>\u001b[0m in \u001b[0;36m<module>\u001b[0;34m\u001b[0m\n\u001b[1;32m      1\u001b[0m \u001b[0;31m# Import the Drive helper\u001b[0m\u001b[0;34m\u001b[0m\u001b[0;34m\u001b[0m\u001b[0;34m\u001b[0m\u001b[0m\n\u001b[0;32m----> 2\u001b[0;31m \u001b[0;32mfrom\u001b[0m \u001b[0mgoogle\u001b[0m\u001b[0;34m.\u001b[0m\u001b[0mcolab\u001b[0m \u001b[0;32mimport\u001b[0m \u001b[0mdrive\u001b[0m\u001b[0;34m\u001b[0m\u001b[0;34m\u001b[0m\u001b[0m\n\u001b[0m\u001b[1;32m      3\u001b[0m \u001b[0;34m\u001b[0m\u001b[0m\n\u001b[1;32m      4\u001b[0m \u001b[0;31m# This will prompt for authorization. Enter your authorisation code and rerun the cell.\u001b[0m\u001b[0;34m\u001b[0m\u001b[0;34m\u001b[0m\u001b[0;34m\u001b[0m\u001b[0m\n\u001b[1;32m      5\u001b[0m \u001b[0mdrive\u001b[0m\u001b[0;34m.\u001b[0m\u001b[0mmount\u001b[0m\u001b[0;34m(\u001b[0m\u001b[0;34m'/content/drive'\u001b[0m\u001b[0;34m)\u001b[0m\u001b[0;34m\u001b[0m\u001b[0;34m\u001b[0m\u001b[0m\n",
      "\u001b[0;31mModuleNotFoundError\u001b[0m: No module named 'google'"
     ]
    }
   ],
   "source": [
    "# Import the Drive helper\n",
    "from google.colab import drive\n",
    "\n",
    "# This will prompt for authorization. Enter your authorisation code and rerun the cell. \n",
    "drive.mount('/content/drive')"
   ]
  },
  {
   "cell_type": "code",
   "execution_count": 1,
   "metadata": {
    "colab": {
     "base_uri": "https://localhost:8080/",
     "height": 423
    },
    "executionInfo": {
     "elapsed": 2628,
     "status": "ok",
     "timestamp": 1615886763612,
     "user": {
      "displayName": "Valentin Danchev",
      "photoUrl": "https://lh3.googleusercontent.com/a-/AOh14Gh90YzToc2qd-IrJXNzgu3LRVLxkU3sMg1swbMwzg=s64",
      "userId": "02219535538470165535"
     },
     "user_tz": 0
    },
    "id": "xc5jz6POmsks",
    "outputId": "aa9841f0-7c60-4da6-a073-5bebcf08835f"
   },
   "outputs": [
    {
     "data": {
      "text/html": [
       "<div>\n",
       "<style scoped>\n",
       "    .dataframe tbody tr th:only-of-type {\n",
       "        vertical-align: middle;\n",
       "    }\n",
       "\n",
       "    .dataframe tbody tr th {\n",
       "        vertical-align: top;\n",
       "    }\n",
       "\n",
       "    .dataframe thead th {\n",
       "        text-align: right;\n",
       "    }\n",
       "</style>\n",
       "<table border=\"1\" class=\"dataframe\">\n",
       "  <thead>\n",
       "    <tr style=\"text-align: right;\">\n",
       "      <th></th>\n",
       "      <th>pidp</th>\n",
       "      <th>psu</th>\n",
       "      <th>strata</th>\n",
       "      <th>birthy</th>\n",
       "      <th>racel_dv</th>\n",
       "      <th>bornuk_dv</th>\n",
       "      <th>i_hidp</th>\n",
       "      <th>j_hidp</th>\n",
       "      <th>k_hidp</th>\n",
       "      <th>i_ioutcome</th>\n",
       "      <th>...</th>\n",
       "      <th>cf_ff_intm</th>\n",
       "      <th>cf_ff_inty</th>\n",
       "      <th>cf_ff_country</th>\n",
       "      <th>cf_gor_dv</th>\n",
       "      <th>cf_aid_dv</th>\n",
       "      <th>cf_betaindin_xw</th>\n",
       "      <th>cf_betaindin_xw_t</th>\n",
       "      <th>cf_betaindin_lw</th>\n",
       "      <th>cf_betaindin_lw_t1</th>\n",
       "      <th>cf_betaindin_lw_t2</th>\n",
       "    </tr>\n",
       "  </thead>\n",
       "  <tbody>\n",
       "  </tbody>\n",
       "</table>\n",
       "<p>0 rows × 916 columns</p>\n",
       "</div>"
      ],
      "text/plain": [
       "Empty DataFrame\n",
       "Columns: [pidp, psu, strata, birthy, racel_dv, bornuk_dv, i_hidp, j_hidp, k_hidp, i_ioutcome, j_ioutcome, k_ioutcome, cf_welsh, cf_dobchk, cf_age, cf_sex_cv, cf_addrchk, cf_couplewsh, cf_hhnum, cf_personsexa, cf_personsexb, cf_personsexc, cf_personsexd, cf_personsexe, cf_personsexf, cf_personsexg, cf_personsexh, cf_personsexi, cf_personsexj, cf_personsexk, cf_personagea, cf_personageb, cf_personagec, cf_personaged, cf_personagee, cf_personagef, cf_personageg, cf_personageh, cf_personagei, cf_personagej, cf_personagek, cf_relationa, cf_relationb, cf_relationc, cf_relationd, cf_relatione, cf_relationf, cf_relationg, cf_relationh, cf_relationi, cf_relationj, cf_relationk, cf_couple, cf_hhcompa, cf_hhcompb, cf_hhcompc, cf_hhcompd, cf_hhcompe, cf_parent0plus, cf_parent5plus, cf_parent015, cf_parent1619, cf_parent511, cf_parent1217, cf_parent418, cf_scsf1, cf_ff_hadsymp, cf_clinvuln_dv, cf_hadsymp, cf_hassymp, cf_symptoms1, cf_symptoms2, cf_symptoms23, cf_symptoms24, cf_symptoms25, cf_symptoms3, cf_symptoms4, cf_symptoms5, cf_symptoms6, cf_symptoms7, cf_symptoms8, cf_symptoms9, cf_symptoms10, cf_symptoms12, cf_symptoms13, cf_symptoms14, cf_symptoms15, cf_symptoms16, cf_symptoms17, cf_symptoms18, cf_symptoms19, cf_symptoms20, cf_symptoms21, cf_symptoms22, cf_symptoms11, cf_cv19treat, cf_cv19trwhat1, cf_cv19trwhat2, cf_cv19trwhat3, cf_cv19trwhat4, ...]\n",
       "Index: []\n",
       "\n",
       "[0 rows x 916 columns]"
      ]
     },
     "execution_count": 1,
     "metadata": {},
     "output_type": "execute_result"
    }
   ],
   "source": [
    "import pandas as pd\n",
    "USocietyCovid = pd.read_csv('/content/drive/My Drive/Understanding_Society_Covid19_Wave6_November2020.csv')\n",
    "USocietyCovid.head(0) # display headings only as the data is safeguarded"
   ]
  },
  {
   "cell_type": "markdown",
   "metadata": {
    "id": "TWHHuWGhFlqk"
   },
   "source": [
    "### Variables\n",
    "\n",
    "To make things concrete, let's select three variables. \n",
    "\n",
    "|Variable in Our Model | Description| Variable Name | Values \n",
    "|---| ---| ---|---|\n",
    "| X | Working at home| cf_wah | 1 = Always, 2 = Often, 3 = Sometimes, 4 = Never\n",
    "| Z | Age | cf_age | Integer values (whole numbers)\n",
    "| Y | Risk of getting covid19 | cf_riskcv19 | 1 = Very likely, 2 = Likely, 3 = Unlikely, 4 = Very unlikely"
   ]
  },
  {
   "cell_type": "code",
   "execution_count": null,
   "metadata": {
    "colab": {
     "base_uri": "https://localhost:8080/",
     "height": 419
    },
    "executionInfo": {
     "elapsed": 534,
     "status": "ok",
     "timestamp": 1615887147225,
     "user": {
      "displayName": "Valentin Danchev",
      "photoUrl": "https://lh3.googleusercontent.com/a-/AOh14Gh90YzToc2qd-IrJXNzgu3LRVLxkU3sMg1swbMwzg=s64",
      "userId": "02219535538470165535"
     },
     "user_tz": 0
    },
    "id": "d3DfCq1EFnvt",
    "outputId": "1ccecd29-588a-45f4-ed95-92bbdfa002e0"
   },
   "outputs": [
    {
     "data": {
      "text/html": [
       "<div>\n",
       "<style scoped>\n",
       "    .dataframe tbody tr th:only-of-type {\n",
       "        vertical-align: middle;\n",
       "    }\n",
       "\n",
       "    .dataframe tbody tr th {\n",
       "        vertical-align: top;\n",
       "    }\n",
       "\n",
       "    .dataframe thead th {\n",
       "        text-align: right;\n",
       "    }\n",
       "</style>\n",
       "<table border=\"1\" class=\"dataframe\">\n",
       "  <thead>\n",
       "    <tr style=\"text-align: right;\">\n",
       "      <th></th>\n",
       "      <th>cf_wah</th>\n",
       "      <th>cf_age</th>\n",
       "      <th>cf_riskcv19</th>\n",
       "    </tr>\n",
       "  </thead>\n",
       "  <tbody>\n",
       "    <tr>\n",
       "      <th>0</th>\n",
       "      <td>1</td>\n",
       "      <td>37</td>\n",
       "      <td>4</td>\n",
       "    </tr>\n",
       "    <tr>\n",
       "      <th>2</th>\n",
       "      <td>3</td>\n",
       "      <td>55</td>\n",
       "      <td>3</td>\n",
       "    </tr>\n",
       "    <tr>\n",
       "      <th>3</th>\n",
       "      <td>2</td>\n",
       "      <td>38</td>\n",
       "      <td>4</td>\n",
       "    </tr>\n",
       "    <tr>\n",
       "      <th>5</th>\n",
       "      <td>4</td>\n",
       "      <td>63</td>\n",
       "      <td>3</td>\n",
       "    </tr>\n",
       "    <tr>\n",
       "      <th>6</th>\n",
       "      <td>3</td>\n",
       "      <td>56</td>\n",
       "      <td>4</td>\n",
       "    </tr>\n",
       "    <tr>\n",
       "      <th>...</th>\n",
       "      <td>...</td>\n",
       "      <td>...</td>\n",
       "      <td>...</td>\n",
       "    </tr>\n",
       "    <tr>\n",
       "      <th>12026</th>\n",
       "      <td>3</td>\n",
       "      <td>41</td>\n",
       "      <td>3</td>\n",
       "    </tr>\n",
       "    <tr>\n",
       "      <th>12028</th>\n",
       "      <td>4</td>\n",
       "      <td>39</td>\n",
       "      <td>3</td>\n",
       "    </tr>\n",
       "    <tr>\n",
       "      <th>12029</th>\n",
       "      <td>1</td>\n",
       "      <td>41</td>\n",
       "      <td>4</td>\n",
       "    </tr>\n",
       "    <tr>\n",
       "      <th>12030</th>\n",
       "      <td>1</td>\n",
       "      <td>57</td>\n",
       "      <td>4</td>\n",
       "    </tr>\n",
       "    <tr>\n",
       "      <th>12034</th>\n",
       "      <td>1</td>\n",
       "      <td>41</td>\n",
       "      <td>3</td>\n",
       "    </tr>\n",
       "  </tbody>\n",
       "</table>\n",
       "<p>6683 rows × 3 columns</p>\n",
       "</div>"
      ],
      "text/plain": [
       "       cf_wah  cf_age  cf_riskcv19\n",
       "0           1      37            4\n",
       "2           3      55            3\n",
       "3           2      38            4\n",
       "5           4      63            3\n",
       "6           3      56            4\n",
       "...       ...     ...          ...\n",
       "12026       3      41            3\n",
       "12028       4      39            3\n",
       "12029       1      41            4\n",
       "12030       1      57            4\n",
       "12034       1      41            3\n",
       "\n",
       "[6683 rows x 3 columns]"
      ]
     },
     "execution_count": 5,
     "metadata": {
      "tags": []
     },
     "output_type": "execute_result"
    }
   ],
   "source": [
    "# Select and preprocesses our variables from the Understanding Society Study\n",
    "\n",
    "USocietyCovidCollider = USocietyCovid[['cf_wah', 'cf_age','cf_riskcv19']]\n",
    "USocietyCovidCollider = USocietyCovidCollider.mask(USocietyCovidCollider < 0)\n",
    "USocietyCovidCollider = USocietyCovidCollider.dropna().astype(int)\n",
    "USocietyCovidCollider"
   ]
  },
  {
   "cell_type": "code",
   "execution_count": null,
   "metadata": {
    "colab": {
     "base_uri": "https://localhost:8080/",
     "height": 446
    },
    "executionInfo": {
     "elapsed": 2042,
     "status": "ok",
     "timestamp": 1615887165778,
     "user": {
      "displayName": "Valentin Danchev",
      "photoUrl": "https://lh3.googleusercontent.com/a-/AOh14Gh90YzToc2qd-IrJXNzgu3LRVLxkU3sMg1swbMwzg=s64",
      "userId": "02219535538470165535"
     },
     "user_tz": 0
    },
    "id": "QeqSh--rI48u",
    "outputId": "89a46ecc-fbd1-4da7-b545-0145eef6e747"
   },
   "outputs": [
    {
     "data": {
      "image/png": "[encoded data removed]",
      "text/plain": [
       "<Figure size 762.2x432 with 1 Axes>"
      ]
     },
     "metadata": {
      "filenames": {
       "image/png": "/Users/valentindanchev/Documents/MyJupyterBook/reproducible_data_science/_build/jupyter_execute/causal_inference_20_0.png"
      },
      "needs_background": "light",
      "tags": []
     },
     "output_type": "display_data"
    }
   ],
   "source": [
    "# Work at home versus risk of getting covid\n",
    "\n",
    "import seaborn as sns\n",
    "sns.set_context(\"notebook\", font_scale=1.5)\n",
    "\n",
    "fig = sns.catplot(x=\"cf_wah\", \n",
    "            kind = \"count\",\n",
    "            hue = \"cf_riskcv19\",\n",
    "            height=6, aspect=1.5, palette=\"ch:.25\",\n",
    "            data = USocietyCovidCollider)"
   ]
  },
  {
   "cell_type": "code",
   "execution_count": null,
   "metadata": {
    "colab": {
     "base_uri": "https://localhost:8080/",
     "height": 374
    },
    "executionInfo": {
     "elapsed": 834,
     "status": "ok",
     "timestamp": 1615887300055,
     "user": {
      "displayName": "Valentin Danchev",
      "photoUrl": "https://lh3.googleusercontent.com/a-/AOh14Gh90YzToc2qd-IrJXNzgu3LRVLxkU3sMg1swbMwzg=s64",
      "userId": "02219535538470165535"
     },
     "user_tz": 0
    },
    "id": "OepnEfh_JpDW",
    "outputId": "f93a75ef-9981-4c3e-9110-7b549afea5fd"
   },
   "outputs": [
    {
     "data": {
      "image/png": "[encoded data removed]",
      "text/plain": [
       "<Figure size 540x360 with 1 Axes>"
      ]
     },
     "metadata": {
      "filenames": {
       "image/png": "/Users/valentindanchev/Documents/MyJupyterBook/reproducible_data_science/_build/jupyter_execute/causal_inference_21_0.png"
      },
      "needs_background": "light",
      "tags": []
     },
     "output_type": "display_data"
    }
   ],
   "source": [
    "# Risk of getting Covid versus age\n",
    "\n",
    "fig = sns.catplot(x=\"cf_riskcv19\", y=\"cf_age\", kind=\"box\", \n",
    "                height=5, aspect=1.5, # control plot size\n",
    "                sharey=False, # set different y axes for each plot \n",
    "                data=USocietyCovidCollider)"
   ]
  },
  {
   "cell_type": "code",
   "execution_count": null,
   "metadata": {
    "colab": {
     "base_uri": "https://localhost:8080/",
     "height": 142
    },
    "executionInfo": {
     "elapsed": 452,
     "status": "ok",
     "timestamp": 1615887427142,
     "user": {
      "displayName": "Valentin Danchev",
      "photoUrl": "https://lh3.googleusercontent.com/a-/AOh14Gh90YzToc2qd-IrJXNzgu3LRVLxkU3sMg1swbMwzg=s64",
      "userId": "02219535538470165535"
     },
     "user_tz": 0
    },
    "id": "xg6T-n73Fnod",
    "outputId": "190b6b7c-3cc6-4cd5-973e-5226d9f7f03f"
   },
   "outputs": [
    {
     "data": {
      "text/html": [
       "<div>\n",
       "<style scoped>\n",
       "    .dataframe tbody tr th:only-of-type {\n",
       "        vertical-align: middle;\n",
       "    }\n",
       "\n",
       "    .dataframe tbody tr th {\n",
       "        vertical-align: top;\n",
       "    }\n",
       "\n",
       "    .dataframe thead th {\n",
       "        text-align: right;\n",
       "    }\n",
       "</style>\n",
       "<table border=\"1\" class=\"dataframe\">\n",
       "  <thead>\n",
       "    <tr style=\"text-align: right;\">\n",
       "      <th></th>\n",
       "      <th>cf_wah</th>\n",
       "      <th>cf_age</th>\n",
       "      <th>cf_riskcv19</th>\n",
       "    </tr>\n",
       "  </thead>\n",
       "  <tbody>\n",
       "    <tr>\n",
       "      <th>cf_wah</th>\n",
       "      <td>1.000000</td>\n",
       "      <td>-0.013254</td>\n",
       "      <td>-0.138858</td>\n",
       "    </tr>\n",
       "    <tr>\n",
       "      <th>cf_age</th>\n",
       "      <td>-0.013254</td>\n",
       "      <td>1.000000</td>\n",
       "      <td>0.099640</td>\n",
       "    </tr>\n",
       "    <tr>\n",
       "      <th>cf_riskcv19</th>\n",
       "      <td>-0.138858</td>\n",
       "      <td>0.099640</td>\n",
       "      <td>1.000000</td>\n",
       "    </tr>\n",
       "  </tbody>\n",
       "</table>\n",
       "</div>"
      ],
      "text/plain": [
       "               cf_wah    cf_age  cf_riskcv19\n",
       "cf_wah       1.000000 -0.013254    -0.138858\n",
       "cf_age      -0.013254  1.000000     0.099640\n",
       "cf_riskcv19 -0.138858  0.099640     1.000000"
      ]
     },
     "execution_count": 8,
     "metadata": {
      "tags": []
     },
     "output_type": "execute_result"
    }
   ],
   "source": [
    "# Correlate the variables using the corr() function in pandas\n",
    "\n",
    "USocietyCovidCollider.corr()"
   ]
  },
  {
   "cell_type": "markdown",
   "metadata": {
    "id": "GNyIbkMWM3p7"
   },
   "source": [
    "Work at home is negatively correlated with Risk of getting Covid, indicating that people who Never work at home perceive greater risk of getting Covid-19. \n",
    "\n",
    "Age is positively correlated, indicating that perceived risk of getting Covid decreases with age. \n",
    "\n",
    "_Note:_ The variable Risk of getting Covid measures perceived risk, which is different from actual risk or health outcome after different age groups get Covid-19."
   ]
  },
  {
   "cell_type": "code",
   "execution_count": null,
   "metadata": {
    "colab": {
     "base_uri": "https://localhost:8080/"
    },
    "executionInfo": {
     "elapsed": 455,
     "status": "ok",
     "timestamp": 1615888249904,
     "user": {
      "displayName": "Valentin Danchev",
      "photoUrl": "https://lh3.googleusercontent.com/a-/AOh14Gh90YzToc2qd-IrJXNzgu3LRVLxkU3sMg1swbMwzg=s64",
      "userId": "02219535538470165535"
     },
     "user_tz": 0
    },
    "id": "ogVdO4jhNuOX",
    "outputId": "f4fc347a-0d06-4274-d625-a893e6c56dc5"
   },
   "outputs": [
    {
     "name": "stdout",
     "output_type": "stream",
     "text": [
      "                 Generalized Linear Model Regression Results                  \n",
      "==============================================================================\n",
      "Dep. Variable:            cf_riskcv19   No. Observations:                 6683\n",
      "Model:                            GLM   Df Residuals:                     6679\n",
      "Model Family:                Gaussian   Df Model:                            3\n",
      "Link Function:               identity   Scale:                         0.34066\n",
      "Method:                          IRLS   Log-Likelihood:                -5882.4\n",
      "Date:                Tue, 16 Mar 2021   Deviance:                       2275.3\n",
      "Time:                        09:50:49   Pearson chi2:                 2.28e+03\n",
      "No. Iterations:                     3                                         \n",
      "Covariance Type:            nonrobust                                         \n",
      "=================================================================================\n",
      "                    coef    std err          z      P>|z|      [0.025      0.975]\n",
      "---------------------------------------------------------------------------------\n",
      "Intercept         3.0520      0.068     45.019      0.000       2.919       3.185\n",
      "cf_age            0.0040      0.001      2.920      0.003       0.001       0.007\n",
      "cf_wah           -0.0720      0.021     -3.353      0.001      -0.114      -0.030\n",
      "cf_age:cf_wah     0.0002      0.000      0.473      0.636      -0.001       0.001\n",
      "=================================================================================\n"
     ]
    }
   ],
   "source": [
    "# Instead of correlation, we can model the variables using GLM with outcome Risk of getting Covid and predictors Age and Work at home\n",
    "\n",
    "import statsmodels.formula.api as smf\n",
    "\n",
    "LogReg = smf.glm('cf_riskcv19 ~ cf_age * cf_wah',\n",
    "            data = USocietyCovidCollider).fit()\n",
    "print(LogReg.summary())"
   ]
  },
  {
   "cell_type": "code",
   "execution_count": null,
   "metadata": {
    "colab": {
     "base_uri": "https://localhost:8080/"
    },
    "executionInfo": {
     "elapsed": 526,
     "status": "ok",
     "timestamp": 1615887715381,
     "user": {
      "displayName": "Valentin Danchev",
      "photoUrl": "https://lh3.googleusercontent.com/a-/AOh14Gh90YzToc2qd-IrJXNzgu3LRVLxkU3sMg1swbMwzg=s64",
      "userId": "02219535538470165535"
     },
     "user_tz": 0
    },
    "id": "bdW0SzUsMP8P",
    "outputId": "4b58e7c1-baaa-452a-bf1e-25e4ab794761"
   },
   "outputs": [
    {
     "name": "stdout",
     "output_type": "stream",
     "text": [
      "                 Generalized Linear Model Regression Results                  \n",
      "==============================================================================\n",
      "Dep. Variable:                 cf_wah   No. Observations:                 6683\n",
      "Model:                            GLM   Df Residuals:                     6681\n",
      "Model Family:                Gaussian   Df Model:                            1\n",
      "Link Function:               identity   Scale:                          1.7185\n",
      "Method:                          IRLS   Log-Likelihood:                -11291.\n",
      "Date:                Tue, 16 Mar 2021   Deviance:                       11481.\n",
      "Time:                        09:41:55   Pearson chi2:                 1.15e+04\n",
      "No. Iterations:                     3                                         \n",
      "Covariance Type:            nonrobust                                         \n",
      "==============================================================================\n",
      "                 coef    std err          z      P>|z|      [0.025      0.975]\n",
      "------------------------------------------------------------------------------\n",
      "Intercept      2.8545      0.063     45.536      0.000       2.732       2.977\n",
      "cf_age        -0.0014      0.001     -1.083      0.279      -0.004       0.001\n",
      "==============================================================================\n"
     ]
    }
   ],
   "source": [
    "# Although both Age and Work at home affect Risk of getting covid, the two predictors are not associated in the data set\n",
    "\n",
    "LogReg = smf.glm('cf_wah ~ cf_age',\n",
    "            data = USocietyCovidCollider).fit()\n",
    "print(LogReg.summary())"
   ]
  },
  {
   "cell_type": "markdown",
   "metadata": {
    "id": "2z5W1tGmP_5m"
   },
   "source": [
    "Let's condition on the respondents who considered the risk for getting covid 'Very likely'. This is an example of problematic conditioning on a collider variable."
   ]
  },
  {
   "cell_type": "code",
   "execution_count": null,
   "metadata": {
    "colab": {
     "base_uri": "https://localhost:8080/",
     "height": 419
    },
    "executionInfo": {
     "elapsed": 428,
     "status": "ok",
     "timestamp": 1615887780008,
     "user": {
      "displayName": "Valentin Danchev",
      "photoUrl": "https://lh3.googleusercontent.com/a-/AOh14Gh90YzToc2qd-IrJXNzgu3LRVLxkU3sMg1swbMwzg=s64",
      "userId": "02219535538470165535"
     },
     "user_tz": 0
    },
    "id": "VjZcxNpXFngH",
    "outputId": "bdddb0f4-1776-4217-f172-fb871360cabe"
   },
   "outputs": [
    {
     "data": {
      "text/html": [
       "<div>\n",
       "<style scoped>\n",
       "    .dataframe tbody tr th:only-of-type {\n",
       "        vertical-align: middle;\n",
       "    }\n",
       "\n",
       "    .dataframe tbody tr th {\n",
       "        vertical-align: top;\n",
       "    }\n",
       "\n",
       "    .dataframe thead th {\n",
       "        text-align: right;\n",
       "    }\n",
       "</style>\n",
       "<table border=\"1\" class=\"dataframe\">\n",
       "  <thead>\n",
       "    <tr style=\"text-align: right;\">\n",
       "      <th></th>\n",
       "      <th>cf_wah</th>\n",
       "      <th>cf_age</th>\n",
       "      <th>cf_riskcv19</th>\n",
       "    </tr>\n",
       "  </thead>\n",
       "  <tbody>\n",
       "    <tr>\n",
       "      <th>443</th>\n",
       "      <td>4</td>\n",
       "      <td>27</td>\n",
       "      <td>1</td>\n",
       "    </tr>\n",
       "    <tr>\n",
       "      <th>619</th>\n",
       "      <td>4</td>\n",
       "      <td>25</td>\n",
       "      <td>1</td>\n",
       "    </tr>\n",
       "    <tr>\n",
       "      <th>890</th>\n",
       "      <td>4</td>\n",
       "      <td>49</td>\n",
       "      <td>1</td>\n",
       "    </tr>\n",
       "    <tr>\n",
       "      <th>1635</th>\n",
       "      <td>4</td>\n",
       "      <td>49</td>\n",
       "      <td>1</td>\n",
       "    </tr>\n",
       "    <tr>\n",
       "      <th>1969</th>\n",
       "      <td>4</td>\n",
       "      <td>28</td>\n",
       "      <td>1</td>\n",
       "    </tr>\n",
       "    <tr>\n",
       "      <th>...</th>\n",
       "      <td>...</td>\n",
       "      <td>...</td>\n",
       "      <td>...</td>\n",
       "    </tr>\n",
       "    <tr>\n",
       "      <th>11334</th>\n",
       "      <td>1</td>\n",
       "      <td>38</td>\n",
       "      <td>1</td>\n",
       "    </tr>\n",
       "    <tr>\n",
       "      <th>11457</th>\n",
       "      <td>4</td>\n",
       "      <td>29</td>\n",
       "      <td>1</td>\n",
       "    </tr>\n",
       "    <tr>\n",
       "      <th>11593</th>\n",
       "      <td>4</td>\n",
       "      <td>42</td>\n",
       "      <td>1</td>\n",
       "    </tr>\n",
       "    <tr>\n",
       "      <th>11702</th>\n",
       "      <td>4</td>\n",
       "      <td>48</td>\n",
       "      <td>1</td>\n",
       "    </tr>\n",
       "    <tr>\n",
       "      <th>11975</th>\n",
       "      <td>4</td>\n",
       "      <td>50</td>\n",
       "      <td>1</td>\n",
       "    </tr>\n",
       "  </tbody>\n",
       "</table>\n",
       "<p>63 rows × 3 columns</p>\n",
       "</div>"
      ],
      "text/plain": [
       "       cf_wah  cf_age  cf_riskcv19\n",
       "443         4      27            1\n",
       "619         4      25            1\n",
       "890         4      49            1\n",
       "1635        4      49            1\n",
       "1969        4      28            1\n",
       "...       ...     ...          ...\n",
       "11334       1      38            1\n",
       "11457       4      29            1\n",
       "11593       4      42            1\n",
       "11702       4      48            1\n",
       "11975       4      50            1\n",
       "\n",
       "[63 rows x 3 columns]"
      ]
     },
     "execution_count": 14,
     "metadata": {
      "tags": []
     },
     "output_type": "execute_result"
    }
   ],
   "source": [
    "# Create a collider variable — Very likely risk of getting covid\n",
    "# Select the respondents who considered the risk for getting covid 'Very likely'. \n",
    "\n",
    "USocietyCovidColliderRisk = USocietyCovidCollider[USocietyCovidCollider['cf_riskcv19']==1]\n",
    "USocietyCovidColliderRisk"
   ]
  },
  {
   "cell_type": "markdown",
   "metadata": {
    "id": "ZtPV5KoQQXoT"
   },
   "source": [
    "After we condition on those who considered the risk for getting Covid-19 'Very likely', we observe a negative correlation between Age and Work at home. "
   ]
  },
  {
   "cell_type": "code",
   "execution_count": null,
   "metadata": {
    "colab": {
     "base_uri": "https://localhost:8080/",
     "height": 142
    },
    "executionInfo": {
     "elapsed": 753,
     "status": "ok",
     "timestamp": 1615887769929,
     "user": {
      "displayName": "Valentin Danchev",
      "photoUrl": "https://lh3.googleusercontent.com/a-/AOh14Gh90YzToc2qd-IrJXNzgu3LRVLxkU3sMg1swbMwzg=s64",
      "userId": "02219535538470165535"
     },
     "user_tz": 0
    },
    "id": "TGlpnD2-QFVg",
    "outputId": "66a45468-679b-49cc-989c-c49d88cdc99e"
   },
   "outputs": [
    {
     "data": {
      "text/html": [
       "<div>\n",
       "<style scoped>\n",
       "    .dataframe tbody tr th:only-of-type {\n",
       "        vertical-align: middle;\n",
       "    }\n",
       "\n",
       "    .dataframe tbody tr th {\n",
       "        vertical-align: top;\n",
       "    }\n",
       "\n",
       "    .dataframe thead th {\n",
       "        text-align: right;\n",
       "    }\n",
       "</style>\n",
       "<table border=\"1\" class=\"dataframe\">\n",
       "  <thead>\n",
       "    <tr style=\"text-align: right;\">\n",
       "      <th></th>\n",
       "      <th>cf_wah</th>\n",
       "      <th>cf_age</th>\n",
       "      <th>cf_riskcv19</th>\n",
       "    </tr>\n",
       "  </thead>\n",
       "  <tbody>\n",
       "    <tr>\n",
       "      <th>cf_wah</th>\n",
       "      <td>1.000000</td>\n",
       "      <td>-0.185572</td>\n",
       "      <td>NaN</td>\n",
       "    </tr>\n",
       "    <tr>\n",
       "      <th>cf_age</th>\n",
       "      <td>-0.185572</td>\n",
       "      <td>1.000000</td>\n",
       "      <td>NaN</td>\n",
       "    </tr>\n",
       "    <tr>\n",
       "      <th>cf_riskcv19</th>\n",
       "      <td>NaN</td>\n",
       "      <td>NaN</td>\n",
       "      <td>NaN</td>\n",
       "    </tr>\n",
       "  </tbody>\n",
       "</table>\n",
       "</div>"
      ],
      "text/plain": [
       "               cf_wah    cf_age  cf_riskcv19\n",
       "cf_wah       1.000000 -0.185572          NaN\n",
       "cf_age      -0.185572  1.000000          NaN\n",
       "cf_riskcv19       NaN       NaN          NaN"
      ]
     },
     "execution_count": 13,
     "metadata": {
      "tags": []
     },
     "output_type": "execute_result"
    }
   ],
   "source": [
    "# Correlate our variables \n",
    "# Note that correlation coefficients for cf_riskcv19 are NaN. This is due to the \n",
    "# fact that we selected only one category, hence correlation cannot be computed.\n",
    "\n",
    "USocietyCovidColliderRisk.corr()"
   ]
  },
  {
   "cell_type": "markdown",
   "metadata": {
    "id": "mH_pRFvkL_L5"
   },
   "source": [
    "### Questions\n",
    "* Why Age and Work at home were uncorrelated in the population but are negatively correlated once we condition on those who perceive 'Very likely' risk of getting Covid?"
   ]
  },
  {
   "cell_type": "markdown",
   "metadata": {
    "id": "lNvuNgSeWPVS"
   },
   "source": [
    "# Additional material\n",
    "\n",
    "The examples and code below are from [Chapter 3: Directed Acyclical Graphs](https://mixtape.scunning.com/dag.html) in Scott Cunningham's book [Causal Inference: The Mixtape](https://mixtape.scunning.com/index.html).\n",
    "\n",
    "The original code is written by [Thomas Caputo](https://github.com/tomcaputo) and is available on [GitHub](https://github.com/tomcaputo/mixtape_learnr/blob/main/Python/Directed_Acyclical_Graphs.ipynb).   "
   ]
  },
  {
   "cell_type": "markdown",
   "metadata": {
    "id": "NiOotEGGrKae"
   },
   "source": [
    "# Gender discrimination and collider bias\n",
    "\n",
    "Suppose we are interested in studying the effect of gender discrimination on earnings/wages. One approach would be to regress earnings on gender (Model 1 in the regression table below) which indeed shows that women are discriminated against. But then your model is criticised for not taking into account occupation. To address this criticism, you run another model that adjusts for occupation (Model 2 in the regression table below). The outputs of this second model indicates that women are not discriminated against; instead, they receive comparable (or even higher) pay. However, there is a problem in this second model too. Suppose that discrimination is mediated by occupation such that women tend to occupy worse jobs, which are payed less. In this scenario, by controlling for occupation we introduce bias. This is at odds with a widespread practice of adding more and more controls in a model. Such controls may not reduce but introduce bias. To get rid of the introduced bias in the discrimination example, we can condition on both occupation and ability, which is what Model 3 does in the regression table below. This unbiased conditional model confirms that women are discriminated against. In real-world settings, however, ability is unobserved, which would typically preclude us from estimating an unbiased effect of gender discrimination on earnings.\n",
    "\n",
    "For a detailed account on of the discrimination example, see [Chapter 3: Directed Acyclical Graphs](https://mixtape.scunning.com/dag.html) in Scott Cunningham's book [Causal Inference: The Mixtape](https://mixtape.scunning.com/index.html)."
   ]
  },
  {
   "cell_type": "code",
   "execution_count": 4,
   "metadata": {},
   "outputs": [
    {
     "name": "stdout",
     "output_type": "stream",
     "text": [
      "Collecting Stargazer\n",
      "  Downloading stargazer-0.0.5-py3-none-any.whl (9.7 kB)\n",
      "Installing collected packages: Stargazer\n",
      "Successfully installed Stargazer-0.0.5\n"
     ]
    }
   ],
   "source": [
    "!pip install Stargazer\n",
    "import pandas as pd\n",
    "import numpy as np\n",
    "import statsmodels.api as sm\n",
    "from stargazer.stargazer import Stargazer"
   ]
  },
  {
   "cell_type": "code",
   "execution_count": 3,
   "metadata": {
    "colab": {
     "base_uri": "https://localhost:8080/",
     "height": 424
    },
    "executionInfo": {
     "elapsed": 516,
     "status": "ok",
     "timestamp": 1615895336798,
     "user": {
      "displayName": "Valentin Danchev",
      "photoUrl": "https://lh3.googleusercontent.com/a-/AOh14Gh90YzToc2qd-IrJXNzgu3LRVLxkU3sMg1swbMwzg=s64",
      "userId": "02219535538470165535"
     },
     "user_tz": 0
    },
    "id": "H9QHpU72Sk3_",
    "outputId": "aaac1a43-335e-4c09-c758-518ff4c2419d"
   },
   "outputs": [
    {
     "data": {
      "text/html": [
       "<div>\n",
       "<style scoped>\n",
       "    .dataframe tbody tr th:only-of-type {\n",
       "        vertical-align: middle;\n",
       "    }\n",
       "\n",
       "    .dataframe tbody tr th {\n",
       "        vertical-align: top;\n",
       "    }\n",
       "\n",
       "    .dataframe thead th {\n",
       "        text-align: right;\n",
       "    }\n",
       "</style>\n",
       "<table border=\"1\" class=\"dataframe\">\n",
       "  <thead>\n",
       "    <tr style=\"text-align: right;\">\n",
       "      <th></th>\n",
       "      <th>female</th>\n",
       "      <th>ability</th>\n",
       "      <th>discrimination</th>\n",
       "      <th>occupation</th>\n",
       "      <th>wage</th>\n",
       "    </tr>\n",
       "  </thead>\n",
       "  <tbody>\n",
       "    <tr>\n",
       "      <th>0</th>\n",
       "      <td>1</td>\n",
       "      <td>0.099726</td>\n",
       "      <td>1</td>\n",
       "      <td>-1.223869</td>\n",
       "      <td>-1.247802</td>\n",
       "    </tr>\n",
       "    <tr>\n",
       "      <th>1</th>\n",
       "      <td>0</td>\n",
       "      <td>-1.781548</td>\n",
       "      <td>0</td>\n",
       "      <td>-1.954134</td>\n",
       "      <td>-5.485027</td>\n",
       "    </tr>\n",
       "    <tr>\n",
       "      <th>2</th>\n",
       "      <td>1</td>\n",
       "      <td>1.516262</td>\n",
       "      <td>1</td>\n",
       "      <td>1.858005</td>\n",
       "      <td>4.760583</td>\n",
       "    </tr>\n",
       "    <tr>\n",
       "      <th>3</th>\n",
       "      <td>0</td>\n",
       "      <td>-0.995852</td>\n",
       "      <td>0</td>\n",
       "      <td>-1.401073</td>\n",
       "      <td>-3.041161</td>\n",
       "    </tr>\n",
       "    <tr>\n",
       "      <th>4</th>\n",
       "      <td>0</td>\n",
       "      <td>0.251987</td>\n",
       "      <td>0</td>\n",
       "      <td>1.990522</td>\n",
       "      <td>2.982625</td>\n",
       "    </tr>\n",
       "    <tr>\n",
       "      <th>...</th>\n",
       "      <td>...</td>\n",
       "      <td>...</td>\n",
       "      <td>...</td>\n",
       "      <td>...</td>\n",
       "      <td>...</td>\n",
       "    </tr>\n",
       "    <tr>\n",
       "      <th>9995</th>\n",
       "      <td>1</td>\n",
       "      <td>1.554097</td>\n",
       "      <td>1</td>\n",
       "      <td>5.339169</td>\n",
       "      <td>8.511789</td>\n",
       "    </tr>\n",
       "    <tr>\n",
       "      <th>9996</th>\n",
       "      <td>1</td>\n",
       "      <td>-0.219406</td>\n",
       "      <td>1</td>\n",
       "      <td>-0.459321</td>\n",
       "      <td>-0.301864</td>\n",
       "    </tr>\n",
       "    <tr>\n",
       "      <th>9997</th>\n",
       "      <td>0</td>\n",
       "      <td>-0.760498</td>\n",
       "      <td>0</td>\n",
       "      <td>0.157653</td>\n",
       "      <td>-0.553857</td>\n",
       "    </tr>\n",
       "    <tr>\n",
       "      <th>9998</th>\n",
       "      <td>0</td>\n",
       "      <td>-0.297383</td>\n",
       "      <td>0</td>\n",
       "      <td>1.075582</td>\n",
       "      <td>0.123010</td>\n",
       "    </tr>\n",
       "    <tr>\n",
       "      <th>9999</th>\n",
       "      <td>1</td>\n",
       "      <td>-1.053546</td>\n",
       "      <td>1</td>\n",
       "      <td>-2.661607</td>\n",
       "      <td>-4.252707</td>\n",
       "    </tr>\n",
       "  </tbody>\n",
       "</table>\n",
       "<p>10000 rows × 5 columns</p>\n",
       "</div>"
      ],
      "text/plain": [
       "      female   ability  discrimination  occupation      wage\n",
       "0          1  0.099726               1   -1.223869 -1.247802\n",
       "1          0 -1.781548               0   -1.954134 -5.485027\n",
       "2          1  1.516262               1    1.858005  4.760583\n",
       "3          0 -0.995852               0   -1.401073 -3.041161\n",
       "4          0  0.251987               0    1.990522  2.982625\n",
       "...      ...       ...             ...         ...       ...\n",
       "9995       1  1.554097               1    5.339169  8.511789\n",
       "9996       1 -0.219406               1   -0.459321 -0.301864\n",
       "9997       0 -0.760498               0    0.157653 -0.553857\n",
       "9998       0 -0.297383               0    1.075582  0.123010\n",
       "9999       1 -1.053546               1   -2.661607 -4.252707\n",
       "\n",
       "[10000 rows x 5 columns]"
      ]
     },
     "execution_count": 3,
     "metadata": {},
     "output_type": "execute_result"
    }
   ],
   "source": [
    "# Data generation and assumptions\n",
    "\n",
    "data = pd.DataFrame({\n",
    "    # Half of the population is female. \n",
    "    'female': np.random.binomial(1, .5, size=10000),\n",
    "    # Innate ability is independent of gender\n",
    "    'ability': np.random.normal(size=10000)})\n",
    "\n",
    "# All women experience discrimination\n",
    "data['discrimination'] = data.female.copy()\n",
    "# Data generating processes\n",
    "data['occupation'] = 1 + 2*data['ability'] + 0*data['female'] - 2*data['discrimination'] + np.random.normal(size=10000)\n",
    "data['wage'] = 1 - 1*data['discrimination'] + 1*data['occupation'] + 2*data['ability'] + np.random.normal(size=10000) \n",
    "\n",
    "data"
   ]
  },
  {
   "cell_type": "code",
   "execution_count": 5,
   "metadata": {
    "colab": {
     "base_uri": "https://localhost:8080/",
     "height": 419
    },
    "executionInfo": {
     "elapsed": 431,
     "status": "ok",
     "timestamp": 1615894142536,
     "user": {
      "displayName": "Valentin Danchev",
      "photoUrl": "https://lh3.googleusercontent.com/a-/AOh14Gh90YzToc2qd-IrJXNzgu3LRVLxkU3sMg1swbMwzg=s64",
      "userId": "02219535538470165535"
     },
     "user_tz": 0
    },
    "id": "piKmv41Vy9WA",
    "outputId": "869ae0cc-ca99-4a26-d933-d7617c623dda"
   },
   "outputs": [
    {
     "data": {
      "text/html": [
       "<table style=\"text-align:center\"><tr><td colspan=\"4\" style=\"border-bottom: 1px solid black\"></td></tr><tr><td style=\"text-align:left\"></td><td colspan=\"3\"><em>Dependent variable:wage</em></td></tr><tr><td style=\"text-align:left\"></td><tr><td></td><td colspan=\"1\">Biased Unconditional</td><td colspan=\"1\">Biased</td><td colspan=\"1\">Unbiased Conditional</td></tr><tr><td style=\"text-align:left\"></td><td>(1)</td><td>(2)</td><td>(3)</td></tr><tr><td colspan=\"4\" style=\"border-bottom: 1px solid black\"></td></tr><tr><td style=\"text-align:left\">Intercept</td><td>2.015<sup>***</sup></td><td>0.193<sup>***</sup></td><td>1.003<sup>***</sup></td></tr><tr><td style=\"text-align:left\"></td><td>(0.060)</td><td>(0.020)</td><td>(0.017)</td></tr><tr><td style=\"text-align:left\">ability</td><td></td><td></td><td>2.011<sup>***</sup></td></tr><tr><td style=\"text-align:left\"></td><td></td><td></td><td>(0.022)</td></tr><tr><td style=\"text-align:left\">female</td><td>-3.002<sup>***</sup></td><td>0.575<sup>***</sup></td><td>-1.018<sup>***</sup></td></tr><tr><td style=\"text-align:left\"></td><td>(0.085)</td><td>(0.030)</td><td>(0.028)</td></tr><tr><td style=\"text-align:left\">occupation</td><td></td><td>1.798<sup>***</sup></td><td>0.997<sup>***</sup></td></tr><tr><td style=\"text-align:left\"></td><td></td><td>(0.006)</td><td>(0.010)</td></tr><td colspan=\"4\" style=\"border-bottom: 1px solid black\"></td></tr><tr><td style=\"text-align: left\">Observations</td><td>10,000</td><td>10,000</td><td>10,000</td></tr><tr><td style=\"text-align: left\">R<sup>2</sup></td><td>0.112</td><td>0.909</td><td>0.950</td></tr><tr><td style=\"text-align: left\">Adjusted R<sup>2</sup></td><td>0.112</td><td>0.909</td><td>0.950</td></tr><tr><td style=\"text-align: left\">Residual Std. Error</td><td>4.231 (df=9998)</td><td>1.355 (df=9997)</td><td>1.006 (df=9996)</td></tr><tr><td style=\"text-align: left\">F Statistic</td><td>1258.024<sup>***</sup> (df=1; 9998)</td><td>49873.717<sup>***</sup> (df=2; 9997)</td><td>63006.715<sup>***</sup> (df=3; 9996)</td></tr><tr><td colspan=\"4\" style=\"border-bottom: 1px solid black\"></td></tr><tr><td style=\"text-align: left\">Note:</td>\n",
       " <td colspan=\"3\" style=\"text-align: right\">\n",
       "  <sup>*</sup>p&lt;0.1;\n",
       "  <sup>**</sup>p&lt;0.05;\n",
       "  <sup>***</sup>p&lt;0.01\n",
       " </td></tr></table>"
      ],
      "text/plain": [
       "<stargazer.stargazer.Stargazer at 0x7fa7203ff250>"
      ]
     },
     "execution_count": 5,
     "metadata": {},
     "output_type": "execute_result"
    }
   ],
   "source": [
    "# Regression models\n",
    "model1 = sm.OLS.from_formula('wage ~ female', data=data).fit()\n",
    "model2 = sm.OLS.from_formula('wage ~ female + occupation', data=data).fit()\n",
    "model3 = sm.OLS.from_formula('wage ~ female + occupation + ability', data=data).fit()\n",
    "\n",
    "# Output the three regression model's results as Table\n",
    "stargazer = Stargazer((model1,model2,model3))\n",
    "stargazer.custom_columns([\"Biased Unconditional\", \"Biased\", \"Unbiased Conditional\"], [1, 1, 1])\n",
    "stargazer"
   ]
  },
  {
   "cell_type": "markdown",
   "metadata": {
    "id": "_aysF8MnURt7"
   },
   "source": [
    "#### Questions\n",
    "* What is the true direct effect of discrimination on wages?\n",
    "* Through what channels discrimination impacts wages?\n",
    "* What makes occupation a collider?\n",
    "* What control variables can get rid of the collider bias?"
   ]
  },
  {
   "cell_type": "markdown",
   "metadata": {
    "id": "Fv1jCkgJ25Lo"
   },
   "source": [
    "# References\n",
    "\n",
    "Scott Cunningham. [Causal Inference: The Mixtape](https://mixtape.scunning.com/index.html). Yale University Press.\n",
    "\n",
    "Thomas Caputo. [Teaching Resources for Causal Inference: The Mixtape](https://github.com/tomcaputo/mixtape_learnr). GitHub.  \n",
    "\n",
    "\n",
    "Hernán MA, Robins JM (2020). [Causal Inference: What If](https://cdn1.sph.harvard.edu/wp-content/uploads/sites/1268/2021/01/ciwhatif_hernanrobins_31jan21.pdf). Boca Raton: Chapman & Hall/CRC.\n",
    "\n",
    "Richard McElreath. Chapter 6: The Haunted DAG & The Causal Terror. [Statistical Rethinking: A Bayesian Course with Examples in R and Stan](https://xcelab.net/rm/statistical-rethinking/) (2nd ed). Chapman and Hall/CRC.  \n",
    "\n",
    "Richard McElreath’s lecture on [basic causal inference](https://www.youtube.com/watch?v=l_7yIUqWBmE), collider bias, and back-door criterion.\n",
    "\n",
    "Stephen L. Morgan and Christopher Winship. [Counterfactuals and Causal Inference](https://www.cambridge.org/core/books/counterfactuals-and-causal-inference/5CC81E6DF63C5E5A8B88F79D45E1D1B7). Cambridge University Press.\n"
   ]
  }
 ],
 "metadata": {
  "colab": {
   "authorship_tag": "ABX9TyMlAmqjyVcrQj15GwHrDe5F",
   "collapsed_sections": [],
   "name": "Copy of CausalInference",
   "provenance": [
    {
     "file_id": "1Rqj6d7BHaC7t9Lz_C37KQDxcyWwfNK9d",
     "timestamp": 1615858735542
    }
   ],
   "toc_visible": true
  },
  "kernelspec": {
   "display_name": "Python 3",
   "language": "python",
   "name": "python3"
  },
  "language_info": {
   "codemirror_mode": {
    "name": "ipython",
    "version": 3
   },
   "file_extension": ".py",
   "mimetype": "text/x-python",
   "name": "python",
   "nbconvert_exporter": "python",
   "pygments_lexer": "ipython3",
   "version": "3.8.5"
  }
 },
 "nbformat": 4,
 "nbformat_minor": 4
}