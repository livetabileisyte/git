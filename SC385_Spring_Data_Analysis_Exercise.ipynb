{
  "nbformat": 4,
  "nbformat_minor": 0,
  "metadata": {
    "colab": {
      "name": "SC385 Spring Data Analysis Exercise.ipynb",
      "provenance": [],
      "collapsed_sections": [],
      "include_colab_link": true
    },
    "kernelspec": {
      "name": "python3",
      "display_name": "Python 3"
    }
  },
  "cells": [
    {
      "cell_type": "markdown",
      "metadata": {
        "id": "view-in-github",
        "colab_type": "text"
      },
      "source": [
        "<a href=\"https://colab.research.google.com/github/livetabileisyte/git/blob/master/SC385_Spring_Data_Analysis_Exercise.ipynb\" target=\"_parent\"><img src=\"https://colab.research.google.com/assets/colab-badge.svg\" alt=\"Open In Colab\"/></a>"
      ]
    },
    {
      "cell_type": "markdown",
      "metadata": {
        "id": "BnizrHFUGKrK"
      },
      "source": [
        "# Data analysis exercise 1\n",
        "\n",
        "Student ID: 1905517\n",
        "\n",
        "## SC385 Spring Term, 2021–2022"
      ]
    },
    {
      "cell_type": "code",
      "source": [
        ""
      ],
      "metadata": {
        "id": "_n35a5POZBwR"
      },
      "execution_count": null,
      "outputs": []
    },
    {
      "cell_type": "markdown",
      "metadata": {
        "id": "Yrl843wT-sOo"
      },
      "source": [
        "In this data analysis exercise, you will use Python and related libraries for data analysis and visualisation to study the anonymised and aggregated dataset [Covid-19 Google Community Mobility Reports](https://www.google.com/covid19/mobility/). We use the data as an example of large open data source. The data display human mobility trends over time by country and region, across different categories of places, including retail and recreation, groceries and pharmacies, parks, transit stations, workplaces, and residential. For each place in a region, the data display the percentage change in visits for the reported date compared to a baseline period in early 2020. Mobility changes are reported as a positive or negative percentages.\n",
        "\n",
        "To perform your analysis, import the following Python libraries and modules: \n",
        "`pandas`, `numpy`, `seaborn`, `matplotlib.pyplot`, `stats` from `scipy`, and `date` from `datetime`."
      ]
    },
    {
      "cell_type": "markdown",
      "metadata": {
        "id": "_kBJg0w9iZSQ"
      },
      "source": [
        "To create a reproducible research report, use throughout the notebook:\n",
        "* Python code in Code cells\n",
        "* hashtag symbol `#` in Code cells to introduce a comment line describing your Python code\n",
        "* Markdown language in Text cells to write up your methods, results, and interpretation.\n",
        "\n",
        "Before submission, please `Restart and run all` (under `Runtime` in the Colab menu bar) to make sure that your data analysis is computationally reproducible.\n",
        "\n",
        "You need to submit your notebook by 10am on 25 February 2022 on FASER. You can download your Colab notebook from `File` and then `Download .ipynb`, and submit on FASER your downloaded notebook. Your notebook would contain approximately ~1000 words, including computer code (excluding the description of the tasks in this template). \n",
        "\n",
        "Feel free to reuse code from your Colab notebook with weekly exercises as well as from the course Colab notebooks. You are also encouraged to consult and refer to online tutorials and sources, including [DataCamp](https://learn.datacamp.com/courses/introduction-to-data-science-in-python) courses and [Stack Overflow](https://stackoverflow.com/questions/42406233/how-to-add-title-to-seaborn-boxplot). You can refer to such sources by providing links pointing to them similar to the links to DataCamp and Stack Overflow in the previous sentence.        "
      ]
    },
    {
      "cell_type": "markdown",
      "metadata": {
        "id": "PY4us_fhG05x"
      },
      "source": [
        "### Task 1\n",
        "\n",
        "Analyse how countries differ in their mobility trends. Use the `catplot` function to visualise mobility trends across the six mobility categories for a set of five countries of your choice. Provide a brief interpretation of the results focusing on differences between countries and on mobility categories that differentiate (or not) the countries you selected.   \n",
        "\n",
        "_Level of analysis:_ country\n",
        "\n",
        "_Variables:_ all six mobility categories\n",
        "\n",
        "_Descriptive statistics:_ median (no need to compute this separately, you will get it from the boxplot)\n",
        "\n",
        "_Plotting:_ boxplots via the `catplot` function in `seaborn`\n"
      ]
    },
    {
      "cell_type": "code",
      "source": [
        "import seaborn as myseaborn"
      ],
      "metadata": {
        "id": "drssLuYlE1Bf"
      },
      "execution_count": 1,
      "outputs": []
    },
    {
      "cell_type": "code",
      "source": [
        "myseaborn.catplot?"
      ],
      "metadata": {
        "id": "7RASnhIFE3dd"
      },
      "execution_count": 2,
      "outputs": []
    },
    {
      "cell_type": "code",
      "metadata": {
        "id": "CzN-1CewNUBU"
      },
      "source": [
        "# Insert your code about Taks 1 here. Add both Code cells and Text cells as needed. \n",
        "\n",
        "\n",
        "\n"
      ],
      "execution_count": 3,
      "outputs": []
    },
    {
      "cell_type": "code",
      "execution_count": 4,
      "metadata": {
        "colab": {
          "base_uri": "https://localhost:8080/"
        },
        "id": "9P9hr3KvaexI",
        "outputId": "9404e580-e9d5-45d6-abb7-a5981e7d7264"
      },
      "outputs": [
        {
          "output_type": "stream",
          "name": "stdout",
          "text": [
            "Requirement already satisfied: pip in /usr/local/lib/python3.7/dist-packages (21.1.3)\n",
            "Collecting pip\n",
            "  Downloading pip-22.0.3-py3-none-any.whl (2.1 MB)\n",
            "\u001b[K     |████████████████████████████████| 2.1 MB 10.1 MB/s \n",
            "\u001b[?25hInstalling collected packages: pip\n",
            "  Attempting uninstall: pip\n",
            "    Found existing installation: pip 21.1.3\n",
            "    Uninstalling pip-21.1.3:\n",
            "      Successfully uninstalled pip-21.1.3\n",
            "Successfully installed pip-22.0.3\n"
          ]
        }
      ],
      "source": [
        "pip install --upgrade pip"
      ]
    },
    {
      "cell_type": "code",
      "source": [
        "\n",
        "\n",
        "import pandas as pd\n",
        "import numpy as np\n",
        "import seaborn as sns\n",
        "sns.set_theme() \n",
        "import matplotlib.pyplot as plt\n",
        "from scipy import stats\n",
        "import statsmodels.api as sm\n",
        "from datetime import date"
      ],
      "metadata": {
        "id": "JnQl4m9iagy2",
        "colab": {
          "base_uri": "https://localhost:8080/"
        },
        "outputId": "b4423521-2225-4afb-eeea-7b6e4108fec1"
      },
      "execution_count": 5,
      "outputs": [
        {
          "output_type": "stream",
          "name": "stderr",
          "text": [
            "/usr/local/lib/python3.7/dist-packages/statsmodels/tools/_testing.py:19: FutureWarning: pandas.util.testing is deprecated. Use the functions in the public API at pandas.testing instead.\n",
            "  import pandas.util.testing as tm\n"
          ]
        }
      ]
    },
    {
      "cell_type": "code",
      "source": [
        "\n",
        "mobility_trends = pd.read_csv('https://www.gstatic.com/covid19/mobility/Global_Mobility_Report.csv', parse_dates = ['date'])\n",
        "\n",
        "mobility_trends.rename(columns={'retail_and_recreation_percent_change_from_baseline': 'Retail_Recreation',\n",
        "                               'grocery_and_pharmacy_percent_change_from_baseline': 'Grocery_Pharmacy',\n",
        "                               'parks_percent_change_from_baseline': 'Parks',\n",
        "                               'transit_stations_percent_change_from_baseline': 'Transit_stations',\n",
        "                               'workplaces_percent_change_from_baseline': 'Workplaces',\n",
        "                               'residential_percent_change_from_baseline': 'Residential'},inplace=True)\n",
        "\n",
        "mobility_trends"
      ],
      "metadata": {
        "colab": {
          "base_uri": "https://localhost:8080/",
          "height": 696
        },
        "id": "CKoUHFNFao52",
        "outputId": "d25bf946-24d7-4c09-dfc4-ed5b6a135ad7"
      },
      "execution_count": 6,
      "outputs": [
        {
          "output_type": "stream",
          "name": "stderr",
          "text": [
            "/usr/local/lib/python3.7/dist-packages/IPython/core/interactiveshell.py:2882: DtypeWarning: Columns (3,4,5) have mixed types.Specify dtype option on import or set low_memory=False.\n",
            "  exec(code_obj, self.user_global_ns, self.user_ns)\n"
          ]
        },
        {
          "output_type": "execute_result",
          "data": {
            "text/html": [
              "\n",
              "  <div id=\"df-d7ab8145-d630-485e-a1c5-74b1e24fda3e\">\n",
              "    <div class=\"colab-df-container\">\n",
              "      <div>\n",
              "<style scoped>\n",
              "    .dataframe tbody tr th:only-of-type {\n",
              "        vertical-align: middle;\n",
              "    }\n",
              "\n",
              "    .dataframe tbody tr th {\n",
              "        vertical-align: top;\n",
              "    }\n",
              "\n",
              "    .dataframe thead th {\n",
              "        text-align: right;\n",
              "    }\n",
              "</style>\n",
              "<table border=\"1\" class=\"dataframe\">\n",
              "  <thead>\n",
              "    <tr style=\"text-align: right;\">\n",
              "      <th></th>\n",
              "      <th>country_region_code</th>\n",
              "      <th>country_region</th>\n",
              "      <th>sub_region_1</th>\n",
              "      <th>sub_region_2</th>\n",
              "      <th>metro_area</th>\n",
              "      <th>iso_3166_2_code</th>\n",
              "      <th>census_fips_code</th>\n",
              "      <th>place_id</th>\n",
              "      <th>date</th>\n",
              "      <th>Retail_Recreation</th>\n",
              "      <th>Grocery_Pharmacy</th>\n",
              "      <th>Parks</th>\n",
              "      <th>Transit_stations</th>\n",
              "      <th>Workplaces</th>\n",
              "      <th>Residential</th>\n",
              "    </tr>\n",
              "  </thead>\n",
              "  <tbody>\n",
              "    <tr>\n",
              "      <th>0</th>\n",
              "      <td>AE</td>\n",
              "      <td>United Arab Emirates</td>\n",
              "      <td>NaN</td>\n",
              "      <td>NaN</td>\n",
              "      <td>NaN</td>\n",
              "      <td>NaN</td>\n",
              "      <td>NaN</td>\n",
              "      <td>ChIJvRKrsd9IXj4RpwoIwFYv0zM</td>\n",
              "      <td>2020-02-15</td>\n",
              "      <td>0.0</td>\n",
              "      <td>4.0</td>\n",
              "      <td>5.0</td>\n",
              "      <td>0.0</td>\n",
              "      <td>2.0</td>\n",
              "      <td>1.0</td>\n",
              "    </tr>\n",
              "    <tr>\n",
              "      <th>1</th>\n",
              "      <td>AE</td>\n",
              "      <td>United Arab Emirates</td>\n",
              "      <td>NaN</td>\n",
              "      <td>NaN</td>\n",
              "      <td>NaN</td>\n",
              "      <td>NaN</td>\n",
              "      <td>NaN</td>\n",
              "      <td>ChIJvRKrsd9IXj4RpwoIwFYv0zM</td>\n",
              "      <td>2020-02-16</td>\n",
              "      <td>1.0</td>\n",
              "      <td>4.0</td>\n",
              "      <td>4.0</td>\n",
              "      <td>1.0</td>\n",
              "      <td>2.0</td>\n",
              "      <td>1.0</td>\n",
              "    </tr>\n",
              "    <tr>\n",
              "      <th>2</th>\n",
              "      <td>AE</td>\n",
              "      <td>United Arab Emirates</td>\n",
              "      <td>NaN</td>\n",
              "      <td>NaN</td>\n",
              "      <td>NaN</td>\n",
              "      <td>NaN</td>\n",
              "      <td>NaN</td>\n",
              "      <td>ChIJvRKrsd9IXj4RpwoIwFYv0zM</td>\n",
              "      <td>2020-02-17</td>\n",
              "      <td>-1.0</td>\n",
              "      <td>1.0</td>\n",
              "      <td>5.0</td>\n",
              "      <td>1.0</td>\n",
              "      <td>2.0</td>\n",
              "      <td>1.0</td>\n",
              "    </tr>\n",
              "    <tr>\n",
              "      <th>3</th>\n",
              "      <td>AE</td>\n",
              "      <td>United Arab Emirates</td>\n",
              "      <td>NaN</td>\n",
              "      <td>NaN</td>\n",
              "      <td>NaN</td>\n",
              "      <td>NaN</td>\n",
              "      <td>NaN</td>\n",
              "      <td>ChIJvRKrsd9IXj4RpwoIwFYv0zM</td>\n",
              "      <td>2020-02-18</td>\n",
              "      <td>-2.0</td>\n",
              "      <td>1.0</td>\n",
              "      <td>5.0</td>\n",
              "      <td>0.0</td>\n",
              "      <td>2.0</td>\n",
              "      <td>1.0</td>\n",
              "    </tr>\n",
              "    <tr>\n",
              "      <th>4</th>\n",
              "      <td>AE</td>\n",
              "      <td>United Arab Emirates</td>\n",
              "      <td>NaN</td>\n",
              "      <td>NaN</td>\n",
              "      <td>NaN</td>\n",
              "      <td>NaN</td>\n",
              "      <td>NaN</td>\n",
              "      <td>ChIJvRKrsd9IXj4RpwoIwFYv0zM</td>\n",
              "      <td>2020-02-19</td>\n",
              "      <td>-2.0</td>\n",
              "      <td>0.0</td>\n",
              "      <td>4.0</td>\n",
              "      <td>-1.0</td>\n",
              "      <td>2.0</td>\n",
              "      <td>1.0</td>\n",
              "    </tr>\n",
              "    <tr>\n",
              "      <th>...</th>\n",
              "      <td>...</td>\n",
              "      <td>...</td>\n",
              "      <td>...</td>\n",
              "      <td>...</td>\n",
              "      <td>...</td>\n",
              "      <td>...</td>\n",
              "      <td>...</td>\n",
              "      <td>...</td>\n",
              "      <td>...</td>\n",
              "      <td>...</td>\n",
              "      <td>...</td>\n",
              "      <td>...</td>\n",
              "      <td>...</td>\n",
              "      <td>...</td>\n",
              "      <td>...</td>\n",
              "    </tr>\n",
              "    <tr>\n",
              "      <th>8835652</th>\n",
              "      <td>ZW</td>\n",
              "      <td>Zimbabwe</td>\n",
              "      <td>Midlands Province</td>\n",
              "      <td>Kwekwe</td>\n",
              "      <td>NaN</td>\n",
              "      <td>NaN</td>\n",
              "      <td>NaN</td>\n",
              "      <td>ChIJRcIZ3-FJNBkRRsj55IcLpfU</td>\n",
              "      <td>2022-02-11</td>\n",
              "      <td>NaN</td>\n",
              "      <td>NaN</td>\n",
              "      <td>NaN</td>\n",
              "      <td>NaN</td>\n",
              "      <td>78.0</td>\n",
              "      <td>NaN</td>\n",
              "    </tr>\n",
              "    <tr>\n",
              "      <th>8835653</th>\n",
              "      <td>ZW</td>\n",
              "      <td>Zimbabwe</td>\n",
              "      <td>Midlands Province</td>\n",
              "      <td>Kwekwe</td>\n",
              "      <td>NaN</td>\n",
              "      <td>NaN</td>\n",
              "      <td>NaN</td>\n",
              "      <td>ChIJRcIZ3-FJNBkRRsj55IcLpfU</td>\n",
              "      <td>2022-02-14</td>\n",
              "      <td>NaN</td>\n",
              "      <td>NaN</td>\n",
              "      <td>NaN</td>\n",
              "      <td>NaN</td>\n",
              "      <td>65.0</td>\n",
              "      <td>NaN</td>\n",
              "    </tr>\n",
              "    <tr>\n",
              "      <th>8835654</th>\n",
              "      <td>ZW</td>\n",
              "      <td>Zimbabwe</td>\n",
              "      <td>Midlands Province</td>\n",
              "      <td>Kwekwe</td>\n",
              "      <td>NaN</td>\n",
              "      <td>NaN</td>\n",
              "      <td>NaN</td>\n",
              "      <td>ChIJRcIZ3-FJNBkRRsj55IcLpfU</td>\n",
              "      <td>2022-02-15</td>\n",
              "      <td>NaN</td>\n",
              "      <td>NaN</td>\n",
              "      <td>NaN</td>\n",
              "      <td>NaN</td>\n",
              "      <td>79.0</td>\n",
              "      <td>NaN</td>\n",
              "    </tr>\n",
              "    <tr>\n",
              "      <th>8835655</th>\n",
              "      <td>ZW</td>\n",
              "      <td>Zimbabwe</td>\n",
              "      <td>Midlands Province</td>\n",
              "      <td>Kwekwe</td>\n",
              "      <td>NaN</td>\n",
              "      <td>NaN</td>\n",
              "      <td>NaN</td>\n",
              "      <td>ChIJRcIZ3-FJNBkRRsj55IcLpfU</td>\n",
              "      <td>2022-02-16</td>\n",
              "      <td>NaN</td>\n",
              "      <td>NaN</td>\n",
              "      <td>NaN</td>\n",
              "      <td>NaN</td>\n",
              "      <td>76.0</td>\n",
              "      <td>NaN</td>\n",
              "    </tr>\n",
              "    <tr>\n",
              "      <th>8835656</th>\n",
              "      <td>ZW</td>\n",
              "      <td>Zimbabwe</td>\n",
              "      <td>Midlands Province</td>\n",
              "      <td>Kwekwe</td>\n",
              "      <td>NaN</td>\n",
              "      <td>NaN</td>\n",
              "      <td>NaN</td>\n",
              "      <td>ChIJRcIZ3-FJNBkRRsj55IcLpfU</td>\n",
              "      <td>2022-02-17</td>\n",
              "      <td>NaN</td>\n",
              "      <td>NaN</td>\n",
              "      <td>NaN</td>\n",
              "      <td>NaN</td>\n",
              "      <td>75.0</td>\n",
              "      <td>NaN</td>\n",
              "    </tr>\n",
              "  </tbody>\n",
              "</table>\n",
              "<p>8835657 rows × 15 columns</p>\n",
              "</div>\n",
              "      <button class=\"colab-df-convert\" onclick=\"convertToInteractive('df-d7ab8145-d630-485e-a1c5-74b1e24fda3e')\"\n",
              "              title=\"Convert this dataframe to an interactive table.\"\n",
              "              style=\"display:none;\">\n",
              "        \n",
              "  <svg xmlns=\"http://www.w3.org/2000/svg\" height=\"24px\"viewBox=\"0 0 24 24\"\n",
              "       width=\"24px\">\n",
              "    <path d=\"M0 0h24v24H0V0z\" fill=\"none\"/>\n",
              "    <path d=\"M18.56 5.44l.94 2.06.94-2.06 2.06-.94-2.06-.94-.94-2.06-.94 2.06-2.06.94zm-11 1L8.5 8.5l.94-2.06 2.06-.94-2.06-.94L8.5 2.5l-.94 2.06-2.06.94zm10 10l.94 2.06.94-2.06 2.06-.94-2.06-.94-.94-2.06-.94 2.06-2.06.94z\"/><path d=\"M17.41 7.96l-1.37-1.37c-.4-.4-.92-.59-1.43-.59-.52 0-1.04.2-1.43.59L10.3 9.45l-7.72 7.72c-.78.78-.78 2.05 0 2.83L4 21.41c.39.39.9.59 1.41.59.51 0 1.02-.2 1.41-.59l7.78-7.78 2.81-2.81c.8-.78.8-2.07 0-2.86zM5.41 20L4 18.59l7.72-7.72 1.47 1.35L5.41 20z\"/>\n",
              "  </svg>\n",
              "      </button>\n",
              "      \n",
              "  <style>\n",
              "    .colab-df-container {\n",
              "      display:flex;\n",
              "      flex-wrap:wrap;\n",
              "      gap: 12px;\n",
              "    }\n",
              "\n",
              "    .colab-df-convert {\n",
              "      background-color: #E8F0FE;\n",
              "      border: none;\n",
              "      border-radius: 50%;\n",
              "      cursor: pointer;\n",
              "      display: none;\n",
              "      fill: #1967D2;\n",
              "      height: 32px;\n",
              "      padding: 0 0 0 0;\n",
              "      width: 32px;\n",
              "    }\n",
              "\n",
              "    .colab-df-convert:hover {\n",
              "      background-color: #E2EBFA;\n",
              "      box-shadow: 0px 1px 2px rgba(60, 64, 67, 0.3), 0px 1px 3px 1px rgba(60, 64, 67, 0.15);\n",
              "      fill: #174EA6;\n",
              "    }\n",
              "\n",
              "    [theme=dark] .colab-df-convert {\n",
              "      background-color: #3B4455;\n",
              "      fill: #D2E3FC;\n",
              "    }\n",
              "\n",
              "    [theme=dark] .colab-df-convert:hover {\n",
              "      background-color: #434B5C;\n",
              "      box-shadow: 0px 1px 3px 1px rgba(0, 0, 0, 0.15);\n",
              "      filter: drop-shadow(0px 1px 2px rgba(0, 0, 0, 0.3));\n",
              "      fill: #FFFFFF;\n",
              "    }\n",
              "  </style>\n",
              "\n",
              "      <script>\n",
              "        const buttonEl =\n",
              "          document.querySelector('#df-d7ab8145-d630-485e-a1c5-74b1e24fda3e button.colab-df-convert');\n",
              "        buttonEl.style.display =\n",
              "          google.colab.kernel.accessAllowed ? 'block' : 'none';\n",
              "\n",
              "        async function convertToInteractive(key) {\n",
              "          const element = document.querySelector('#df-d7ab8145-d630-485e-a1c5-74b1e24fda3e');\n",
              "          const dataTable =\n",
              "            await google.colab.kernel.invokeFunction('convertToInteractive',\n",
              "                                                     [key], {});\n",
              "          if (!dataTable) return;\n",
              "\n",
              "          const docLinkHtml = 'Like what you see? Visit the ' +\n",
              "            '<a target=\"_blank\" href=https://colab.research.google.com/notebooks/data_table.ipynb>data table notebook</a>'\n",
              "            + ' to learn more about interactive tables.';\n",
              "          element.innerHTML = '';\n",
              "          dataTable['output_type'] = 'display_data';\n",
              "          await google.colab.output.renderOutput(dataTable, element);\n",
              "          const docLink = document.createElement('div');\n",
              "          docLink.innerHTML = docLinkHtml;\n",
              "          element.appendChild(docLink);\n",
              "        }\n",
              "      </script>\n",
              "    </div>\n",
              "  </div>\n",
              "  "
            ],
            "text/plain": [
              "        country_region_code        country_region  ... Workplaces Residential\n",
              "0                        AE  United Arab Emirates  ...        2.0         1.0\n",
              "1                        AE  United Arab Emirates  ...        2.0         1.0\n",
              "2                        AE  United Arab Emirates  ...        2.0         1.0\n",
              "3                        AE  United Arab Emirates  ...        2.0         1.0\n",
              "4                        AE  United Arab Emirates  ...        2.0         1.0\n",
              "...                     ...                   ...  ...        ...         ...\n",
              "8835652                  ZW              Zimbabwe  ...       78.0         NaN\n",
              "8835653                  ZW              Zimbabwe  ...       65.0         NaN\n",
              "8835654                  ZW              Zimbabwe  ...       79.0         NaN\n",
              "8835655                  ZW              Zimbabwe  ...       76.0         NaN\n",
              "8835656                  ZW              Zimbabwe  ...       75.0         NaN\n",
              "\n",
              "[8835657 rows x 15 columns]"
            ]
          },
          "metadata": {},
          "execution_count": 6
        }
      ]
    },
    {
      "cell_type": "code",
      "source": [
        ""
      ],
      "metadata": {
        "id": "kn1MXXtDnA4s"
      },
      "execution_count": 6,
      "outputs": []
    },
    {
      "cell_type": "code",
      "source": [
        "\n",
        "\n",
        "mobility_trends_countries = mobility_trends[mobility_trends['country_region'].isin\n",
        "                                                (['Spain',\n",
        "                                                  'Italy',\n",
        "                                                  'Lithuania',\n",
        "                                                  'Latvia',\n",
        "                                                  'United Kingdom'])]\n",
        "                                              \n",
        "\n",
        "mobility_trends_countries.head()"
      ],
      "metadata": {
        "id": "wJH36boXdbbZ",
        "colab": {
          "base_uri": "https://localhost:8080/",
          "height": 357
        },
        "outputId": "ba11af59-53d6-4eb6-d018-c454f87fbfe7"
      },
      "execution_count": 7,
      "outputs": [
        {
          "output_type": "execute_result",
          "data": {
            "text/html": [
              "\n",
              "  <div id=\"df-f1708a74-9124-4e5d-8ce6-01d39c079aa0\">\n",
              "    <div class=\"colab-df-container\">\n",
              "      <div>\n",
              "<style scoped>\n",
              "    .dataframe tbody tr th:only-of-type {\n",
              "        vertical-align: middle;\n",
              "    }\n",
              "\n",
              "    .dataframe tbody tr th {\n",
              "        vertical-align: top;\n",
              "    }\n",
              "\n",
              "    .dataframe thead th {\n",
              "        text-align: right;\n",
              "    }\n",
              "</style>\n",
              "<table border=\"1\" class=\"dataframe\">\n",
              "  <thead>\n",
              "    <tr style=\"text-align: right;\">\n",
              "      <th></th>\n",
              "      <th>country_region_code</th>\n",
              "      <th>country_region</th>\n",
              "      <th>sub_region_1</th>\n",
              "      <th>sub_region_2</th>\n",
              "      <th>metro_area</th>\n",
              "      <th>iso_3166_2_code</th>\n",
              "      <th>census_fips_code</th>\n",
              "      <th>place_id</th>\n",
              "      <th>date</th>\n",
              "      <th>Retail_Recreation</th>\n",
              "      <th>Grocery_Pharmacy</th>\n",
              "      <th>Parks</th>\n",
              "      <th>Transit_stations</th>\n",
              "      <th>Workplaces</th>\n",
              "      <th>Residential</th>\n",
              "    </tr>\n",
              "  </thead>\n",
              "  <tbody>\n",
              "    <tr>\n",
              "      <th>3066921</th>\n",
              "      <td>ES</td>\n",
              "      <td>Spain</td>\n",
              "      <td>NaN</td>\n",
              "      <td>NaN</td>\n",
              "      <td>NaN</td>\n",
              "      <td>NaN</td>\n",
              "      <td>NaN</td>\n",
              "      <td>ChIJi7xhMnjjQgwR7KNoB5Qs7KY</td>\n",
              "      <td>2020-02-15</td>\n",
              "      <td>2.0</td>\n",
              "      <td>-1.0</td>\n",
              "      <td>26.0</td>\n",
              "      <td>8.0</td>\n",
              "      <td>0.0</td>\n",
              "      <td>-2.0</td>\n",
              "    </tr>\n",
              "    <tr>\n",
              "      <th>3066922</th>\n",
              "      <td>ES</td>\n",
              "      <td>Spain</td>\n",
              "      <td>NaN</td>\n",
              "      <td>NaN</td>\n",
              "      <td>NaN</td>\n",
              "      <td>NaN</td>\n",
              "      <td>NaN</td>\n",
              "      <td>ChIJi7xhMnjjQgwR7KNoB5Qs7KY</td>\n",
              "      <td>2020-02-16</td>\n",
              "      <td>2.0</td>\n",
              "      <td>3.0</td>\n",
              "      <td>13.0</td>\n",
              "      <td>5.0</td>\n",
              "      <td>-1.0</td>\n",
              "      <td>-2.0</td>\n",
              "    </tr>\n",
              "    <tr>\n",
              "      <th>3066923</th>\n",
              "      <td>ES</td>\n",
              "      <td>Spain</td>\n",
              "      <td>NaN</td>\n",
              "      <td>NaN</td>\n",
              "      <td>NaN</td>\n",
              "      <td>NaN</td>\n",
              "      <td>NaN</td>\n",
              "      <td>ChIJi7xhMnjjQgwR7KNoB5Qs7KY</td>\n",
              "      <td>2020-02-17</td>\n",
              "      <td>0.0</td>\n",
              "      <td>1.0</td>\n",
              "      <td>9.0</td>\n",
              "      <td>3.0</td>\n",
              "      <td>3.0</td>\n",
              "      <td>-1.0</td>\n",
              "    </tr>\n",
              "    <tr>\n",
              "      <th>3066924</th>\n",
              "      <td>ES</td>\n",
              "      <td>Spain</td>\n",
              "      <td>NaN</td>\n",
              "      <td>NaN</td>\n",
              "      <td>NaN</td>\n",
              "      <td>NaN</td>\n",
              "      <td>NaN</td>\n",
              "      <td>ChIJi7xhMnjjQgwR7KNoB5Qs7KY</td>\n",
              "      <td>2020-02-18</td>\n",
              "      <td>-2.0</td>\n",
              "      <td>0.0</td>\n",
              "      <td>5.0</td>\n",
              "      <td>4.0</td>\n",
              "      <td>3.0</td>\n",
              "      <td>0.0</td>\n",
              "    </tr>\n",
              "    <tr>\n",
              "      <th>3066925</th>\n",
              "      <td>ES</td>\n",
              "      <td>Spain</td>\n",
              "      <td>NaN</td>\n",
              "      <td>NaN</td>\n",
              "      <td>NaN</td>\n",
              "      <td>NaN</td>\n",
              "      <td>NaN</td>\n",
              "      <td>ChIJi7xhMnjjQgwR7KNoB5Qs7KY</td>\n",
              "      <td>2020-02-19</td>\n",
              "      <td>0.0</td>\n",
              "      <td>1.0</td>\n",
              "      <td>11.0</td>\n",
              "      <td>2.0</td>\n",
              "      <td>3.0</td>\n",
              "      <td>-1.0</td>\n",
              "    </tr>\n",
              "  </tbody>\n",
              "</table>\n",
              "</div>\n",
              "      <button class=\"colab-df-convert\" onclick=\"convertToInteractive('df-f1708a74-9124-4e5d-8ce6-01d39c079aa0')\"\n",
              "              title=\"Convert this dataframe to an interactive table.\"\n",
              "              style=\"display:none;\">\n",
              "        \n",
              "  <svg xmlns=\"http://www.w3.org/2000/svg\" height=\"24px\"viewBox=\"0 0 24 24\"\n",
              "       width=\"24px\">\n",
              "    <path d=\"M0 0h24v24H0V0z\" fill=\"none\"/>\n",
              "    <path d=\"M18.56 5.44l.94 2.06.94-2.06 2.06-.94-2.06-.94-.94-2.06-.94 2.06-2.06.94zm-11 1L8.5 8.5l.94-2.06 2.06-.94-2.06-.94L8.5 2.5l-.94 2.06-2.06.94zm10 10l.94 2.06.94-2.06 2.06-.94-2.06-.94-.94-2.06-.94 2.06-2.06.94z\"/><path d=\"M17.41 7.96l-1.37-1.37c-.4-.4-.92-.59-1.43-.59-.52 0-1.04.2-1.43.59L10.3 9.45l-7.72 7.72c-.78.78-.78 2.05 0 2.83L4 21.41c.39.39.9.59 1.41.59.51 0 1.02-.2 1.41-.59l7.78-7.78 2.81-2.81c.8-.78.8-2.07 0-2.86zM5.41 20L4 18.59l7.72-7.72 1.47 1.35L5.41 20z\"/>\n",
              "  </svg>\n",
              "      </button>\n",
              "      \n",
              "  <style>\n",
              "    .colab-df-container {\n",
              "      display:flex;\n",
              "      flex-wrap:wrap;\n",
              "      gap: 12px;\n",
              "    }\n",
              "\n",
              "    .colab-df-convert {\n",
              "      background-color: #E8F0FE;\n",
              "      border: none;\n",
              "      border-radius: 50%;\n",
              "      cursor: pointer;\n",
              "      display: none;\n",
              "      fill: #1967D2;\n",
              "      height: 32px;\n",
              "      padding: 0 0 0 0;\n",
              "      width: 32px;\n",
              "    }\n",
              "\n",
              "    .colab-df-convert:hover {\n",
              "      background-color: #E2EBFA;\n",
              "      box-shadow: 0px 1px 2px rgba(60, 64, 67, 0.3), 0px 1px 3px 1px rgba(60, 64, 67, 0.15);\n",
              "      fill: #174EA6;\n",
              "    }\n",
              "\n",
              "    [theme=dark] .colab-df-convert {\n",
              "      background-color: #3B4455;\n",
              "      fill: #D2E3FC;\n",
              "    }\n",
              "\n",
              "    [theme=dark] .colab-df-convert:hover {\n",
              "      background-color: #434B5C;\n",
              "      box-shadow: 0px 1px 3px 1px rgba(0, 0, 0, 0.15);\n",
              "      filter: drop-shadow(0px 1px 2px rgba(0, 0, 0, 0.3));\n",
              "      fill: #FFFFFF;\n",
              "    }\n",
              "  </style>\n",
              "\n",
              "      <script>\n",
              "        const buttonEl =\n",
              "          document.querySelector('#df-f1708a74-9124-4e5d-8ce6-01d39c079aa0 button.colab-df-convert');\n",
              "        buttonEl.style.display =\n",
              "          google.colab.kernel.accessAllowed ? 'block' : 'none';\n",
              "\n",
              "        async function convertToInteractive(key) {\n",
              "          const element = document.querySelector('#df-f1708a74-9124-4e5d-8ce6-01d39c079aa0');\n",
              "          const dataTable =\n",
              "            await google.colab.kernel.invokeFunction('convertToInteractive',\n",
              "                                                     [key], {});\n",
              "          if (!dataTable) return;\n",
              "\n",
              "          const docLinkHtml = 'Like what you see? Visit the ' +\n",
              "            '<a target=\"_blank\" href=https://colab.research.google.com/notebooks/data_table.ipynb>data table notebook</a>'\n",
              "            + ' to learn more about interactive tables.';\n",
              "          element.innerHTML = '';\n",
              "          dataTable['output_type'] = 'display_data';\n",
              "          await google.colab.output.renderOutput(dataTable, element);\n",
              "          const docLink = document.createElement('div');\n",
              "          docLink.innerHTML = docLinkHtml;\n",
              "          element.appendChild(docLink);\n",
              "        }\n",
              "      </script>\n",
              "    </div>\n",
              "  </div>\n",
              "  "
            ],
            "text/plain": [
              "        country_region_code country_region  ... Workplaces Residential\n",
              "3066921                  ES          Spain  ...        0.0        -2.0\n",
              "3066922                  ES          Spain  ...       -1.0        -2.0\n",
              "3066923                  ES          Spain  ...        3.0        -1.0\n",
              "3066924                  ES          Spain  ...        3.0         0.0\n",
              "3066925                  ES          Spain  ...        3.0        -1.0\n",
              "\n",
              "[5 rows x 15 columns]"
            ]
          },
          "metadata": {},
          "execution_count": 7
        }
      ]
    },
    {
      "cell_type": "code",
      "source": [
        ""
      ],
      "metadata": {
        "id": "tlODmlznnCRh"
      },
      "execution_count": 7,
      "outputs": []
    },
    {
      "cell_type": "code",
      "source": [
        "mobility_trends.country_region.unique()"
      ],
      "metadata": {
        "colab": {
          "base_uri": "https://localhost:8080/"
        },
        "id": "7pWE9ea0a9sL",
        "outputId": "a9fa8b22-d2d5-4dac-d1e1-73705a48f078"
      },
      "execution_count": 8,
      "outputs": [
        {
          "output_type": "execute_result",
          "data": {
            "text/plain": [
              "array(['United Arab Emirates', 'Afghanistan', 'Antigua and Barbuda',\n",
              "       'Angola', 'Argentina', 'Austria', 'Australia', 'Aruba',\n",
              "       'Bosnia and Herzegovina', 'Barbados', 'Bangladesh', 'Belgium',\n",
              "       'Burkina Faso', 'Bulgaria', 'Bahrain', 'Benin', 'Bolivia',\n",
              "       'Brazil', 'The Bahamas', 'Botswana', 'Belarus', 'Belize', 'Canada',\n",
              "       'Switzerland', \"Côte d'Ivoire\", 'Chile', 'Cameroon', 'Colombia',\n",
              "       'Costa Rica', 'Cape Verde', 'Czechia', 'Germany', 'Denmark',\n",
              "       'Dominican Republic', 'Ecuador', 'Estonia', 'Egypt', 'Spain',\n",
              "       'Finland', 'Fiji', 'France', 'Gabon', 'United Kingdom', 'Georgia',\n",
              "       'Ghana', 'Greece', 'Guatemala', 'Guinea-Bissau', 'Hong Kong',\n",
              "       'Honduras', 'Croatia', 'Haiti', 'Hungary', 'Indonesia', 'Ireland',\n",
              "       'Israel', 'India', 'Iraq', 'Italy', 'Jamaica', 'Jordan', 'Japan',\n",
              "       'Kenya', 'Kyrgyzstan', 'Cambodia', 'South Korea', 'Kuwait',\n",
              "       'Kazakhstan', 'Laos', 'Lebanon', 'Liechtenstein', 'Sri Lanka',\n",
              "       'Lithuania', 'Luxembourg', 'Latvia', 'Libya', 'Morocco', 'Moldova',\n",
              "       'North Macedonia', 'Mali', 'Myanmar (Burma)', 'Mongolia', 'Malta',\n",
              "       'Mauritius', 'Mexico', 'Malaysia', 'Mozambique', 'Namibia',\n",
              "       'Niger', 'Nigeria', 'Nicaragua', 'Netherlands', 'Norway', 'Nepal',\n",
              "       'New Zealand', 'Oman', 'Panama', 'Peru', 'Papua New Guinea',\n",
              "       'Philippines', 'Pakistan', 'Poland', 'Puerto Rico', 'Portugal',\n",
              "       'Paraguay', 'Qatar', 'Réunion', 'Romania', 'Serbia', 'Russia',\n",
              "       'Rwanda', 'Saudi Arabia', 'Sweden', 'Singapore', 'Slovenia',\n",
              "       'Slovakia', 'Senegal', 'El Salvador', 'Togo', 'Thailand',\n",
              "       'Tajikistan', 'Turkey', 'Trinidad and Tobago', 'Taiwan',\n",
              "       'Tanzania', 'Ukraine', 'Uganda', 'United States', 'Uruguay',\n",
              "       'Venezuela', 'Vietnam', 'Yemen', 'South Africa', 'Zambia',\n",
              "       'Zimbabwe'], dtype=object)"
            ]
          },
          "metadata": {},
          "execution_count": 8
        }
      ]
    },
    {
      "cell_type": "code",
      "source": [
        "mobility_trends_countries_long1 = pd.melt(mobility_trends_countries, \n",
        "                               id_vars = mobility_trends_countries.columns[[1,8]],\n",
        "                               value_vars = mobility_trends_countries.columns[8:14]).dropna()"
      ],
      "metadata": {
        "id": "7zO9K39owPM3"
      },
      "execution_count": 9,
      "outputs": []
    },
    {
      "cell_type": "code",
      "source": [
        "# Differences in multiple mobility trends across selected countries\n",
        "g = sns.catplot(x=\"country_region\", y=\"value\", col=\"variable\", col_wrap=2, kind=\"box\", height=5, aspect=1.5,\n",
        "                sharey=True,\n",
        "                data=mobility_trends_countries_long1);"
      ],
      "metadata": {
        "colab": {
          "base_uri": "https://localhost:8080/",
          "height": 1000
        },
        "id": "AV85b3-XwkFp",
        "outputId": "ec713075-353b-4918-8830-2054f02661a3"
      },
      "execution_count": 10,
      "outputs": [
        {
          "output_type": "display_data",
          "data": {
            "image/png": "[encoded data removed]",
            "text/plain": [
              "<Figure size 1080x1080 with 5 Axes>"
            ]
          },
          "metadata": {}
        }
      ]
    },
    {
      "cell_type": "code",
      "source": [
        ""
      ],
      "metadata": {
        "id": "3MAgu25d5q43"
      },
      "execution_count": 10,
      "outputs": []
    },
    {
      "cell_type": "markdown",
      "source": [
        "The results from tables in task 1 show that across all 5 countries for all 6 mobility trends that the median is very similar. Firstly, the table with the variable of retail and recreation shows that overall all countries have a similar median of less than 0, this means that on average most citizens of those countries did not go out to do retail/recretion as the values are less than 0. In addition, all of the boxplots are very small, this means that the data is not very spread out, therefore the data is more accurate. Next, the table on Grocery and Pharmacy shopping shows that most countries have a median of around 0, except from Lithuania having a slightly higher value than the rest and Spain having the lowest value, this means that most people did not go out as much to do grocery/pharmaceutical shop. Next, the table on parks shows that all countries had more people going out to parks as the value is more than 0, with United Kingdom having the highest value and Latvia having the lowest value. The box plots are bigger compared to other variables, meaning that the data could potentially not be as accurate as the rest. Furthermore, the variable on transit stations shows that most countries had a value of less than 0, meaning that not a lot of people in those countries used travel services, with an exception from Lithuania which had a higher value in the usage compared to the rest of the countries, with United Kingdom being the lowest, which could be potentialy due to people working from home. To add, variable on attendance on workplace shows an average median on 0 for all countries, therefore most people did not go to work. The boxplots are also very small, therefore the data could be more accurate."
      ],
      "metadata": {
        "id": "3VtIlCX17RQo"
      }
    },
    {
      "cell_type": "markdown",
      "metadata": {
        "id": "gKJXiIPPHFvM"
      },
      "source": [
        "### Task 2\n",
        "Analyse the mobility changes in the United Kingdom during the second lockdown, 5 November - 2 December 2020. Perform the following analysis and visualisation: \n",
        "1. After selecting data about the UK, use the `catplot` function for ploting categorical variables in `seaborn` to plot workplaces mobility changes across all UK counties. In addition, plot the 99% confidence intervals (CI) using 10,000 bootstrap iterations. Briefly interpret the results and compare your results to the results about the first lockdown discussed in labs.\n",
        "2. Compute the median mobility change across all UK counties and six mobility categories. Use the median values to fit a linear regression model between the variables `retail_recreation` and `workplaces`. Plot the relationship using the `regplot` function in `seaborn`. Briefly discuss your results.\n",
        "\n",
        "_Level of analysis:_ UK county\n",
        "\n",
        "_Variables:_ selected mobility categories and `workplaces` in particular\n",
        "\n",
        "_Descriptive statistics:_ mean, median, and 99% CI\n",
        "\n",
        "_Modelling:_ linear regression model\n",
        "\n",
        "_Plotting:_ `catplot` and `regplot` in `seaborn`"
      ]
    },
    {
      "cell_type": "code",
      "metadata": {
        "id": "cb5_EOulqDSd"
      },
      "source": [
        "# Insert your code about Taks 2 here. Add both Code cells and Text cells as needed. \n",
        "\n",
        "\n",
        "\n",
        "\n",
        "\n"
      ],
      "execution_count": 11,
      "outputs": []
    },
    {
      "cell_type": "code",
      "execution_count": 12,
      "metadata": {
        "colab": {
          "base_uri": "https://localhost:8080/"
        },
        "id": "_XE5K1bQoMfw",
        "outputId": "7af0a12b-fda4-4ed3-8a45-8e3131706e18"
      },
      "outputs": [
        {
          "output_type": "stream",
          "name": "stdout",
          "text": [
            "Requirement already satisfied: pip in /usr/local/lib/python3.7/dist-packages (22.0.3)\n",
            "\u001b[33mWARNING: Running pip as the 'root' user can result in broken permissions and conflicting behaviour with the system package manager. It is recommended to use a virtual environment instead: https://pip.pypa.io/warnings/venv\u001b[0m\u001b[33m\n",
            "\u001b[0m"
          ]
        }
      ],
      "source": [
        "pip install --upgrade pip\n"
      ]
    },
    {
      "cell_type": "code",
      "source": [
        "import pandas as pd\n",
        "import numpy as np\n",
        "import seaborn as sns\n",
        "sns.set_theme() \n",
        "import matplotlib.pyplot as plt\n",
        "from scipy import stats\n",
        "import statsmodels.api as sm\n",
        "from datetime import date"
      ],
      "metadata": {
        "id": "gS01VRBrrbYf"
      },
      "execution_count": 13,
      "outputs": []
    },
    {
      "cell_type": "code",
      "source": [
        "mobility_trends = pd.read_csv('https://www.gstatic.com/covid19/mobility/Global_Mobility_Report.csv', parse_dates = ['date'])\n",
        "\n",
        "mobility_trends.rename(columns={'retail_and_recreation_percent_change_from_baseline': 'Retail_Recreation',\n",
        "                               'grocery_and_pharmacy_percent_change_from_baseline': 'Grocery_Pharmacy',\n",
        "                               'parks_percent_change_from_baseline': 'Parks',\n",
        "                               'transit_stations_percent_change_from_baseline': 'Transit_stations',\n",
        "                               'workplaces_percent_change_from_baseline': 'Workplaces',\n",
        "                               'residential_percent_change_from_baseline': 'Residential'},inplace=True)\n",
        "\n",
        "mobility_trends"
      ],
      "metadata": {
        "colab": {
          "base_uri": "https://localhost:8080/",
          "height": 696
        },
        "id": "QgFKkofvrexV",
        "outputId": "768306a9-73dc-4ae1-e7c3-88e03ecb4def"
      },
      "execution_count": 14,
      "outputs": [
        {
          "output_type": "stream",
          "name": "stderr",
          "text": [
            "/usr/local/lib/python3.7/dist-packages/IPython/core/interactiveshell.py:2882: DtypeWarning: Columns (3,4,5) have mixed types.Specify dtype option on import or set low_memory=False.\n",
            "  exec(code_obj, self.user_global_ns, self.user_ns)\n"
          ]
        },
        {
          "output_type": "execute_result",
          "data": {
            "text/html": [
              "\n",
              "  <div id=\"df-e68bfc9a-df23-493a-98ad-1c1999b2d583\">\n",
              "    <div class=\"colab-df-container\">\n",
              "      <div>\n",
              "<style scoped>\n",
              "    .dataframe tbody tr th:only-of-type {\n",
              "        vertical-align: middle;\n",
              "    }\n",
              "\n",
              "    .dataframe tbody tr th {\n",
              "        vertical-align: top;\n",
              "    }\n",
              "\n",
              "    .dataframe thead th {\n",
              "        text-align: right;\n",
              "    }\n",
              "</style>\n",
              "<table border=\"1\" class=\"dataframe\">\n",
              "  <thead>\n",
              "    <tr style=\"text-align: right;\">\n",
              "      <th></th>\n",
              "      <th>country_region_code</th>\n",
              "      <th>country_region</th>\n",
              "      <th>sub_region_1</th>\n",
              "      <th>sub_region_2</th>\n",
              "      <th>metro_area</th>\n",
              "      <th>iso_3166_2_code</th>\n",
              "      <th>census_fips_code</th>\n",
              "      <th>place_id</th>\n",
              "      <th>date</th>\n",
              "      <th>Retail_Recreation</th>\n",
              "      <th>Grocery_Pharmacy</th>\n",
              "      <th>Parks</th>\n",
              "      <th>Transit_stations</th>\n",
              "      <th>Workplaces</th>\n",
              "      <th>Residential</th>\n",
              "    </tr>\n",
              "  </thead>\n",
              "  <tbody>\n",
              "    <tr>\n",
              "      <th>0</th>\n",
              "      <td>AE</td>\n",
              "      <td>United Arab Emirates</td>\n",
              "      <td>NaN</td>\n",
              "      <td>NaN</td>\n",
              "      <td>NaN</td>\n",
              "      <td>NaN</td>\n",
              "      <td>NaN</td>\n",
              "      <td>ChIJvRKrsd9IXj4RpwoIwFYv0zM</td>\n",
              "      <td>2020-02-15</td>\n",
              "      <td>0.0</td>\n",
              "      <td>4.0</td>\n",
              "      <td>5.0</td>\n",
              "      <td>0.0</td>\n",
              "      <td>2.0</td>\n",
              "      <td>1.0</td>\n",
              "    </tr>\n",
              "    <tr>\n",
              "      <th>1</th>\n",
              "      <td>AE</td>\n",
              "      <td>United Arab Emirates</td>\n",
              "      <td>NaN</td>\n",
              "      <td>NaN</td>\n",
              "      <td>NaN</td>\n",
              "      <td>NaN</td>\n",
              "      <td>NaN</td>\n",
              "      <td>ChIJvRKrsd9IXj4RpwoIwFYv0zM</td>\n",
              "      <td>2020-02-16</td>\n",
              "      <td>1.0</td>\n",
              "      <td>4.0</td>\n",
              "      <td>4.0</td>\n",
              "      <td>1.0</td>\n",
              "      <td>2.0</td>\n",
              "      <td>1.0</td>\n",
              "    </tr>\n",
              "    <tr>\n",
              "      <th>2</th>\n",
              "      <td>AE</td>\n",
              "      <td>United Arab Emirates</td>\n",
              "      <td>NaN</td>\n",
              "      <td>NaN</td>\n",
              "      <td>NaN</td>\n",
              "      <td>NaN</td>\n",
              "      <td>NaN</td>\n",
              "      <td>ChIJvRKrsd9IXj4RpwoIwFYv0zM</td>\n",
              "      <td>2020-02-17</td>\n",
              "      <td>-1.0</td>\n",
              "      <td>1.0</td>\n",
              "      <td>5.0</td>\n",
              "      <td>1.0</td>\n",
              "      <td>2.0</td>\n",
              "      <td>1.0</td>\n",
              "    </tr>\n",
              "    <tr>\n",
              "      <th>3</th>\n",
              "      <td>AE</td>\n",
              "      <td>United Arab Emirates</td>\n",
              "      <td>NaN</td>\n",
              "      <td>NaN</td>\n",
              "      <td>NaN</td>\n",
              "      <td>NaN</td>\n",
              "      <td>NaN</td>\n",
              "      <td>ChIJvRKrsd9IXj4RpwoIwFYv0zM</td>\n",
              "      <td>2020-02-18</td>\n",
              "      <td>-2.0</td>\n",
              "      <td>1.0</td>\n",
              "      <td>5.0</td>\n",
              "      <td>0.0</td>\n",
              "      <td>2.0</td>\n",
              "      <td>1.0</td>\n",
              "    </tr>\n",
              "    <tr>\n",
              "      <th>4</th>\n",
              "      <td>AE</td>\n",
              "      <td>United Arab Emirates</td>\n",
              "      <td>NaN</td>\n",
              "      <td>NaN</td>\n",
              "      <td>NaN</td>\n",
              "      <td>NaN</td>\n",
              "      <td>NaN</td>\n",
              "      <td>ChIJvRKrsd9IXj4RpwoIwFYv0zM</td>\n",
              "      <td>2020-02-19</td>\n",
              "      <td>-2.0</td>\n",
              "      <td>0.0</td>\n",
              "      <td>4.0</td>\n",
              "      <td>-1.0</td>\n",
              "      <td>2.0</td>\n",
              "      <td>1.0</td>\n",
              "    </tr>\n",
              "    <tr>\n",
              "      <th>...</th>\n",
              "      <td>...</td>\n",
              "      <td>...</td>\n",
              "      <td>...</td>\n",
              "      <td>...</td>\n",
              "      <td>...</td>\n",
              "      <td>...</td>\n",
              "      <td>...</td>\n",
              "      <td>...</td>\n",
              "      <td>...</td>\n",
              "      <td>...</td>\n",
              "      <td>...</td>\n",
              "      <td>...</td>\n",
              "      <td>...</td>\n",
              "      <td>...</td>\n",
              "      <td>...</td>\n",
              "    </tr>\n",
              "    <tr>\n",
              "      <th>8835652</th>\n",
              "      <td>ZW</td>\n",
              "      <td>Zimbabwe</td>\n",
              "      <td>Midlands Province</td>\n",
              "      <td>Kwekwe</td>\n",
              "      <td>NaN</td>\n",
              "      <td>NaN</td>\n",
              "      <td>NaN</td>\n",
              "      <td>ChIJRcIZ3-FJNBkRRsj55IcLpfU</td>\n",
              "      <td>2022-02-11</td>\n",
              "      <td>NaN</td>\n",
              "      <td>NaN</td>\n",
              "      <td>NaN</td>\n",
              "      <td>NaN</td>\n",
              "      <td>78.0</td>\n",
              "      <td>NaN</td>\n",
              "    </tr>\n",
              "    <tr>\n",
              "      <th>8835653</th>\n",
              "      <td>ZW</td>\n",
              "      <td>Zimbabwe</td>\n",
              "      <td>Midlands Province</td>\n",
              "      <td>Kwekwe</td>\n",
              "      <td>NaN</td>\n",
              "      <td>NaN</td>\n",
              "      <td>NaN</td>\n",
              "      <td>ChIJRcIZ3-FJNBkRRsj55IcLpfU</td>\n",
              "      <td>2022-02-14</td>\n",
              "      <td>NaN</td>\n",
              "      <td>NaN</td>\n",
              "      <td>NaN</td>\n",
              "      <td>NaN</td>\n",
              "      <td>65.0</td>\n",
              "      <td>NaN</td>\n",
              "    </tr>\n",
              "    <tr>\n",
              "      <th>8835654</th>\n",
              "      <td>ZW</td>\n",
              "      <td>Zimbabwe</td>\n",
              "      <td>Midlands Province</td>\n",
              "      <td>Kwekwe</td>\n",
              "      <td>NaN</td>\n",
              "      <td>NaN</td>\n",
              "      <td>NaN</td>\n",
              "      <td>ChIJRcIZ3-FJNBkRRsj55IcLpfU</td>\n",
              "      <td>2022-02-15</td>\n",
              "      <td>NaN</td>\n",
              "      <td>NaN</td>\n",
              "      <td>NaN</td>\n",
              "      <td>NaN</td>\n",
              "      <td>79.0</td>\n",
              "      <td>NaN</td>\n",
              "    </tr>\n",
              "    <tr>\n",
              "      <th>8835655</th>\n",
              "      <td>ZW</td>\n",
              "      <td>Zimbabwe</td>\n",
              "      <td>Midlands Province</td>\n",
              "      <td>Kwekwe</td>\n",
              "      <td>NaN</td>\n",
              "      <td>NaN</td>\n",
              "      <td>NaN</td>\n",
              "      <td>ChIJRcIZ3-FJNBkRRsj55IcLpfU</td>\n",
              "      <td>2022-02-16</td>\n",
              "      <td>NaN</td>\n",
              "      <td>NaN</td>\n",
              "      <td>NaN</td>\n",
              "      <td>NaN</td>\n",
              "      <td>76.0</td>\n",
              "      <td>NaN</td>\n",
              "    </tr>\n",
              "    <tr>\n",
              "      <th>8835656</th>\n",
              "      <td>ZW</td>\n",
              "      <td>Zimbabwe</td>\n",
              "      <td>Midlands Province</td>\n",
              "      <td>Kwekwe</td>\n",
              "      <td>NaN</td>\n",
              "      <td>NaN</td>\n",
              "      <td>NaN</td>\n",
              "      <td>ChIJRcIZ3-FJNBkRRsj55IcLpfU</td>\n",
              "      <td>2022-02-17</td>\n",
              "      <td>NaN</td>\n",
              "      <td>NaN</td>\n",
              "      <td>NaN</td>\n",
              "      <td>NaN</td>\n",
              "      <td>75.0</td>\n",
              "      <td>NaN</td>\n",
              "    </tr>\n",
              "  </tbody>\n",
              "</table>\n",
              "<p>8835657 rows × 15 columns</p>\n",
              "</div>\n",
              "      <button class=\"colab-df-convert\" onclick=\"convertToInteractive('df-e68bfc9a-df23-493a-98ad-1c1999b2d583')\"\n",
              "              title=\"Convert this dataframe to an interactive table.\"\n",
              "              style=\"display:none;\">\n",
              "        \n",
              "  <svg xmlns=\"http://www.w3.org/2000/svg\" height=\"24px\"viewBox=\"0 0 24 24\"\n",
              "       width=\"24px\">\n",
              "    <path d=\"M0 0h24v24H0V0z\" fill=\"none\"/>\n",
              "    <path d=\"M18.56 5.44l.94 2.06.94-2.06 2.06-.94-2.06-.94-.94-2.06-.94 2.06-2.06.94zm-11 1L8.5 8.5l.94-2.06 2.06-.94-2.06-.94L8.5 2.5l-.94 2.06-2.06.94zm10 10l.94 2.06.94-2.06 2.06-.94-2.06-.94-.94-2.06-.94 2.06-2.06.94z\"/><path d=\"M17.41 7.96l-1.37-1.37c-.4-.4-.92-.59-1.43-.59-.52 0-1.04.2-1.43.59L10.3 9.45l-7.72 7.72c-.78.78-.78 2.05 0 2.83L4 21.41c.39.39.9.59 1.41.59.51 0 1.02-.2 1.41-.59l7.78-7.78 2.81-2.81c.8-.78.8-2.07 0-2.86zM5.41 20L4 18.59l7.72-7.72 1.47 1.35L5.41 20z\"/>\n",
              "  </svg>\n",
              "      </button>\n",
              "      \n",
              "  <style>\n",
              "    .colab-df-container {\n",
              "      display:flex;\n",
              "      flex-wrap:wrap;\n",
              "      gap: 12px;\n",
              "    }\n",
              "\n",
              "    .colab-df-convert {\n",
              "      background-color: #E8F0FE;\n",
              "      border: none;\n",
              "      border-radius: 50%;\n",
              "      cursor: pointer;\n",
              "      display: none;\n",
              "      fill: #1967D2;\n",
              "      height: 32px;\n",
              "      padding: 0 0 0 0;\n",
              "      width: 32px;\n",
              "    }\n",
              "\n",
              "    .colab-df-convert:hover {\n",
              "      background-color: #E2EBFA;\n",
              "      box-shadow: 0px 1px 2px rgba(60, 64, 67, 0.3), 0px 1px 3px 1px rgba(60, 64, 67, 0.15);\n",
              "      fill: #174EA6;\n",
              "    }\n",
              "\n",
              "    [theme=dark] .colab-df-convert {\n",
              "      background-color: #3B4455;\n",
              "      fill: #D2E3FC;\n",
              "    }\n",
              "\n",
              "    [theme=dark] .colab-df-convert:hover {\n",
              "      background-color: #434B5C;\n",
              "      box-shadow: 0px 1px 3px 1px rgba(0, 0, 0, 0.15);\n",
              "      filter: drop-shadow(0px 1px 2px rgba(0, 0, 0, 0.3));\n",
              "      fill: #FFFFFF;\n",
              "    }\n",
              "  </style>\n",
              "\n",
              "      <script>\n",
              "        const buttonEl =\n",
              "          document.querySelector('#df-e68bfc9a-df23-493a-98ad-1c1999b2d583 button.colab-df-convert');\n",
              "        buttonEl.style.display =\n",
              "          google.colab.kernel.accessAllowed ? 'block' : 'none';\n",
              "\n",
              "        async function convertToInteractive(key) {\n",
              "          const element = document.querySelector('#df-e68bfc9a-df23-493a-98ad-1c1999b2d583');\n",
              "          const dataTable =\n",
              "            await google.colab.kernel.invokeFunction('convertToInteractive',\n",
              "                                                     [key], {});\n",
              "          if (!dataTable) return;\n",
              "\n",
              "          const docLinkHtml = 'Like what you see? Visit the ' +\n",
              "            '<a target=\"_blank\" href=https://colab.research.google.com/notebooks/data_table.ipynb>data table notebook</a>'\n",
              "            + ' to learn more about interactive tables.';\n",
              "          element.innerHTML = '';\n",
              "          dataTable['output_type'] = 'display_data';\n",
              "          await google.colab.output.renderOutput(dataTable, element);\n",
              "          const docLink = document.createElement('div');\n",
              "          docLink.innerHTML = docLinkHtml;\n",
              "          element.appendChild(docLink);\n",
              "        }\n",
              "      </script>\n",
              "    </div>\n",
              "  </div>\n",
              "  "
            ],
            "text/plain": [
              "        country_region_code        country_region  ... Workplaces Residential\n",
              "0                        AE  United Arab Emirates  ...        2.0         1.0\n",
              "1                        AE  United Arab Emirates  ...        2.0         1.0\n",
              "2                        AE  United Arab Emirates  ...        2.0         1.0\n",
              "3                        AE  United Arab Emirates  ...        2.0         1.0\n",
              "4                        AE  United Arab Emirates  ...        2.0         1.0\n",
              "...                     ...                   ...  ...        ...         ...\n",
              "8835652                  ZW              Zimbabwe  ...       78.0         NaN\n",
              "8835653                  ZW              Zimbabwe  ...       65.0         NaN\n",
              "8835654                  ZW              Zimbabwe  ...       79.0         NaN\n",
              "8835655                  ZW              Zimbabwe  ...       76.0         NaN\n",
              "8835656                  ZW              Zimbabwe  ...       75.0         NaN\n",
              "\n",
              "[8835657 rows x 15 columns]"
            ]
          },
          "metadata": {},
          "execution_count": 14
        }
      ]
    },
    {
      "cell_type": "code",
      "source": [
        "MobilityTrends_Lockdown2 = mobility_trends[(mobility_trends['country_region'] == 'United Kingdom') & \n",
        "  (mobility_trends['date'] > '2020-11-05') & (mobility_trends['date'] <= '2020-12-02')]\n",
        "\n",
        "\n",
        "MobilityTrends_Lockdown2.head()"
      ],
      "metadata": {
        "colab": {
          "base_uri": "https://localhost:8080/",
          "height": 357
        },
        "id": "ylhdu4OSrql5",
        "outputId": "c6f7ce86-0689-4dfc-cda2-7a5eeb9fad4b"
      },
      "execution_count": 15,
      "outputs": [
        {
          "output_type": "execute_result",
          "data": {
            "text/html": [
              "\n",
              "  <div id=\"df-58c2baf2-c8a2-45ce-84fe-634d1cd65277\">\n",
              "    <div class=\"colab-df-container\">\n",
              "      <div>\n",
              "<style scoped>\n",
              "    .dataframe tbody tr th:only-of-type {\n",
              "        vertical-align: middle;\n",
              "    }\n",
              "\n",
              "    .dataframe tbody tr th {\n",
              "        vertical-align: top;\n",
              "    }\n",
              "\n",
              "    .dataframe thead th {\n",
              "        text-align: right;\n",
              "    }\n",
              "</style>\n",
              "<table border=\"1\" class=\"dataframe\">\n",
              "  <thead>\n",
              "    <tr style=\"text-align: right;\">\n",
              "      <th></th>\n",
              "      <th>country_region_code</th>\n",
              "      <th>country_region</th>\n",
              "      <th>sub_region_1</th>\n",
              "      <th>sub_region_2</th>\n",
              "      <th>metro_area</th>\n",
              "      <th>iso_3166_2_code</th>\n",
              "      <th>census_fips_code</th>\n",
              "      <th>place_id</th>\n",
              "      <th>date</th>\n",
              "      <th>Retail_Recreation</th>\n",
              "      <th>Grocery_Pharmacy</th>\n",
              "      <th>Parks</th>\n",
              "      <th>Transit_stations</th>\n",
              "      <th>Workplaces</th>\n",
              "      <th>Residential</th>\n",
              "    </tr>\n",
              "  </thead>\n",
              "  <tbody>\n",
              "    <tr>\n",
              "      <th>3255995</th>\n",
              "      <td>GB</td>\n",
              "      <td>United Kingdom</td>\n",
              "      <td>NaN</td>\n",
              "      <td>NaN</td>\n",
              "      <td>NaN</td>\n",
              "      <td>NaN</td>\n",
              "      <td>NaN</td>\n",
              "      <td>ChIJqZHHQhE7WgIReiWIMkOg-MQ</td>\n",
              "      <td>2020-11-06</td>\n",
              "      <td>-55.0</td>\n",
              "      <td>-12.0</td>\n",
              "      <td>5.0</td>\n",
              "      <td>-52.0</td>\n",
              "      <td>-38.0</td>\n",
              "      <td>17.0</td>\n",
              "    </tr>\n",
              "    <tr>\n",
              "      <th>3255996</th>\n",
              "      <td>GB</td>\n",
              "      <td>United Kingdom</td>\n",
              "      <td>NaN</td>\n",
              "      <td>NaN</td>\n",
              "      <td>NaN</td>\n",
              "      <td>NaN</td>\n",
              "      <td>NaN</td>\n",
              "      <td>ChIJqZHHQhE7WgIReiWIMkOg-MQ</td>\n",
              "      <td>2020-11-07</td>\n",
              "      <td>-60.0</td>\n",
              "      <td>-16.0</td>\n",
              "      <td>13.0</td>\n",
              "      <td>-58.0</td>\n",
              "      <td>-28.0</td>\n",
              "      <td>13.0</td>\n",
              "    </tr>\n",
              "    <tr>\n",
              "      <th>3255997</th>\n",
              "      <td>GB</td>\n",
              "      <td>United Kingdom</td>\n",
              "      <td>NaN</td>\n",
              "      <td>NaN</td>\n",
              "      <td>NaN</td>\n",
              "      <td>NaN</td>\n",
              "      <td>NaN</td>\n",
              "      <td>ChIJqZHHQhE7WgIReiWIMkOg-MQ</td>\n",
              "      <td>2020-11-08</td>\n",
              "      <td>-60.0</td>\n",
              "      <td>-20.0</td>\n",
              "      <td>5.0</td>\n",
              "      <td>-57.0</td>\n",
              "      <td>-28.0</td>\n",
              "      <td>10.0</td>\n",
              "    </tr>\n",
              "    <tr>\n",
              "      <th>3255998</th>\n",
              "      <td>GB</td>\n",
              "      <td>United Kingdom</td>\n",
              "      <td>NaN</td>\n",
              "      <td>NaN</td>\n",
              "      <td>NaN</td>\n",
              "      <td>NaN</td>\n",
              "      <td>NaN</td>\n",
              "      <td>ChIJqZHHQhE7WgIReiWIMkOg-MQ</td>\n",
              "      <td>2020-11-09</td>\n",
              "      <td>-47.0</td>\n",
              "      <td>-15.0</td>\n",
              "      <td>5.0</td>\n",
              "      <td>-50.0</td>\n",
              "      <td>-39.0</td>\n",
              "      <td>15.0</td>\n",
              "    </tr>\n",
              "    <tr>\n",
              "      <th>3255999</th>\n",
              "      <td>GB</td>\n",
              "      <td>United Kingdom</td>\n",
              "      <td>NaN</td>\n",
              "      <td>NaN</td>\n",
              "      <td>NaN</td>\n",
              "      <td>NaN</td>\n",
              "      <td>NaN</td>\n",
              "      <td>ChIJqZHHQhE7WgIReiWIMkOg-MQ</td>\n",
              "      <td>2020-11-10</td>\n",
              "      <td>-48.0</td>\n",
              "      <td>-13.0</td>\n",
              "      <td>14.0</td>\n",
              "      <td>-49.0</td>\n",
              "      <td>-39.0</td>\n",
              "      <td>15.0</td>\n",
              "    </tr>\n",
              "  </tbody>\n",
              "</table>\n",
              "</div>\n",
              "      <button class=\"colab-df-convert\" onclick=\"convertToInteractive('df-58c2baf2-c8a2-45ce-84fe-634d1cd65277')\"\n",
              "              title=\"Convert this dataframe to an interactive table.\"\n",
              "              style=\"display:none;\">\n",
              "        \n",
              "  <svg xmlns=\"http://www.w3.org/2000/svg\" height=\"24px\"viewBox=\"0 0 24 24\"\n",
              "       width=\"24px\">\n",
              "    <path d=\"M0 0h24v24H0V0z\" fill=\"none\"/>\n",
              "    <path d=\"M18.56 5.44l.94 2.06.94-2.06 2.06-.94-2.06-.94-.94-2.06-.94 2.06-2.06.94zm-11 1L8.5 8.5l.94-2.06 2.06-.94-2.06-.94L8.5 2.5l-.94 2.06-2.06.94zm10 10l.94 2.06.94-2.06 2.06-.94-2.06-.94-.94-2.06-.94 2.06-2.06.94z\"/><path d=\"M17.41 7.96l-1.37-1.37c-.4-.4-.92-.59-1.43-.59-.52 0-1.04.2-1.43.59L10.3 9.45l-7.72 7.72c-.78.78-.78 2.05 0 2.83L4 21.41c.39.39.9.59 1.41.59.51 0 1.02-.2 1.41-.59l7.78-7.78 2.81-2.81c.8-.78.8-2.07 0-2.86zM5.41 20L4 18.59l7.72-7.72 1.47 1.35L5.41 20z\"/>\n",
              "  </svg>\n",
              "      </button>\n",
              "      \n",
              "  <style>\n",
              "    .colab-df-container {\n",
              "      display:flex;\n",
              "      flex-wrap:wrap;\n",
              "      gap: 12px;\n",
              "    }\n",
              "\n",
              "    .colab-df-convert {\n",
              "      background-color: #E8F0FE;\n",
              "      border: none;\n",
              "      border-radius: 50%;\n",
              "      cursor: pointer;\n",
              "      display: none;\n",
              "      fill: #1967D2;\n",
              "      height: 32px;\n",
              "      padding: 0 0 0 0;\n",
              "      width: 32px;\n",
              "    }\n",
              "\n",
              "    .colab-df-convert:hover {\n",
              "      background-color: #E2EBFA;\n",
              "      box-shadow: 0px 1px 2px rgba(60, 64, 67, 0.3), 0px 1px 3px 1px rgba(60, 64, 67, 0.15);\n",
              "      fill: #174EA6;\n",
              "    }\n",
              "\n",
              "    [theme=dark] .colab-df-convert {\n",
              "      background-color: #3B4455;\n",
              "      fill: #D2E3FC;\n",
              "    }\n",
              "\n",
              "    [theme=dark] .colab-df-convert:hover {\n",
              "      background-color: #434B5C;\n",
              "      box-shadow: 0px 1px 3px 1px rgba(0, 0, 0, 0.15);\n",
              "      filter: drop-shadow(0px 1px 2px rgba(0, 0, 0, 0.3));\n",
              "      fill: #FFFFFF;\n",
              "    }\n",
              "  </style>\n",
              "\n",
              "      <script>\n",
              "        const buttonEl =\n",
              "          document.querySelector('#df-58c2baf2-c8a2-45ce-84fe-634d1cd65277 button.colab-df-convert');\n",
              "        buttonEl.style.display =\n",
              "          google.colab.kernel.accessAllowed ? 'block' : 'none';\n",
              "\n",
              "        async function convertToInteractive(key) {\n",
              "          const element = document.querySelector('#df-58c2baf2-c8a2-45ce-84fe-634d1cd65277');\n",
              "          const dataTable =\n",
              "            await google.colab.kernel.invokeFunction('convertToInteractive',\n",
              "                                                     [key], {});\n",
              "          if (!dataTable) return;\n",
              "\n",
              "          const docLinkHtml = 'Like what you see? Visit the ' +\n",
              "            '<a target=\"_blank\" href=https://colab.research.google.com/notebooks/data_table.ipynb>data table notebook</a>'\n",
              "            + ' to learn more about interactive tables.';\n",
              "          element.innerHTML = '';\n",
              "          dataTable['output_type'] = 'display_data';\n",
              "          await google.colab.output.renderOutput(dataTable, element);\n",
              "          const docLink = document.createElement('div');\n",
              "          docLink.innerHTML = docLinkHtml;\n",
              "          element.appendChild(docLink);\n",
              "        }\n",
              "      </script>\n",
              "    </div>\n",
              "  </div>\n",
              "  "
            ],
            "text/plain": [
              "        country_region_code  country_region  ... Workplaces Residential\n",
              "3255995                  GB  United Kingdom  ...      -38.0        17.0\n",
              "3255996                  GB  United Kingdom  ...      -28.0        13.0\n",
              "3255997                  GB  United Kingdom  ...      -28.0        10.0\n",
              "3255998                  GB  United Kingdom  ...      -39.0        15.0\n",
              "3255999                  GB  United Kingdom  ...      -39.0        15.0\n",
              "\n",
              "[5 rows x 15 columns]"
            ]
          },
          "metadata": {},
          "execution_count": 15
        }
      ]
    },
    {
      "cell_type": "code",
      "source": [
        "grid1=sns.catplot(x='Workplaces', y='sub_region_1',kind='bar',\n",
        "            height=50,aspect=0.4,ci=95,n_boot = 10000,\n",
        "            order = MobilityTrends_Lockdown2.groupby('sub_region_1')['Workplaces'].mean().sort_values().index,\n",
        "            data=MobilityTrends_Lockdown2)\n",
        "grid1.set_axis_labels('Workplaces mobility', 'Counties in the UK')"
      ],
      "metadata": {
        "id": "NopaNcn9r3o-"
      },
      "execution_count": null,
      "outputs": []
    },
    {
      "cell_type": "markdown",
      "source": [
        ""
      ],
      "metadata": {
        "id": "l-xsvTo4JeWo"
      }
    },
    {
      "cell_type": "code",
      "source": [
        "MobilityTrends_Lockdown2.head()"
      ],
      "metadata": {
        "id": "OUbAIVd9wi-_"
      },
      "execution_count": null,
      "outputs": []
    },
    {
      "cell_type": "code",
      "source": [
        "MobilityTrends_Lockdown2_median = MobilityTrends_Lockdown2.groupby('sub_region_1')[['Retail_Recreation',\n",
        "                                               'Grocery_Pharmacy',\n",
        "                                               'Parks',\n",
        "                                               'Transit_stations',\n",
        "                                               'Workplaces',\n",
        "                                               'Residential']].median()\n"
      ],
      "metadata": {
        "id": "q1L9PlGFwnMJ"
      },
      "execution_count": null,
      "outputs": []
    },
    {
      "cell_type": "code",
      "source": [
        "MobilityTrends_Lockdown2_median.shape"
      ],
      "metadata": {
        "id": "TQf0myx1x_sD"
      },
      "execution_count": null,
      "outputs": []
    },
    {
      "cell_type": "code",
      "source": [
        "MobilityTrends_Lockdown2_median_no_na = MobilityTrends_Lockdown2_median[['Retail_Recreation','Workplaces']].dropna()\n",
        "MobilityTrends_Lockdown2_median_no_na.shape"
      ],
      "metadata": {
        "id": "6nhRSJPcyGnz"
      },
      "execution_count": null,
      "outputs": []
    },
    {
      "cell_type": "code",
      "source": [
        "slope, intercept, r_value, p_value, std_err = stats.linregress(MobilityTrends_Lockdown2_median_no_na['Retail_Recreation'],MobilityTrends_Lockdown2_median_no_na['Workplaces'])"
      ],
      "metadata": {
        "id": "j5nUojmnygQs"
      },
      "execution_count": null,
      "outputs": []
    },
    {
      "cell_type": "code",
      "source": [
        "slope, intercept, r_value, p_value, std_err"
      ],
      "metadata": {
        "id": "TNovG2yGynE3"
      },
      "execution_count": null,
      "outputs": []
    },
    {
      "cell_type": "code",
      "source": [
        "\n",
        "fig_reg = sns.regplot(x = 'Retail_Recreation', y = 'Workplaces', \n",
        "                      label = 'r = {0:.3f}, p-value = {1:3f}'.format(r_value,p_value),\n",
        "                      data = MobilityTrends_Lockdown2_median)\n",
        "fig_reg.set(xlabel = 'Retail and recreation % change', ylabel = 'Workplaces % change')\n",
        "fig_reg.legend()"
      ],
      "metadata": {
        "id": "3SjzKvG5y5nt"
      },
      "execution_count": null,
      "outputs": []
    },
    {
      "cell_type": "markdown",
      "source": [
        "1) The results of workplaces mobility for counties in the UK during the second lockdown between 5th of November to 2nd of December show that most of the counties had a workplace mobility of above -30 with a few having less than -30. The county with the highest workplaces mobility is Greater London with around -48 and the county with the lowest workplaces mobility is Bleanau Gwent with around -17. Compared to the first lockdown, the values show that Edinburgh had the highest workplaces mobility of over -50 and Mid Ulster had the lowest workplaces mobility at around -23.\n",
        "\n",
        "2)Across all counties, the 6 mobility trends show a median of 151, and a median of 148 for workplaces mobility and retail and recration trends. The scatter graph shows that there was a positive correlation between retal and recreation % change and workplaces % change with most data at around -50 or -20 and with few anomolies, this means that as retail and recreation % change increases so does the workplaces % changes increase as well."
      ],
      "metadata": {
        "id": "AGjrvhV4KKNU"
      }
    },
    {
      "cell_type": "markdown",
      "metadata": {
        "id": "JMOz0fpqHFj0"
      },
      "source": [
        "### Task 3\n",
        "\n",
        "How do mobility trends change over time in selected UK counties? For a sample of counties (Essex, Kent, York, Suffolk), perform the following computations: \n",
        "1. Create a dataframe containing all the data about the counties of interest.\n",
        "2. Reshape the dataframe from wide to long data format.\n",
        "3. Aggregate daily mobility trends to monthly mobility trends.\n",
        "4. Plot the monthly mobility trends across all counties and all mobility categories using the `seaborn` function `relplot`. Plot also the 95% confidence intervals of the mean mobility trends. \n",
        "\n",
        "Give a brief interpretation of the results. Determine whether counties differ in their mobility trends and whether those differences are statistically significant based on the 95% confidence intervals (CI).\n",
        "\n",
        "_Level of analysis:_ UK county\n",
        "\n",
        "_Variables:_ all six mobility categories\n",
        "\n",
        "_Descriptive statistics:_ mean and 95% CI using `relplot` (no need to compute the mean and 95% CI separately, just interpret the ones you got from the plot you created) \n",
        "\n",
        "_Plotting:_ `relplot`\n"
      ]
    },
    {
      "cell_type": "code",
      "metadata": {
        "id": "C8BXti02qIMT"
      },
      "source": [
        "# Insert your code about Taks 3 here. Add both Code cells and Text cells as needed.\n",
        "\n",
        "\n",
        "\n",
        "\n",
        "\n",
        "\n"
      ],
      "execution_count": null,
      "outputs": []
    },
    {
      "cell_type": "code",
      "execution_count": null,
      "metadata": {
        "id": "uleSJTqK5R9G"
      },
      "outputs": [],
      "source": [
        "pip install --upgrade pip"
      ]
    },
    {
      "cell_type": "code",
      "source": [
        "import pandas as pd\n",
        "import numpy as np\n",
        "import seaborn as sns\n",
        "sns.set_theme() \n",
        "import matplotlib.pyplot as plt\n",
        "from scipy import stats\n",
        "import statsmodels.api as sm\n",
        "from datetime import date"
      ],
      "metadata": {
        "id": "Roui_6AX5R9V"
      },
      "execution_count": null,
      "outputs": []
    },
    {
      "cell_type": "code",
      "source": [
        "mobility_trends = pd.read_csv('https://www.gstatic.com/covid19/mobility/Global_Mobility_Report.csv', parse_dates = ['date'])\n",
        "\n",
        "mobility_trends.rename(columns={'retail_and_recreation_percent_change_from_baseline': 'Retail_Recreation',\n",
        "                               'grocery_and_pharmacy_percent_change_from_baseline': 'Grocery_Pharmacy',\n",
        "                               'parks_percent_change_from_baseline': 'Parks',\n",
        "                               'transit_stations_percent_change_from_baseline': 'Transit_stations',\n",
        "                               'workplaces_percent_change_from_baseline': 'Workplaces',\n",
        "                               'residential_percent_change_from_baseline': 'Residential'},inplace=True)\n",
        "\n",
        "mobility_trends"
      ],
      "metadata": {
        "id": "KMCuPBGz5R9W"
      },
      "execution_count": null,
      "outputs": []
    },
    {
      "cell_type": "code",
      "source": [
        ""
      ],
      "metadata": {
        "id": "J9O6R59_5R9W"
      },
      "execution_count": null,
      "outputs": []
    },
    {
      "cell_type": "code",
      "source": [
        "MobilityTrends_OurCounties= mobility_trends[mobility_trends['sub_region_1'].isin(['Suffolk',\n",
        "                                                                                'Essex',\n",
        "                                                                                'Cornwall',\n",
        "                                                                                'Luton'])]"
      ],
      "metadata": {
        "id": "Z6kgYj1S5R9X"
      },
      "execution_count": null,
      "outputs": []
    },
    {
      "cell_type": "code",
      "source": [
        "MobilityTrends_OurCounties"
      ],
      "metadata": {
        "id": "vg4QWJXs5R9X"
      },
      "execution_count": null,
      "outputs": []
    },
    {
      "cell_type": "code",
      "source": [
        "MobilityTrends_OurCounties_long = pd.melt(MobilityTrends_OurCounties, id_vars=['sub_region_1', 'date'], \n",
        "        value_vars = MobilityTrends_OurCounties.columns[9:15])"
      ],
      "metadata": {
        "id": "y1DHcpwL5R9X"
      },
      "execution_count": null,
      "outputs": []
    },
    {
      "cell_type": "code",
      "source": [
        "MobilityTrends_OurCounties_long"
      ],
      "metadata": {
        "id": "mxpMq_2E5R9Y"
      },
      "execution_count": null,
      "outputs": []
    },
    {
      "cell_type": "code",
      "source": [
        "MobilityTrends_OurCounties_long.loc[:,'date'] = pd.to_datetime(MobilityTrends_OurCounties_long.loc[:,'date'])\n",
        "MobilityTrends_OurCounties_long['Month_Year'] = MobilityTrends_OurCounties_long.loc[:,'date'].dt.strftime('%m-%Y')"
      ],
      "metadata": {
        "id": "n0uae8Mv5R9Y"
      },
      "execution_count": null,
      "outputs": []
    },
    {
      "cell_type": "code",
      "source": [
        "MobilityTrends_OurCounties_long.head()"
      ],
      "metadata": {
        "id": "FgDPE7ss5R9Y"
      },
      "execution_count": null,
      "outputs": []
    },
    {
      "cell_type": "code",
      "source": [
        "fig2 = sns.relplot(x = 'Month_Year', \n",
        "            y = 'value', \n",
        "            hue = 'sub_region_1', \n",
        "            col='variable', \n",
        "            col_wrap= 1,\n",
        "            kind='line',\n",
        "            facet_kws={'sharey':False, 'sharex':True},\n",
        "            height = 6, aspect = 1.7,\n",
        "            ci = 95, n_boot = 1000,\n",
        "            linewidth = 1,\n",
        "            data=MobilityTrends_OurCounties_long)\n",
        "fig2.set_xticklabels(rotation=45)"
      ],
      "metadata": {
        "id": "u2zZV-x95R9Z"
      },
      "execution_count": null,
      "outputs": []
    },
    {
      "cell_type": "markdown",
      "source": [
        "The tables show that for counties in the UK the mobility trend for retail and recreation is very similar across all counties except that Cornwall had a much higher increase in retail and recreation compared to other counties. Moreover, across all counties there is a similar trend for grocery and pharmacy variable, with yet again Cornwall having a slightly higher trend compared to the rest. Next, counties had a similar trend for parks as well, with Cornwall being slightly higher. However, Luton has data missing, which could suggest that the data for Luton is not significant because there is not a complete set of data avaiblable. In addition, Luton has a lower trend compared to the rest. Yet again, counties have a similar trend towards trasit stations variables, likewise for workplaces and residential variables. All of the variables had 2 dips throughout 2020-22, which can explained as to when there were lockdown's where people were not going out. I believe that most of the trends are mostly significant as the confidence interval is 95% and most of the counties had a similar trend, except from the park variable which may have a lower significance."
      ],
      "metadata": {
        "id": "tLjE9ThlUec5"
      }
    }
  ]
}