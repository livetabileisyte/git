{
 "cells": [
  {
   "cell_type": "markdown",
   "metadata": {
    "id": "0b7sKhbYVdy9"
   },
   "source": [
    "# Open Reproducible Data Science Workflows\n",
    "<br>\n",
    "\n",
    "> ### \"An article about computational science in a scientific publication is _not_ the scholarship itself, it is merely _advertising_ of the scholarship. The actual scholarship is the complete software development environment and the complete set of instructions which generated the figures.\"\n",
    ">[— J. B. Buckheit and D. L. Donoho, 1995](https://statweb.stanford.edu/~wavelab/Wavelab_850/wavelab.pdf)\n",
    "\n",
    "<br>\n",
    "\n",
    "> ![title](reproducibility.png)\n",
    ">\n",
    ">[— Marwick et al, 2017, Open science in archaeology](https://eprints.gla.ac.uk/148887/7/148887.pdf)"
   ]
  },
  {
   "cell_type": "markdown",
   "metadata": {
    "id": "S5mtsDgnEnH6"
   },
   "source": [
    "## Key themes\n",
    "\n",
    "* The role of transparency and reproducible workflow in scientific research. \n",
    "* The reproducibility problem.\n",
    "* Plausible sources of the reproducibility problem:\n",
    "  * Biases in data analysis, including p-hacking, HARKing (Hypothesizing After Results are Known), and publication bias\n",
    "  * Lacking transparency of computer code, data, and materials.  \n",
    "* Rules for open and reproducible workflows\n",
    "* Open-source tools for reproducible research, including `Jupyter` and `Colab` notebooks, `Markdown`, dependency management via `pip`, version control.\n",
    "\n",
    "<br>"
   ]
  },
  {
   "cell_type": "markdown",
   "metadata": {
    "id": "hIEgd0rnMXpg"
   },
   "source": [
    "## Learning resources\n",
    "\n",
    "### Concepts\n",
    "\n",
    "<i class=\"fas fa-scroll\"></i> Regina Nuzzo. [How scientists fool themselves – and how they can stop](https://www.nature.com/news/how-scientists-fool-themselves-and-how-they-can-stop-1.18517). Nature.\n",
    "\n",
    "<i class=\"fas fa-scroll\"></i> Christie Aschwanden. [Science Isn’t Broken—It’s just a hell of a lot harder than we give it credit for](https://fivethirtyeight.com/features/science-isnt-broken/#part1). FiveThirtyEight.\n",
    "\n",
    "<i class=\"fas fa-scroll\"></i> Marcus Munafò et al. (2017) [A manifesto for reproducible science](https://www.nature.com/articles/s41562-016-0021). Nature Human Behaviour.\n",
    "\n",
    "<i class=\"fas fa-scroll\"></i> Jeffrey Perkel (2018) [Why Jupyter is data scientists’ computational notebook of choice](https://www.nature.com/articles/d41586-018-07196-1). Nature.\n",
    "\n",
    "<i class=\"fas fa-scroll\"></i> Tom Hardwicke et al. (2019) [Calibrating the scientific ecosystem through meta-research](https://www.annualreviews.org/doi/abs/10.1146/annurev-statistics-031219-041104). Annual Review of Statistics and Its Application.\n",
    "\n",
    "<i class=\"fas fa-book\"></i> Garret Christensen, Jeremy Freese, Edward Miguel (2019) [Chapter 11: Reproducible Workflow. In Transparent and Reproducible Social Science Research: How to Do Open Science](https://www.ucpress.edu/book/9780520296954/transparent-and-reproducible-social-science-research). University of California Press.\n",
    "\n",
    "<i class=\"fas fa-play-circle\"></i> [Reproducibility: The Basics](https://youtu.be/yHXNawfYGYM). (With Brian Nosek)\n",
    "\n",
    "<i class=\"fas fa-play-circle\"></i> [Researcher degrees of freedom](https://www.youtube.com/watch?v=uN3Q-s-CtTc&list=PLAKyhL4GNnqNv4qv0yr0MopAtfBOiT25I&index=4), [P-hacking](https://www.youtube.com/watch?v=V7pvYLZkcK4&list=PLAKyhL4GNnqNv4qv0yr0MopAtfBOiT25I&index=7), and [P-curve](https://www.youtube.com/watch?v=V7pvYLZkcK4&list=PLAKyhL4GNnqNv4qv0yr0MopAtfBOiT25I&index=7). (By Berkeley Initiative for Transparency in the Social Sciences, BITSS)\n",
    "\n",
    "### Tutorials\n",
    "<i class=\"fas fa-play-circle\"></i> [Reproducible Data Analysis in Jupyter](https://jakevdp.github.io/blog/2017/03/03/reproducible-data-analysis-in-jupyter/). Jake Vanderplas.\n",
    "\n",
    "<i class=\"fas fa-play-circle\"></i> [Getting Started With the Open Science Framework (OSF)](https://youtu.be/2TV21gOzfhw). Center for Open Science.\n",
    "\n",
    "<i class=\"fas fa-play-circle\"></i> Data Science Productivity Tools: [Creating a GitHub Repository](https://youtu.be/7slCKVGNoLE?list=UUEHNLIrfyOC_y8qiR7KXJVA), [Using git at the Command Line](https://youtu.be/gSOKxdo5jkw?list=UUEHNLIrfyOC_y8qiR7KXJVA), [Git and GitHub](https://youtu.be/_wFpjY56iKs?list=UUEHNLIrfyOC_y8qiR7KXJVA). Rafael Irizarry.\n",
    "\n",
    "<i class=\"fas fa-code\"></i> [Introduction to Open Reproducible Science Workflows](https://www.earthdatascience.org/courses/intro-to-earth-data-science/open-reproducible-science/). Earth Lab CU Boulder.\n",
    "\n",
    "<i class=\"fas fa-code\"></i> [Welcome To Colaboratory](https://colab.research.google.com/notebooks/welcome.ipynb#scrollTo=lSrWNr3MuFUS). Google Colaboratory.\n",
    "\n",
    "<i class=\"fas fa-code\"></i> [Markdown in Jupyter Notebook](https://www.datacamp.com/community/tutorials/markdown-in-jupyter-notebook). DataCamp.\n",
    "\n",
    "<i class=\"fas fa-code\"></i> [Markdown Guide](https://colab.research.google.com/notebooks/markdown_guide.ipynb#scrollTo=70pYkR9LiOV0). Google Colaboratory.\n",
    "\n",
    "<i class=\"fas fa-code\"></i> [The Markdown Guide](https://www.markdownguide.org). Matt Cone and collaborators.\n",
    "\n",
    "<br>"
   ]
  },
  {
   "cell_type": "markdown",
   "metadata": {
    "id": "nioTdc9SKIUE"
   },
   "source": [
    "# What is computational reproducibility and why it matters?\n",
    "\n",
    "The terms of reproducibility (and computational reproducibility) and replicability are sometimes used interchangeably but they differ. \n",
    "\n",
    "> **Reproducibility** means \"obtaining consistent results using the same input data, computational steps, methods, and conditions of analysis\"; it is synonymous with computational reproducibility.\n",
    "\n",
    "> **Replicability** \"means obtaining consistent results across studies aimed at answering the same scientific question, each of which has obtained its own data.\"\n",
    "\n",
    "> **Why does reproducibility and replicability matter?** \"Reproducibility and replicability are often cited as hallmarks of good science. Being able to reproduce the computational results of another researcher starting with the same data and replicating a previous study to test its results facilitate the self-correcting nature of science.\"\n",
    "\n",
    "> **Why do we study computational reproducibility right now?** \"Computational reproducibility is more prominent now than ever because of the growth in reliance on computing across all of science. When a researcher reports a study and makes the underlying data and code available, those results should be computationally reproducible by another researcher.\"\n",
    "\n",
    "Source: [Reproducibility and Replicability in Science (2019), National Academies of Sciences, Engineering, and Medicine](https://www.nationalacademies.org/our-work/reproducibility-and-replicability-in-science)\n",
    "\n",
    "Our focus is on the _reproducibility_ of our data analysis workflow, and on _computational reproducibility_ in particular."
   ]
  },
  {
   "cell_type": "markdown",
   "metadata": {
    "id": "JbVua3gITq7s"
   },
   "source": [
    "# Open Reproducible Workflow in Jupyter/Colab Notebooks\n",
    "\n",
    "An important aspect of reproducible research is the integration of various components, including data gathering, data manipulation, data analysis and outputs in an open research workflow.\n",
    "\n",
    "The [Jupyter](https://jupyter.org) and [Colab](https://colab.research.google.com/notebooks/intro.ipynb?utm_source=scs-index#) notebooks are an open-source web applications that allow you to create and share documents that contain code, equations, visualisations and narrative text. While a popular tool for [data exploration](https://www.nature.com/articles/d41586-018-07196-1), the notebook can also support your reproducible research workflow by integrating **executable code**, **data inputs**, **results**, and **documentation** within a single notebook, along with **images**, **HTML**, **LaTeX**, **videos** and more.\n",
    "\n",
    "In the previous session, you have learned how to use the Jupyter / Colab notebook to:\n",
    "* run code interactively using the [`Python`](https://www.python.org) programming language and\n",
    "* document your code and outputs using [`Markdown`](https://daringfireball.net/projects/markdown/syntax), an open and easy-to-use markup language for creating formatted text.\n",
    "\n",
    "Writing your `Python` code and `Markdown` documentation within Jupyter/Colab notebooks facilitates open and reproducible science workflow through integration of various components — data inputs, code for data manipulation, analysis, visualisation, and results — within a single file that can be openly shared and communicated with others.\n",
    "\n",
    "The Jupyter/Colab notebooks support reproducibility but do not guarantee it. In fact, a recent [study](https://blog.jetbrains.com/datalore/2020/12/17/we-downloaded-10-000-000-jupyter-notebooks-from-github-this-is-what-we-learned/) of 10 million Jupyter notebooks hosted on GitHub have found that 36 per cent of the notebooks could not be reproduced because the code cells were not originally executed in a linear order. The tool is not sufficient for reproducible data analysis. We also need a reproducible research workflow that helps us transition from [\"nonlinear, interactive, trial-and-error style of exploration to a more linear and reproducible analysis based on organized, packaged, and tested code\" (Jake VanderPlas, 2017)](https://jakevdp.github.io/blog/2017/03/03/reproducible-data-analysis-in-jupyter/).  \n"
   ]
  },
  {
   "cell_type": "markdown",
   "metadata": {
    "id": "hqnQaNVzONjX"
   },
   "source": [
    "<img src=\"https://zenodo.org/api/iiif/v2/0555299a-9eeb-4122-80cd-41ce3ea8b616:47ef35bc-fab9-47f1-9e13-bcd4d63d595a:reproducible_logbook.png/full/750,/0/default.png\" width=\"1200\" height=\"700\">\n",
    "\n",
    "**Figure 1.** _Open and reproducible scientific workflow using Jupyter notebook and related open-source tools_. Source: [Juliette Taka and Nicolas M. Thiery. Publishing reproducible logbooks explainer comic strip. Zenodo. DOI: 10.5281/zenodo.4421040 (2018)](https://zenodo.org/record/4421040#.YInMpC1Q0mk)."
   ]
  },
  {
   "cell_type": "markdown",
   "metadata": {},
   "source": [
    "# Rules for Reproducible Workflow"
   ]
  },
  {
   "cell_type": "markdown",
   "metadata": {
    "id": "Hn_mvvr9_SQp"
   },
   "source": [
    "Let's consider a few [simple rules for reproducible research workflow with Jupyter/Colab notebook (Rule at al, 2019)](https://journals.plos.org/ploscompbiol/article?id=10.1371/journal.pcbi.1007007):\n",
    "\n",
    "> ***Document the process, not just the results*** — \"... make sure to document all your explorations, even (or perhaps especially) those that led to dead ends. These comments will help you remember what you did and ... why you chose a particular parameter value, where you copied a block of code from, or what you found interesting about an intermediate result.\"\n",
    "* For an example, see [Section](). \n",
    "\n",
    "> ***Use cell divisions to make steps clear*** — \"... try to make each cell in your notebook perform one meaningful step of the analysis that is easy to understand from the code in the cell or the surrounding markdown description. Modularize your code by cells and label the cells with markdown above the cell. Think of each cell as being one paragraph, having one function, or accomplishing one task (for example, create a plot).\"\n",
    "* For an example, see [Section]().\n",
    "\n",
    "> ***Modularize code*** — \"It is always good practice to avoid duplicate code, but in notebooks, it is especially easy to copy a cell, tweak a few lines, paste the resulting code into a new cell or another notebook, and run it again. This form of experimentation is expedient but makes notebooks difficult to read and nearly impossible to maintain if you want to change the functionality of or fix a bug in the copied code. Instead, wrap code you are about to copy and reuse in a function, which you can then call from as many cells as desired.\"\n",
    "* For an example, see [Section]().\n",
    "\n",
    "> ***Record dependencies*** — \"Rerunning your analysis in the future will require accessing not only your code but also any module or library that your code relied on.\"\n",
    "* For an example, see [Section]().\n",
    "\n",
    "> ***Use version control*** — \"Version control is a critical adjunct to notebook use because the interactive nature of notebooks makes it easy to accidentally change or delete important content. Furthermore, since notebooks contain code and code inevitably contains bugs, being able to determine the history of when a given bug you have discovered was introduced to the code versus when it was fixed—and thus what analyses it may have affected—is a key capability in scientific computation.\"\n",
    "\n",
    "* Git and GitHub are widely used tools for version control [[see Ten Simple Rules for Taking Advantage of Git and GitHub (Perez-Riverol et al, 2016)](https://doi.org/10.1371/journal.pcbi.1004947) but are known to have a steep learning curve. For version control, we will use the built-in Colab functionality Revision history, which can be accessed from `File` —> `Revision history`.\n",
    "\n",
    "> ***Design your notebooks to be read, run, and reused*** — \"... store your notebooks in a public code repository with a clear README file and a liberal open source license granting permission to reuse your code.\"\n",
    "\n",
    "* Public code repositories that enable code sharing, team collaboration, and open source licensing include [GitHub](https://github.com), [GitLab](https://about.gitlab.com), [Open Science Framework (OSF)](https://osf.io).\n",
    "\n",
    "> ***Share and explain your data*** — \"Having access to a clearly annotated notebook is of little use to those wanting to reproduce or extend your results if the underlying data are locked away. Strive to make your data or a sample of your data publicly available along with the notebook.\"\n",
    "\n",
    "* Data repositories for medium to large sized anonymized data include [figshare](https://figshare.com/), [zenodo](https://zenodo.org/), and [Dryad](https://datadryad.org/stash/our_mission)."
   ]
  },
  {
   "cell_type": "markdown",
   "metadata": {},
   "source": [
    "# Reproducible research report\n",
    "\n",
    "To create a reproducible research report, use throughout the notebook:\n",
    "* Python code in Code cells\n",
    "* Hashtag symbol `#` in Code cells to introduce a comment line describing your Python code. _Code commenting is a very important part of computational data analysis. \n",
    "* Markdown language in Text cells to write up your methods, results, and interpretation.\n",
    "\n",
    "At the end of a session, rerun your notebook from top to bottom using `Restart and run all` (under `Runtime` in the Colab menu bar) to ensure computational reproducibility."
   ]
  },
  {
   "cell_type": "markdown",
   "metadata": {
    "id": "Qe3vec0i-qn_"
   },
   "source": [
    "# Recording dependencies\n",
    "\n",
    "Throughout the textbook, we will refer to the rules for reproducible research workflow. We illustrate below a few simple rules (e.g., comment your code; use cell division to make your steps clear) with a focus on recording software dependencies, which is a key prerequisite for computational reproducibility. \n",
    "\n",
    "Reproducing your data analysis in the future will require reusing not only your data and code but also any module and library as well as their respective versions that you employed in your code. It is a good practice to record those dependencies so that others or your future self (i.e., you in a month's time) can recreate the environment underlying your analysis.\n",
    "\n",
    "Let's first determine your Python version. You can check your Python version in a Code cell by typing `!python --version`. Note the use of the exclamation mark `!` in front of the code. Any command appearing after the mark in the line will not be executed from the Python environment but from the underlying operating system. You can interact with your operating system from the command line, so you can think of the exclamation mark `!` as introducing command-line interface (You can learn more about the command-line interface from [this tutorial](http://swcarpentry.github.io/shell-novice/) by The Carpentries)."
   ]
  },
  {
   "cell_type": "code",
   "execution_count": null,
   "metadata": {
    "colab": {
     "base_uri": "https://localhost:8080/"
    },
    "id": "91bvO2HLln5D",
    "outputId": "9e41079e-a65f-4080-d6dc-278434a51a54"
   },
   "outputs": [
    {
     "name": "stdout",
     "output_type": "stream",
     "text": [
      "Python 3.7.10\n"
     ]
    }
   ],
   "source": [
    "# Check Python version\n",
    "!python --version"
   ]
  },
  {
   "cell_type": "markdown",
   "metadata": {
    "id": "62C05xpzllwU"
   },
   "source": [
    "As of April 2021, Colab supports Python 3.7.10."
   ]
  },
  {
   "cell_type": "markdown",
   "metadata": {
    "id": "gXizOp3wlSEd"
   },
   "source": [
    "To install and manage Python software modules or libraries, you can use a package-management system, such as [`pip`](https://pypi.org/project/pip/). Using `pip`, you can download and install a specific version of a module/library you plan to use in your data analysis. For example, you can install the library for causal inference [`DoWhy`](https://microsoft.github.io/dowhy/example_notebooks/dowhy_simple_example.html#) version [0.6](https://pypi.org/project/dowhy/#id4) released on 03 March 2021 by typing `!pip install doWhy==0.6`. Note that we use two consecutive equal marks `==` called the equality operator instead of a single equal marks `=` which is an assignment operator in Python."
   ]
  },
  {
   "cell_type": "code",
   "execution_count": 7,
   "metadata": {
    "colab": {
     "base_uri": "https://localhost:8080/"
    },
    "id": "pcOP0IWXm08t",
    "outputId": "d5e765ea-e0aa-449a-8573-53bc906eb558"
   },
   "outputs": [
    {
     "name": "stdout",
     "output_type": "stream",
     "text": [
      "Requirement already satisfied: dowhy==0.6 in /Users/valentindanchev/opt/anaconda3/lib/python3.8/site-packages (0.6)\n",
      "Requirement already satisfied: scikit-learn in /Users/valentindanchev/opt/anaconda3/lib/python3.8/site-packages (from dowhy==0.6) (0.23.2)\n",
      "Requirement already satisfied: networkx>=2.0 in /Users/valentindanchev/opt/anaconda3/lib/python3.8/site-packages (from dowhy==0.6) (2.5)\n",
      "Requirement already satisfied: pydot>=1.4 in /Users/valentindanchev/opt/anaconda3/lib/python3.8/site-packages (from dowhy==0.6) (1.4.2)\n",
      "Requirement already satisfied: sympy>=1.4 in /Users/valentindanchev/opt/anaconda3/lib/python3.8/site-packages (from dowhy==0.6) (1.6.2)\n",
      "Requirement already satisfied: pandas>=0.24 in /Users/valentindanchev/opt/anaconda3/lib/python3.8/site-packages (from dowhy==0.6) (1.1.3)\n",
      "Requirement already satisfied: statsmodels in /Users/valentindanchev/opt/anaconda3/lib/python3.8/site-packages (from dowhy==0.6) (0.12.1)\n",
      "Requirement already satisfied: numpy>=1.15 in /Users/valentindanchev/opt/anaconda3/lib/python3.8/site-packages (from dowhy==0.6) (1.19.2)\n",
      "Requirement already satisfied: scipy in /Users/valentindanchev/opt/anaconda3/lib/python3.8/site-packages (from dowhy==0.6) (1.5.2)\n",
      "Requirement already satisfied: decorator>=4.3.0 in /Users/valentindanchev/opt/anaconda3/lib/python3.8/site-packages (from networkx>=2.0->dowhy==0.6) (4.4.2)\n",
      "Requirement already satisfied: pytz>=2017.2 in /Users/valentindanchev/opt/anaconda3/lib/python3.8/site-packages (from pandas>=0.24->dowhy==0.6) (2020.4)\n",
      "Requirement already satisfied: numpy>=1.15 in /Users/valentindanchev/opt/anaconda3/lib/python3.8/site-packages (from dowhy==0.6) (1.19.2)\n",
      "Requirement already satisfied: python-dateutil>=2.7.3 in /Users/valentindanchev/opt/anaconda3/lib/python3.8/site-packages (from pandas>=0.24->dowhy==0.6) (2.8.1)\n",
      "Requirement already satisfied: pyparsing>=2.1.4 in /Users/valentindanchev/opt/anaconda3/lib/python3.8/site-packages (from pydot>=1.4->dowhy==0.6) (2.4.7)\n",
      "Requirement already satisfied: six>=1.5 in /Users/valentindanchev/opt/anaconda3/lib/python3.8/site-packages (from python-dateutil>=2.7.3->pandas>=0.24->dowhy==0.6) (1.15.0)\n",
      "Requirement already satisfied: numpy>=1.15 in /Users/valentindanchev/opt/anaconda3/lib/python3.8/site-packages (from dowhy==0.6) (1.19.2)\n",
      "Requirement already satisfied: joblib>=0.11 in /Users/valentindanchev/opt/anaconda3/lib/python3.8/site-packages (from scikit-learn->dowhy==0.6) (0.17.0)\n",
      "Requirement already satisfied: scipy in /Users/valentindanchev/opt/anaconda3/lib/python3.8/site-packages (from dowhy==0.6) (1.5.2)\n",
      "Requirement already satisfied: threadpoolctl>=2.0.0 in /Users/valentindanchev/opt/anaconda3/lib/python3.8/site-packages (from scikit-learn->dowhy==0.6) (2.1.0)\n",
      "Requirement already satisfied: numpy>=1.15 in /Users/valentindanchev/opt/anaconda3/lib/python3.8/site-packages (from dowhy==0.6) (1.19.2)\n",
      "Requirement already satisfied: patsy>=0.5 in /Users/valentindanchev/opt/anaconda3/lib/python3.8/site-packages (from statsmodels->dowhy==0.6) (0.5.1)\n",
      "Requirement already satisfied: pandas>=0.24 in /Users/valentindanchev/opt/anaconda3/lib/python3.8/site-packages (from dowhy==0.6) (1.1.3)\n",
      "Requirement already satisfied: scipy in /Users/valentindanchev/opt/anaconda3/lib/python3.8/site-packages (from dowhy==0.6) (1.5.2)\n",
      "Requirement already satisfied: numpy>=1.15 in /Users/valentindanchev/opt/anaconda3/lib/python3.8/site-packages (from dowhy==0.6) (1.19.2)\n",
      "Requirement already satisfied: six>=1.5 in /Users/valentindanchev/opt/anaconda3/lib/python3.8/site-packages (from python-dateutil>=2.7.3->pandas>=0.24->dowhy==0.6) (1.15.0)\n",
      "Requirement already satisfied: numpy>=1.15 in /Users/valentindanchev/opt/anaconda3/lib/python3.8/site-packages (from dowhy==0.6) (1.19.2)\n",
      "Requirement already satisfied: mpmath>=0.19 in /Users/valentindanchev/opt/anaconda3/lib/python3.8/site-packages (from sympy>=1.4->dowhy==0.6) (1.1.0)\n"
     ]
    }
   ],
   "source": [
    "# Install and import a Python library\n",
    "!pip install dowhy==0.6\n",
    "import dowhy"
   ]
  },
  {
   "cell_type": "markdown",
   "metadata": {
    "id": "5jS5LtPBrEob"
   },
   "source": [
    "If many modules and libraries are already preinstalled, as in Colab, you can use `pip` to record the specific version of those modules and libraries. For example, the command `!pip freeze` returns installed modules and libraries listed in alphabetical order."
   ]
  },
  {
   "cell_type": "code",
   "execution_count": null,
   "metadata": {
    "id": "F0d-Sbo5NhOx"
   },
   "outputs": [],
   "source": [
    "# List installed packages - listed are both packages available with Colab and packages we have installed in this session (e.g. the library DoWhy)\n",
    "!pip freeze"
   ]
  },
  {
   "cell_type": "markdown",
   "metadata": {
    "id": "GiBeAE_PYVYS"
   },
   "source": [
    "You can access the version information about a particular package (e.g., numpy or pandas) using the `grep` command. `grep` is a command-line tool which searches for a pattern (in our case, the word `numpy` and the word `pandas`) and prints each line that matches the pattern."
   ]
  },
  {
   "cell_type": "code",
   "execution_count": 5,
   "metadata": {
    "colab": {
     "base_uri": "https://localhost:8080/"
    },
    "id": "TqBJv3AKOSht",
    "outputId": "441bd14f-c249-4747-b295-88e693995cc9"
   },
   "outputs": [
    {
     "name": "stdout",
     "output_type": "stream",
     "text": [
      "numpy @ file:///opt/concourse/worker/volumes/live/5572694e-967a-4c0c-52cf-b53d43e72de9/volume/numpy_and_numpy_base_1603491881791/work\n",
      "numpydoc @ file:///tmp/build/80754af9/numpydoc_1605117425582/work\n",
      "pandas @ file:///opt/concourse/worker/volumes/live/f14cf8c4-c564-4eff-4b17-158e90dbf88a/volume/pandas_1602088128240/work\n"
     ]
    }
   ],
   "source": [
    "# Return installed libraries that contain the text 'numpy' or 'pandas' in their name\n",
    "!pip freeze | grep numpy\n",
    "!pip freeze | grep pandas"
   ]
  },
  {
   "cell_type": "markdown",
   "metadata": {
    "id": "Seo-uaOjcSd4"
   },
   "source": [
    "As of April 2021, Colab uses `numpy` 1.19.5 and `pandas` 1.2.0. It is possible to install and import a different version, for example the latest version of pandas (1.2.4) (released on 12 April 2021) by executing the following command:\n",
    "\n",
    "```\n",
    "!pip install pandas==1.2.4\n",
    "import pandas as pd\n",
    "```\n",
    "\n",
    "For the `pip` approach for recording package dependencies to work, we need to keep track of each and all packages we use in a notebook. This may not always be the case, leaving open the possibility for undocumented dependencies in our notebook (when we fail to document one or more packages on which our data analysis depends on). To address this, you can use a notebook extension such as [`watermark`](https://github.com/rasbt/watermark) which will print out a list of your dependencies that are explicitly imported/used in your notebook. "
   ]
  },
  {
   "cell_type": "code",
   "execution_count": 12,
   "metadata": {
    "colab": {
     "base_uri": "https://localhost:8080/"
    },
    "id": "9unptKHirQpY",
    "outputId": "2c5210c5-33d3-4554-8474-15e7c693c780"
   },
   "outputs": [
    {
     "name": "stdout",
     "output_type": "stream",
     "text": [
      "Requirement already satisfied: watermark in /Users/valentindanchev/opt/anaconda3/lib/python3.8/site-packages (2.2.0)\n",
      "Requirement already satisfied: ipython in /Users/valentindanchev/opt/anaconda3/lib/python3.8/site-packages (from watermark) (7.19.0)\n",
      "Requirement already satisfied: traitlets>=4.2 in /Users/valentindanchev/opt/anaconda3/lib/python3.8/site-packages (from ipython->watermark) (5.0.5)\n",
      "Requirement already satisfied: pexpect>4.3 in /Users/valentindanchev/opt/anaconda3/lib/python3.8/site-packages (from ipython->watermark) (4.8.0)\n",
      "Requirement already satisfied: pickleshare in /Users/valentindanchev/opt/anaconda3/lib/python3.8/site-packages (from ipython->watermark) (0.7.5)\n",
      "Requirement already satisfied: appnope in /Users/valentindanchev/opt/anaconda3/lib/python3.8/site-packages (from ipython->watermark) (0.1.2)\n",
      "Requirement already satisfied: pygments in /Users/valentindanchev/opt/anaconda3/lib/python3.8/site-packages (from ipython->watermark) (2.7.2)\n",
      "Requirement already satisfied: jedi>=0.10 in /Users/valentindanchev/opt/anaconda3/lib/python3.8/site-packages (from ipython->watermark) (0.17.1)\n",
      "Requirement already satisfied: decorator in /Users/valentindanchev/opt/anaconda3/lib/python3.8/site-packages (from ipython->watermark) (4.4.2)\n",
      "Requirement already satisfied: backcall in /Users/valentindanchev/opt/anaconda3/lib/python3.8/site-packages (from ipython->watermark) (0.2.0)\n",
      "Requirement already satisfied: prompt-toolkit!=3.0.0,!=3.0.1,<3.1.0,>=2.0.0 in /Users/valentindanchev/opt/anaconda3/lib/python3.8/site-packages (from ipython->watermark) (3.0.8)\n",
      "Requirement already satisfied: setuptools>=18.5 in /Users/valentindanchev/opt/anaconda3/lib/python3.8/site-packages (from ipython->watermark) (50.3.2.post20201201)\n",
      "Requirement already satisfied: parso<0.8.0,>=0.7.0 in /Users/valentindanchev/opt/anaconda3/lib/python3.8/site-packages (from jedi>=0.10->ipython->watermark) (0.7.0)\n",
      "Requirement already satisfied: ptyprocess>=0.5 in /Users/valentindanchev/opt/anaconda3/lib/python3.8/site-packages (from pexpect>4.3->ipython->watermark) (0.6.0)\n",
      "Requirement already satisfied: wcwidth in /Users/valentindanchev/opt/anaconda3/lib/python3.8/site-packages (from prompt-toolkit!=3.0.0,!=3.0.1,<3.1.0,>=2.0.0->ipython->watermark) (0.2.5)\n",
      "Requirement already satisfied: ipython-genutils in /Users/valentindanchev/opt/anaconda3/lib/python3.8/site-packages (from traitlets>=4.2->ipython->watermark) (0.2.0)\n",
      "The watermark extension is already loaded. To reload it, use:\n",
      "  %reload_ext watermark\n",
      "dowhy: 0.6\n",
      "\n"
     ]
    }
   ],
   "source": [
    "# Install the watermark extension\n",
    "!pip install watermark\n",
    "\n",
    "# Load the watermark extension\n",
    "%load_ext watermark\n",
    "\n",
    "# Show packages that were imported\n",
    "%watermark --iversions"
   ]
  },
  {
   "cell_type": "markdown",
   "metadata": {
    "id": "D5nznyA-rTnp"
   },
   "source": [
    "Once you identify the versions of all dependencies in your notebook, it is a good practice to list them at the bottom of your notebook. In addition, the information is often stored in a `requirements.txt` file on a GitHub repository. The file simply lists all of your package dependencies and their versions in the following format: \n",
    "\n",
    "```\n",
    "IPython==5.5.0\n",
    "pandas==1.2.0\n",
    "dowhy==0.6\n",
    "```\n",
    "\n",
    "The dependency file can be then used by tools like [Binder](https://mybinder.org) to build a [Docker container](https://www.docker.com/resources/what-container) that bundles the same packages and versions you have used in your data analysis, making your code immediately reproducible by others irrespective of their computational environment (e.g., operating system or software  versions). Reproducing your computational environment is a precondition for others to be able to reproduce your data analysis."
   ]
  }
 ],
 "metadata": {
  "colab": {
   "collapsed_sections": [],
   "name": "Copy of OpenReproducibleResearchWorkflow.ipynb",
   "provenance": []
  },
  "kernelspec": {
   "display_name": "Python 3",
   "language": "python",
   "name": "python3"
  },
  "language_info": {
   "codemirror_mode": {
    "name": "ipython",
    "version": 3
   },
   "file_extension": ".py",
   "mimetype": "text/x-python",
   "name": "python",
   "nbconvert_exporter": "python",
   "pygments_lexer": "ipython3",
   "version": "3.8.5"
  },
  "toc-autonumbering": false,
  "toc-showcode": false,
  "toc-showmarkdowntxt": false
 },
 "nbformat": 4,
 "nbformat_minor": 4
}
